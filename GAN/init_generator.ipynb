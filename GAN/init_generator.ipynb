{
 "cells": [
  {
   "cell_type": "code",
   "execution_count": 252,
   "metadata": {},
   "outputs": [],
   "source": [
    "import torch\n",
    "from torch import embedding, nn\n",
    "import torch.nn.functional as F\n",
    "import torch.optim as optim\n",
    "import random\n",
    "import time\n",
    "from tqdm import tqdm\n",
    "from unet import UNet\n",
    "from baseline import FaceRecognizer\n",
    "from preprocessing import *\n",
    "# train_data: tuple of length 320, each is a matrix represents a picture\n",
    "# train_target: tuple of length 320, each is a label\n",
    "# For training, there are 40 classes, each has 7 pictures\n",
    "# For testing, there are 40 classes, each has 3 pictures"
   ]
  },
  {
   "cell_type": "code",
   "execution_count": 268,
   "metadata": {},
   "outputs": [],
   "source": [
    "attack_targets = torch.tensor([[0],[1],[2],[3],[4],[5],[6],[7],[8],[9]]) # the label of person to generate his image\n",
    "faceRecognizer = FaceRecognizer()\n",
    "faceRecognizer.load_state_dict(torch.load('best_model.pt'))\n",
    "# init generator\n",
    "generator = UNet(n_channels=1, n_classes=len(attack_targets))\n",
    "\n",
    "# We use this as input of generator\n",
    "# gan_input = (torch.sum(train_data, axis=0)+torch.sum(test_data, axis=0))/400 # avergae image\n"
   ]
  },
  {
   "cell_type": "code",
   "execution_count": 269,
   "metadata": {},
   "outputs": [
    {
     "data": {
      "text/plain": [
       "torch.Size([10, 1])"
      ]
     },
     "execution_count": 269,
     "metadata": {},
     "output_type": "execute_result"
    }
   ],
   "source": [
    "attack_targets.shape"
   ]
  },
  {
   "cell_type": "code",
   "execution_count": 270,
   "metadata": {},
   "outputs": [],
   "source": [
    "def train_generator_1ep(generator, faceRecognizer, attack_targets, optimizer, criterion):  \n",
    "    gan_input = torch.normal(0, 1, size=(1,1,64, 64)) # noise\n",
    "    faceRecognizer.eval()\n",
    "    generator.train()\n",
    "    optimizer.zero_grad()\n",
    "    generated_imgs = generator.forward(gan_input)\n",
    "    loss = 0\n",
    "    for i in range(attack_targets.shape[0]):\n",
    "        z = faceRecognizer.forward(generated_imgs[0][i].reshape(1,1,64,64))\n",
    "        loss+=criterion(z,attack_targets[i])\n",
    "    loss.backward()\n",
    "    optimizer.step()\n",
    "    epoch_loss = loss.item()/len(attack_targets)\n",
    "\n",
    "    return epoch_loss"
   ]
  },
  {
   "cell_type": "code",
   "execution_count": 292,
   "metadata": {},
   "outputs": [],
   "source": [
    "def train_generator(eps, lr, reg, lr_decay):\n",
    "    for epoch in range(eps): \n",
    "        optimizer = optim.SGD(generator.parameters(), lr=lr*lr_decay**epoch, momentum=0.9, weight_decay=reg, nesterov=False)\n",
    "        criterion = nn.CrossEntropyLoss(reduction = 'sum')\n",
    "        epoch_loss = 0\n",
    "        epoch_loss += train_generator_1ep(generator, faceRecognizer, attack_targets, optimizer, criterion)\n",
    "        print(\"loss(generator): \", epoch_loss)\n"
   ]
  },
  {
   "cell_type": "code",
   "execution_count": 298,
   "metadata": {},
   "outputs": [
    {
     "name": "stdout",
     "output_type": "stream",
     "text": [
      "loss(generator):  0.007165399193763733\n",
      "loss(generator):  0.009656576067209243\n",
      "loss(generator):  0.00574973076581955\n",
      "loss(generator):  0.008493182808160782\n",
      "loss(generator):  0.007342436164617538\n",
      "loss(generator):  0.007694600522518158\n",
      "loss(generator):  0.008252706378698349\n",
      "loss(generator):  0.006285062432289124\n",
      "loss(generator):  0.008525922149419784\n",
      "loss(generator):  0.006396100670099258\n",
      "loss(generator):  0.008385749906301499\n",
      "loss(generator):  0.008023152500391007\n",
      "loss(generator):  0.006834007054567337\n",
      "loss(generator):  0.010725168138742447\n",
      "loss(generator):  0.006599949300289154\n",
      "loss(generator):  0.0070820324122905735\n",
      "loss(generator):  0.005211392417550087\n",
      "loss(generator):  0.007002658396959305\n",
      "loss(generator):  0.008840028196573257\n",
      "loss(generator):  0.006927426159381867\n",
      "loss(generator):  0.009049684554338456\n",
      "loss(generator):  0.006786101311445236\n",
      "loss(generator):  0.007627572864294052\n",
      "loss(generator):  0.005860912799835205\n",
      "loss(generator):  0.00706358477473259\n",
      "loss(generator):  0.005555057153105736\n",
      "loss(generator):  0.0078900545835495\n",
      "loss(generator):  0.007007032632827759\n",
      "loss(generator):  0.006280715018510819\n",
      "loss(generator):  0.007474939525127411\n",
      "loss(generator):  0.00650360956788063\n",
      "loss(generator):  0.0057246599346399306\n",
      "loss(generator):  0.006733006983995438\n",
      "loss(generator):  0.0055652432143688205\n",
      "loss(generator):  0.006825253367424011\n",
      "loss(generator):  0.006066334247589111\n",
      "loss(generator):  0.006067352369427681\n",
      "loss(generator):  0.005397534742951393\n",
      "loss(generator):  0.007309138774871826\n",
      "loss(generator):  0.006788203120231628\n",
      "loss(generator):  0.005770718306303024\n",
      "loss(generator):  0.007531594485044479\n",
      "loss(generator):  0.007373260706663132\n",
      "loss(generator):  0.006017931178212166\n",
      "loss(generator):  0.004481884092092514\n",
      "loss(generator):  0.004544376954436302\n",
      "loss(generator):  0.005053829401731491\n",
      "loss(generator):  0.006039705127477646\n",
      "loss(generator):  0.005634027719497681\n",
      "loss(generator):  0.00567362941801548\n",
      "loss(generator):  0.006057197228074074\n",
      "loss(generator):  0.0051865879446268085\n",
      "loss(generator):  0.006625811755657196\n",
      "loss(generator):  0.006260885298252106\n",
      "loss(generator):  0.005882103368639946\n",
      "loss(generator):  0.005687456578016281\n",
      "loss(generator):  0.005194103717803955\n",
      "loss(generator):  0.006665379554033279\n",
      "loss(generator):  0.0053862366825342175\n",
      "loss(generator):  0.0059176005423069\n",
      "loss(generator):  0.005931077897548676\n",
      "loss(generator):  0.0054162215441465374\n",
      "loss(generator):  0.005356653034687043\n",
      "loss(generator):  0.006074384599924087\n",
      "loss(generator):  0.0052783418446779255\n",
      "loss(generator):  0.00601830817759037\n",
      "loss(generator):  0.00492180660367012\n",
      "loss(generator):  0.006546972692012787\n",
      "loss(generator):  0.0058627896010875705\n",
      "loss(generator):  0.006640272587537766\n",
      "loss(generator):  0.005992209911346436\n",
      "loss(generator):  0.005099062249064446\n",
      "loss(generator):  0.005530955642461777\n",
      "loss(generator):  0.0056905742734670636\n",
      "loss(generator):  0.004569723829627037\n",
      "loss(generator):  0.005128713324666023\n",
      "loss(generator):  0.005039621144533157\n",
      "loss(generator):  0.005012349039316177\n",
      "loss(generator):  0.005005393922328949\n",
      "loss(generator):  0.005127608776092529\n",
      "loss(generator):  0.006271062046289444\n",
      "loss(generator):  0.005655765905976296\n",
      "loss(generator):  0.006273389607667923\n",
      "loss(generator):  0.0051746081560850145\n",
      "loss(generator):  0.006410861760377884\n",
      "loss(generator):  0.004295672476291657\n",
      "loss(generator):  0.004815898835659027\n",
      "loss(generator):  0.004260249063372612\n",
      "loss(generator):  0.005956322699785232\n",
      "loss(generator):  0.0062711238861083984\n",
      "loss(generator):  0.005497093871235847\n",
      "loss(generator):  0.005619670078158378\n",
      "loss(generator):  0.005832222476601601\n",
      "loss(generator):  0.005091077834367752\n",
      "loss(generator):  0.004422181844711303\n",
      "loss(generator):  0.005739416554570198\n",
      "loss(generator):  0.006163905188441276\n",
      "loss(generator):  0.006076570227742195\n",
      "loss(generator):  0.004618169739842415\n",
      "loss(generator):  0.006919443607330322\n"
     ]
    }
   ],
   "source": [
    "train_generator(100, 0.001, 0.001, 0.99)"
   ]
  },
  {
   "cell_type": "code",
   "execution_count": 299,
   "metadata": {},
   "outputs": [],
   "source": [
    "def genrated_image(target):\n",
    "    gan_input = torch.normal(0, 1, size=(1,1,64, 64)) # noise\n",
    "    x = generator.forward(gan_input)\n",
    "    tensor_to_picture(x[0][target].detach().numpy())"
   ]
  },
  {
   "cell_type": "code",
   "execution_count": 300,
   "metadata": {},
   "outputs": [],
   "source": [
    "def genrated_confidence(target):\n",
    "    gan_input = torch.normal(0, 1, size=(1,1,64, 64)) # noise\n",
    "    x = generator.forward(gan_input)\n",
    "    print(torch.softmax(faceRecognizer.forward(x[0][target].reshape(1,1,64,64)), -1))"
   ]
  },
  {
   "cell_type": "code",
   "execution_count": 316,
   "metadata": {},
   "outputs": [
    {
     "data": {
      "image/png": "[encoded data removed]",
      "text/plain": [
       "<Figure size 640x480 with 1 Axes>"
      ]
     },
     "metadata": {},
     "output_type": "display_data"
    }
   ],
   "source": [
    "genrated_image(5)"
   ]
  },
  {
   "cell_type": "code",
   "execution_count": 320,
   "metadata": {},
   "outputs": [
    {
     "name": "stdout",
     "output_type": "stream",
     "text": [
      "tensor([[7.3876e-04, 1.8565e-04, 1.3240e-04, 4.7107e-04, 8.4730e-04, 9.9032e-01,\n",
      "         7.1898e-04, 5.4395e-04, 1.5695e-04, 1.5425e-04, 1.4938e-04, 8.0385e-05,\n",
      "         3.0049e-04, 7.2670e-05, 7.0656e-05, 1.0360e-03, 2.9401e-04, 4.8216e-04,\n",
      "         5.6301e-05, 9.2926e-05, 1.0756e-05, 4.8884e-05, 3.9461e-04, 2.5683e-05,\n",
      "         3.2123e-04, 3.3926e-04, 7.1256e-05, 7.4684e-05, 2.7863e-05, 3.3396e-05,\n",
      "         7.7929e-05, 4.9568e-04, 1.0631e-04, 6.1210e-05, 8.0737e-05, 3.1956e-04,\n",
      "         5.7492e-05, 2.2956e-04, 3.3149e-05, 2.8367e-04]],\n",
      "       grad_fn=<SoftmaxBackward>)\n"
     ]
    }
   ],
   "source": [
    "genrated_confidence(5)"
   ]
  },
  {
   "cell_type": "code",
   "execution_count": 305,
   "metadata": {},
   "outputs": [],
   "source": [
    "torch.save(generator.state_dict(), 'best_generator.pt')"
   ]
  },
  {
   "cell_type": "code",
   "execution_count": null,
   "metadata": {},
   "outputs": [],
   "source": []
  }
 ],
 "metadata": {
  "kernelspec": {
   "display_name": "Python 3",
   "language": "python",
   "name": "python3"
  },
  "language_info": {
   "codemirror_mode": {
    "name": "ipython",
    "version": 3
   },
   "file_extension": ".py",
   "mimetype": "text/x-python",
   "name": "python",
   "nbconvert_exporter": "python",
   "pygments_lexer": "ipython3",
   "version": "3.7.6"
  }
 },
 "nbformat": 4,
 "nbformat_minor": 4
}
