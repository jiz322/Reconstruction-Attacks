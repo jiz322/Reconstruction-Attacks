{
 "cells": [
  {
   "cell_type": "code",
   "execution_count": 1,
   "metadata": {},
   "outputs": [],
   "source": [
    "from preprocessing_last20 import *\n",
    "import torch.optim as optim\n",
    "import torch.nn as nn\n",
    "from tqdm import tqdm\n",
    "from mindiffusion.ddpm import DDPM\n",
    "from mindiffusion.unet import NaiveUnet\n",
    "from d2c_encoder import D2CEncoder\n",
    "from d2c_decoder import D2CDecoder\n",
    "device = torch.device('cuda:0')\n",
    "train_data = train_data.to(device)\n",
    "test_data = test_data.to(device)"
   ]
  },
  {
   "cell_type": "code",
   "execution_count": 2,
   "metadata": {},
   "outputs": [],
   "source": [
    "ddpm = DDPM(eps_model=NaiveUnet(16, 16, n_feat=128), betas=(1e-4, 0.02), n_T=200).to(device)\n",
    "encoder = D2CEncoder().to(device)\n",
    "decoder = D2CDecoder().to(device)\n",
    "MSE = nn.MSELoss()"
   ]
  },
  {
   "cell_type": "code",
   "execution_count": 3,
   "metadata": {},
   "outputs": [],
   "source": [
    "def train_1_ep_d2c(num_epoch, optim_e, optim_g, optim_d, alpha):\n",
    "\n",
    "    print(f\"Epoch {num_epoch} : \")\n",
    "    ddpm.train()\n",
    "    encoder.train()\n",
    "    decoder.train()\n",
    "    \n",
    "    # batch of size 4\n",
    "    train_data_tmp = train_data[torch.randperm(train_data.size()[0])]\n",
    "    train_data_tmp = train_data_tmp.reshape(50, 4, 1, 64, 64)\n",
    "    \n",
    "    for i in tqdm(range(train_data_tmp.shape[0])):\n",
    "        optim_e.zero_grad()\n",
    "        optim_g.zero_grad()\n",
    "        optim_d.zero_grad()\n",
    "        z = encoder(train_data_tmp[i])\n",
    "        l_d, denoised_z = ddpm.forward(z, True)\n",
    "        l_e = MSE(z, denoised_z)\n",
    "        l_g = MSE(train_data_tmp[i], decoder(denoised_z))\n",
    "        loss = l_d+l_e+l_g*alpha\n",
    "        loss.backward()\n",
    "\n",
    "        optim_e.step()\n",
    "        optim_g.step()\n",
    "        optim_d.step()\n",
    "    print('loss: ',loss.item(), \" l_d: \", l_d.item(), \" l_e: \", l_e.item(), \" l_g: \", l_g.item())\n",
    "    if num_epoch%20 == 0:\n",
    "        ddpm.eval()\n",
    "        with torch.no_grad():\n",
    "            xh = decoder(ddpm.sample(1, (16, 32, 32), device))\n",
    "            tensor_to_picture(xh.detach().cpu().numpy()[0][0])\n",
    "\n",
    "    # save model\n",
    "    torch.save(ddpm.state_dict(), f\"./d2c.pth\")"
   ]
  },
  {
   "cell_type": "code",
   "execution_count": 9,
   "metadata": {},
   "outputs": [],
   "source": [
    "def test_d2c(encoder, decoder, diffusion, i):  \n",
    "#     gan_input = torch.normal(0, 1, size=(1,1,64, 64)) # noise\n",
    "    encoder.eval()\n",
    "    decoder.eval()\n",
    "    diffusion.eval()\n",
    "    tensor_to_picture(decoder(encoder(test_data[i])).detach().cpu().numpy()[0][0])"
   ]
  },
  {
   "cell_type": "code",
   "execution_count": 4,
   "metadata": {},
   "outputs": [],
   "source": [
    "def train_d2c(epoch, lr, lr_decay, reg, alpha):\n",
    "    for i in range(epoch):\n",
    "        \n",
    "        optim_e = torch.optim.SGD(encoder.parameters(), lr=lr*lr_decay**i, momentum=0.9, weight_decay=reg)\n",
    "        optim_g = torch.optim.SGD(decoder.parameters(), lr=lr*lr_decay**i, momentum=0.9, weight_decay=reg)\n",
    "        optim_d = torch.optim.SGD(ddpm.parameters(), lr=lr*lr_decay**i, momentum=0.9, weight_decay=reg)\n",
    "        train_1_ep_d2c(i, optim_e, optim_g, optim_d, alpha)"
   ]
  },
  {
   "cell_type": "code",
   "execution_count": 5,
   "metadata": {
    "scrolled": true
   },
   "outputs": [
    {
     "name": "stdout",
     "output_type": "stream",
     "text": [
      "Epoch 0 : \n"
     ]
    },
    {
     "name": "stderr",
     "output_type": "stream",
     "text": [
      "100%|██████████| 50/50 [00:04<00:00, 11.76it/s]\n"
     ]
    },
    {
     "name": "stdout",
     "output_type": "stream",
     "text": [
      "loss:  3.2023863792419434  l_d:  0.8072885870933533  l_e:  0.8072885870933533  l_g:  0.7939045429229736\n"
     ]
    },
    {
     "data": {
      "image/png": "[encoded data removed]",
      "text/plain": [
       "<Figure size 640x480 with 1 Axes>"
      ]
     },
     "metadata": {},
     "output_type": "display_data"
    },
    {
     "name": "stdout",
     "output_type": "stream",
     "text": [
      "Epoch 1 : \n"
     ]
    },
    {
     "name": "stderr",
     "output_type": "stream",
     "text": [
      "100%|██████████| 50/50 [00:04<00:00, 12.49it/s]\n"
     ]
    },
    {
     "name": "stdout",
     "output_type": "stream",
     "text": [
      "loss:  3.621321439743042  l_d:  0.6408308744430542  l_e:  0.6408308744430542  l_g:  1.1698298454284668\n",
      "Epoch 2 : \n"
     ]
    },
    {
     "name": "stderr",
     "output_type": "stream",
     "text": [
      "100%|██████████| 50/50 [00:03<00:00, 12.94it/s]\n"
     ]
    },
    {
     "name": "stdout",
     "output_type": "stream",
     "text": [
      "loss:  2.379467487335205  l_d:  0.5445421934127808  l_e:  0.5445421934127808  l_g:  0.6451915502548218\n",
      "Epoch 3 : \n"
     ]
    },
    {
     "name": "stderr",
     "output_type": "stream",
     "text": [
      "100%|██████████| 50/50 [00:03<00:00, 13.05it/s]\n"
     ]
    },
    {
     "name": "stdout",
     "output_type": "stream",
     "text": [
      "loss:  2.284856081008911  l_d:  0.4586307108402252  l_e:  0.4586307108402252  l_g:  0.683797299861908\n",
      "Epoch 4 : \n"
     ]
    },
    {
     "name": "stderr",
     "output_type": "stream",
     "text": [
      "100%|██████████| 50/50 [00:04<00:00, 11.87it/s]\n"
     ]
    },
    {
     "name": "stdout",
     "output_type": "stream",
     "text": [
      "loss:  1.5484695434570312  l_d:  0.3885348439216614  l_e:  0.3885347843170166  l_g:  0.38569992780685425\n",
      "Epoch 5 : \n"
     ]
    },
    {
     "name": "stderr",
     "output_type": "stream",
     "text": [
      "100%|██████████| 50/50 [00:03<00:00, 15.05it/s]\n"
     ]
    },
    {
     "name": "stdout",
     "output_type": "stream",
     "text": [
      "loss:  1.5040206909179688  l_d:  0.36808061599731445  l_e:  0.36808061599731445  l_g:  0.3839297294616699\n",
      "Epoch 6 : \n"
     ]
    },
    {
     "name": "stderr",
     "output_type": "stream",
     "text": [
      "100%|██████████| 50/50 [00:03<00:00, 14.55it/s]\n"
     ]
    },
    {
     "name": "stdout",
     "output_type": "stream",
     "text": [
      "loss:  1.2017130851745605  l_d:  0.3380719721317291  l_e:  0.3380719721317291  l_g:  0.26278460025787354\n",
      "Epoch 7 : \n"
     ]
    },
    {
     "name": "stderr",
     "output_type": "stream",
     "text": [
      "100%|██████████| 50/50 [00:03<00:00, 14.68it/s]\n"
     ]
    },
    {
     "name": "stdout",
     "output_type": "stream",
     "text": [
      "loss:  1.1086008548736572  l_d:  0.24212904274463654  l_e:  0.24212904274463654  l_g:  0.31217139959335327\n",
      "Epoch 8 : \n"
     ]
    },
    {
     "name": "stderr",
     "output_type": "stream",
     "text": [
      "100%|██████████| 50/50 [00:03<00:00, 16.07it/s]\n"
     ]
    },
    {
     "name": "stdout",
     "output_type": "stream",
     "text": [
      "loss:  1.2038923501968384  l_d:  0.29326295852661133  l_e:  0.29326295852661133  l_g:  0.30868321657180786\n",
      "Epoch 9 : \n"
     ]
    },
    {
     "name": "stderr",
     "output_type": "stream",
     "text": [
      "100%|██████████| 50/50 [00:03<00:00, 15.26it/s]\n"
     ]
    },
    {
     "name": "stdout",
     "output_type": "stream",
     "text": [
      "loss:  1.003037452697754  l_d:  0.218694806098938  l_e:  0.218694806098938  l_g:  0.28282395005226135\n",
      "Epoch 10 : \n"
     ]
    },
    {
     "name": "stderr",
     "output_type": "stream",
     "text": [
      "100%|██████████| 50/50 [00:03<00:00, 14.45it/s]\n"
     ]
    },
    {
     "name": "stdout",
     "output_type": "stream",
     "text": [
      "loss:  0.8785495758056641  l_d:  0.1942042112350464  l_e:  0.1942042112350464  l_g:  0.24507057666778564\n",
      "Epoch 11 : \n"
     ]
    },
    {
     "name": "stderr",
     "output_type": "stream",
     "text": [
      "100%|██████████| 50/50 [00:03<00:00, 15.96it/s]\n"
     ]
    },
    {
     "name": "stdout",
     "output_type": "stream",
     "text": [
      "loss:  1.0222444534301758  l_d:  0.1863653063774109  l_e:  0.1863653063774109  l_g:  0.324756920337677\n",
      "Epoch 12 : \n"
     ]
    },
    {
     "name": "stderr",
     "output_type": "stream",
     "text": [
      "100%|██████████| 50/50 [00:03<00:00, 14.67it/s]\n"
     ]
    },
    {
     "name": "stdout",
     "output_type": "stream",
     "text": [
      "loss:  0.9641649723052979  l_d:  0.22986532747745514  l_e:  0.22986531257629395  l_g:  0.252217173576355\n",
      "Epoch 13 : \n"
     ]
    },
    {
     "name": "stderr",
     "output_type": "stream",
     "text": [
      "100%|██████████| 50/50 [00:03<00:00, 14.86it/s]\n"
     ]
    },
    {
     "name": "stdout",
     "output_type": "stream",
     "text": [
      "loss:  0.7451335191726685  l_d:  0.17543229460716248  l_e:  0.17543229460716248  l_g:  0.19713446497917175\n",
      "Epoch 14 : \n"
     ]
    },
    {
     "name": "stderr",
     "output_type": "stream",
     "text": [
      "100%|██████████| 50/50 [00:03<00:00, 14.28it/s]\n"
     ]
    },
    {
     "name": "stdout",
     "output_type": "stream",
     "text": [
      "loss:  0.8397989273071289  l_d:  0.18871575593948364  l_e:  0.18871575593948364  l_g:  0.2311837077140808\n",
      "Epoch 15 : \n"
     ]
    },
    {
     "name": "stderr",
     "output_type": "stream",
     "text": [
      "100%|██████████| 50/50 [00:03<00:00, 14.73it/s]\n"
     ]
    },
    {
     "name": "stdout",
     "output_type": "stream",
     "text": [
      "loss:  0.8207336664199829  l_d:  0.1548762172460556  l_e:  0.1548762172460556  l_g:  0.25549060106277466\n",
      "Epoch 16 : \n"
     ]
    },
    {
     "name": "stderr",
     "output_type": "stream",
     "text": [
      "100%|██████████| 50/50 [00:03<00:00, 14.76it/s]\n"
     ]
    },
    {
     "name": "stdout",
     "output_type": "stream",
     "text": [
      "loss:  0.8775299191474915  l_d:  0.17081138491630554  l_e:  0.17081138491630554  l_g:  0.2679535746574402\n",
      "Epoch 17 : \n"
     ]
    },
    {
     "name": "stderr",
     "output_type": "stream",
     "text": [
      "100%|██████████| 50/50 [00:03<00:00, 14.71it/s]\n"
     ]
    },
    {
     "name": "stdout",
     "output_type": "stream",
     "text": [
      "loss:  0.6770116090774536  l_d:  0.13682004809379578  l_e:  0.13682004809379578  l_g:  0.20168575644493103\n",
      "Epoch 18 : \n"
     ]
    },
    {
     "name": "stderr",
     "output_type": "stream",
     "text": [
      "100%|██████████| 50/50 [00:03<00:00, 16.11it/s]\n"
     ]
    },
    {
     "name": "stdout",
     "output_type": "stream",
     "text": [
      "loss:  0.7150959968566895  l_d:  0.1693669706583023  l_e:  0.1693669706583023  l_g:  0.18818101286888123\n",
      "Epoch 19 : \n"
     ]
    },
    {
     "name": "stderr",
     "output_type": "stream",
     "text": [
      "100%|██████████| 50/50 [00:03<00:00, 14.28it/s]\n"
     ]
    },
    {
     "name": "stdout",
     "output_type": "stream",
     "text": [
      "loss:  0.6535770893096924  l_d:  0.13859102129936218  l_e:  0.13859102129936218  l_g:  0.188197523355484\n",
      "Epoch 20 : \n"
     ]
    },
    {
     "name": "stderr",
     "output_type": "stream",
     "text": [
      "100%|██████████| 50/50 [00:03<00:00, 14.29it/s]\n"
     ]
    },
    {
     "name": "stdout",
     "output_type": "stream",
     "text": [
      "loss:  0.8437310457229614  l_d:  0.12909254431724548  l_e:  0.12909254431724548  l_g:  0.29277297854423523\n"
     ]
    },
    {
     "data": {
      "image/png": "[encoded data removed]",
      "text/plain": [
       "<Figure size 640x480 with 1 Axes>"
      ]
     },
     "metadata": {},
     "output_type": "display_data"
    },
    {
     "name": "stdout",
     "output_type": "stream",
     "text": [
      "Epoch 21 : \n"
     ]
    },
    {
     "name": "stderr",
     "output_type": "stream",
     "text": [
      "100%|██████████| 50/50 [00:03<00:00, 15.11it/s]\n"
     ]
    },
    {
     "name": "stdout",
     "output_type": "stream",
     "text": [
      "loss:  1.0433796644210815  l_d:  0.26994937658309937  l_e:  0.26994937658309937  l_g:  0.2517404556274414\n",
      "Epoch 22 : \n"
     ]
    },
    {
     "name": "stderr",
     "output_type": "stream",
     "text": [
      "100%|██████████| 50/50 [00:03<00:00, 14.72it/s]\n"
     ]
    },
    {
     "name": "stdout",
     "output_type": "stream",
     "text": [
      "loss:  0.6585806608200073  l_d:  0.12144188582897186  l_e:  0.12144188582897186  l_g:  0.2078484445810318\n",
      "Epoch 23 : \n"
     ]
    },
    {
     "name": "stderr",
     "output_type": "stream",
     "text": [
      "100%|██████████| 50/50 [00:03<00:00, 14.38it/s]\n"
     ]
    },
    {
     "name": "stdout",
     "output_type": "stream",
     "text": [
      "loss:  0.8086774349212646  l_d:  0.17655518651008606  l_e:  0.17655518651008606  l_g:  0.22778353095054626\n",
      "Epoch 24 : \n"
     ]
    },
    {
     "name": "stderr",
     "output_type": "stream",
     "text": [
      "100%|██████████| 50/50 [00:03<00:00, 14.58it/s]\n"
     ]
    },
    {
     "name": "stdout",
     "output_type": "stream",
     "text": [
      "loss:  0.6586500406265259  l_d:  0.11754114925861359  l_e:  0.11754114925861359  l_g:  0.21178387105464935\n",
      "Epoch 25 : \n"
     ]
    },
    {
     "name": "stderr",
     "output_type": "stream",
     "text": [
      "100%|██████████| 50/50 [00:03<00:00, 15.62it/s]\n"
     ]
    },
    {
     "name": "stdout",
     "output_type": "stream",
     "text": [
      "loss:  0.7300561666488647  l_d:  0.11261643469333649  l_e:  0.11261643469333649  l_g:  0.2524116635322571\n",
      "Epoch 26 : \n"
     ]
    },
    {
     "name": "stderr",
     "output_type": "stream",
     "text": [
      "100%|██████████| 50/50 [00:03<00:00, 14.50it/s]\n"
     ]
    },
    {
     "name": "stdout",
     "output_type": "stream",
     "text": [
      "loss:  0.7257639169692993  l_d:  0.18574267625808716  l_e:  0.18574267625808716  l_g:  0.1771392822265625\n",
      "Epoch 27 : \n"
     ]
    },
    {
     "name": "stderr",
     "output_type": "stream",
     "text": [
      "100%|██████████| 50/50 [00:03<00:00, 14.90it/s]\n"
     ]
    },
    {
     "name": "stdout",
     "output_type": "stream",
     "text": [
      "loss:  0.567441463470459  l_d:  0.11090622842311859  l_e:  0.11090622842311859  l_g:  0.1728144884109497\n",
      "Epoch 28 : \n"
     ]
    },
    {
     "name": "stderr",
     "output_type": "stream",
     "text": [
      "100%|██████████| 50/50 [00:03<00:00, 15.05it/s]\n"
     ]
    },
    {
     "name": "stdout",
     "output_type": "stream",
     "text": [
      "loss:  0.7155239582061768  l_d:  0.10857556760311127  l_e:  0.10857556760311127  l_g:  0.2491864264011383\n",
      "Epoch 29 : \n"
     ]
    },
    {
     "name": "stderr",
     "output_type": "stream",
     "text": [
      "100%|██████████| 50/50 [00:03<00:00, 14.91it/s]\n"
     ]
    },
    {
     "name": "stdout",
     "output_type": "stream",
     "text": [
      "loss:  0.6577538847923279  l_d:  0.1284809708595276  l_e:  0.1284809708595276  l_g:  0.20039597153663635\n",
      "Epoch 30 : \n"
     ]
    },
    {
     "name": "stderr",
     "output_type": "stream",
     "text": [
      "100%|██████████| 50/50 [00:03<00:00, 14.03it/s]\n"
     ]
    },
    {
     "name": "stdout",
     "output_type": "stream",
     "text": [
      "loss:  0.7306768894195557  l_d:  0.10603772103786469  l_e:  0.10603772103786469  l_g:  0.25930073857307434\n",
      "Epoch 31 : \n"
     ]
    },
    {
     "name": "stderr",
     "output_type": "stream",
     "text": [
      "100%|██████████| 50/50 [00:03<00:00, 15.47it/s]\n"
     ]
    },
    {
     "name": "stdout",
     "output_type": "stream",
     "text": [
      "loss:  0.7502115964889526  l_d:  0.11836148053407669  l_e:  0.11836148053407669  l_g:  0.2567443251609802\n",
      "Epoch 32 : \n"
     ]
    },
    {
     "name": "stderr",
     "output_type": "stream",
     "text": [
      "100%|██████████| 50/50 [00:03<00:00, 14.88it/s]\n"
     ]
    },
    {
     "name": "stdout",
     "output_type": "stream",
     "text": [
      "loss:  0.5511940121650696  l_d:  0.1050001010298729  l_e:  0.1050001010298729  l_g:  0.1705968976020813\n",
      "Epoch 33 : \n"
     ]
    },
    {
     "name": "stderr",
     "output_type": "stream",
     "text": [
      "100%|██████████| 50/50 [00:03<00:00, 15.23it/s]\n"
     ]
    },
    {
     "name": "stdout",
     "output_type": "stream",
     "text": [
      "loss:  0.7470647096633911  l_d:  0.12721918523311615  l_e:  0.12721920013427734  l_g:  0.24631313979625702\n",
      "Epoch 34 : \n"
     ]
    },
    {
     "name": "stderr",
     "output_type": "stream",
     "text": [
      "100%|██████████| 50/50 [00:03<00:00, 14.60it/s]\n"
     ]
    },
    {
     "name": "stdout",
     "output_type": "stream",
     "text": [
      "loss:  0.5069077014923096  l_d:  0.09936781227588654  l_e:  0.09936781227588654  l_g:  0.15408605337142944\n",
      "Epoch 35 : \n"
     ]
    },
    {
     "name": "stderr",
     "output_type": "stream",
     "text": [
      "100%|██████████| 50/50 [00:03<00:00, 14.72it/s]\n"
     ]
    },
    {
     "name": "stdout",
     "output_type": "stream",
     "text": [
      "loss:  0.6799191832542419  l_d:  0.10073058307170868  l_e:  0.10073058307170868  l_g:  0.2392290085554123\n",
      "Epoch 36 : \n"
     ]
    },
    {
     "name": "stderr",
     "output_type": "stream",
     "text": [
      "100%|██████████| 50/50 [00:03<00:00, 14.88it/s]\n"
     ]
    },
    {
     "name": "stdout",
     "output_type": "stream",
     "text": [
      "loss:  0.5847619771957397  l_d:  0.13157811760902405  l_e:  0.13157811760902405  l_g:  0.16080287098884583\n",
      "Epoch 37 : \n"
     ]
    },
    {
     "name": "stderr",
     "output_type": "stream",
     "text": [
      "100%|██████████| 50/50 [00:03<00:00, 14.57it/s]\n"
     ]
    },
    {
     "name": "stdout",
     "output_type": "stream",
     "text": [
      "loss:  0.7770857214927673  l_d:  0.13117915391921997  l_e:  0.13117913901805878  l_g:  0.2573637068271637\n",
      "Epoch 38 : \n"
     ]
    },
    {
     "name": "stderr",
     "output_type": "stream",
     "text": [
      "100%|██████████| 50/50 [00:03<00:00, 14.96it/s]\n"
     ]
    },
    {
     "name": "stdout",
     "output_type": "stream",
     "text": [
      "loss:  0.5942546129226685  l_d:  0.09646899998188019  l_e:  0.09646899998188019  l_g:  0.20065830647945404\n",
      "Epoch 39 : \n"
     ]
    },
    {
     "name": "stderr",
     "output_type": "stream",
     "text": [
      "100%|██████████| 50/50 [00:03<00:00, 14.36it/s]\n"
     ]
    },
    {
     "name": "stdout",
     "output_type": "stream",
     "text": [
      "loss:  0.5789998769760132  l_d:  0.09512223303318024  l_e:  0.09512223303318024  l_g:  0.19437769055366516\n",
      "Epoch 40 : \n"
     ]
    },
    {
     "name": "stderr",
     "output_type": "stream",
     "text": [
      "100%|██████████| 50/50 [00:03<00:00, 14.86it/s]\n"
     ]
    },
    {
     "name": "stdout",
     "output_type": "stream",
     "text": [
      "loss:  0.7406220436096191  l_d:  0.09612397849559784  l_e:  0.09612397849559784  l_g:  0.27418702840805054\n"
     ]
    },
    {
     "data": {
      "image/png": "[encoded data removed]",
      "text/plain": [
       "<Figure size 640x480 with 1 Axes>"
      ]
     },
     "metadata": {},
     "output_type": "display_data"
    },
    {
     "name": "stdout",
     "output_type": "stream",
     "text": [
      "Epoch 41 : \n"
     ]
    },
    {
     "name": "stderr",
     "output_type": "stream",
     "text": [
      "100%|██████████| 50/50 [00:03<00:00, 14.81it/s]\n"
     ]
    },
    {
     "name": "stdout",
     "output_type": "stream",
     "text": [
      "loss:  0.664271354675293  l_d:  0.0959593653678894  l_e:  0.0959593653678894  l_g:  0.2361762970685959\n",
      "Epoch 42 : \n"
     ]
    },
    {
     "name": "stderr",
     "output_type": "stream",
     "text": [
      "100%|██████████| 50/50 [00:03<00:00, 13.22it/s]\n"
     ]
    },
    {
     "name": "stdout",
     "output_type": "stream",
     "text": [
      "loss:  0.47868800163269043  l_d:  0.09956749528646469  l_e:  0.09956749528646469  l_g:  0.13977649807929993\n",
      "Epoch 43 : \n"
     ]
    },
    {
     "name": "stderr",
     "output_type": "stream",
     "text": [
      "100%|██████████| 50/50 [00:04<00:00, 12.19it/s]\n"
     ]
    },
    {
     "name": "stdout",
     "output_type": "stream",
     "text": [
      "loss:  0.7504111528396606  l_d:  0.12649375200271606  l_e:  0.12649375200271606  l_g:  0.24871182441711426\n",
      "Epoch 44 : \n"
     ]
    },
    {
     "name": "stderr",
     "output_type": "stream",
     "text": [
      "100%|██████████| 50/50 [00:03<00:00, 14.11it/s]\n"
     ]
    },
    {
     "name": "stdout",
     "output_type": "stream",
     "text": [
      "loss:  0.5900865793228149  l_d:  0.09636946022510529  l_e:  0.09636946022510529  l_g:  0.198673814535141\n",
      "Epoch 45 : \n"
     ]
    },
    {
     "name": "stderr",
     "output_type": "stream",
     "text": [
      "100%|██████████| 50/50 [00:03<00:00, 13.91it/s]\n"
     ]
    },
    {
     "name": "stdout",
     "output_type": "stream",
     "text": [
      "loss:  0.5188038349151611  l_d:  0.09863394498825073  l_e:  0.09863394498825073  l_g:  0.16076795756816864\n",
      "Epoch 46 : \n"
     ]
    },
    {
     "name": "stderr",
     "output_type": "stream",
     "text": [
      "100%|██████████| 50/50 [00:04<00:00, 12.41it/s]\n"
     ]
    },
    {
     "name": "stdout",
     "output_type": "stream",
     "text": [
      "loss:  0.5133647918701172  l_d:  0.09555549919605255  l_e:  0.09555549919605255  l_g:  0.16112691164016724\n",
      "Epoch 47 : \n"
     ]
    },
    {
     "name": "stderr",
     "output_type": "stream",
     "text": [
      "100%|██████████| 50/50 [00:04<00:00, 11.37it/s]\n"
     ]
    },
    {
     "name": "stdout",
     "output_type": "stream",
     "text": [
      "loss:  0.6357616186141968  l_d:  0.12499062716960907  l_e:  0.12499062716960907  l_g:  0.19289018213748932\n",
      "Epoch 48 : \n"
     ]
    },
    {
     "name": "stderr",
     "output_type": "stream",
     "text": [
      "100%|██████████| 50/50 [00:04<00:00, 10.78it/s]\n"
     ]
    },
    {
     "name": "stdout",
     "output_type": "stream",
     "text": [
      "loss:  0.525615930557251  l_d:  0.09544800966978073  l_e:  0.09544800221920013  l_g:  0.16735997796058655\n",
      "Epoch 49 : \n"
     ]
    },
    {
     "name": "stderr",
     "output_type": "stream",
     "text": [
      "100%|██████████| 50/50 [00:04<00:00, 11.80it/s]\n"
     ]
    },
    {
     "name": "stdout",
     "output_type": "stream",
     "text": [
      "loss:  0.6363524198532104  l_d:  0.095216304063797  l_e:  0.095216304063797  l_g:  0.22295989096164703\n",
      "Epoch 50 : \n"
     ]
    },
    {
     "name": "stderr",
     "output_type": "stream",
     "text": [
      "100%|██████████| 50/50 [00:04<00:00, 11.48it/s]\n"
     ]
    },
    {
     "name": "stdout",
     "output_type": "stream",
     "text": [
      "loss:  0.5761340856552124  l_d:  0.09869806468486786  l_e:  0.09869806468486786  l_g:  0.18936899304389954\n",
      "Epoch 51 : \n"
     ]
    },
    {
     "name": "stderr",
     "output_type": "stream",
     "text": [
      "100%|██████████| 50/50 [00:03<00:00, 13.80it/s]\n"
     ]
    },
    {
     "name": "stdout",
     "output_type": "stream",
     "text": [
      "loss:  0.8064799308776855  l_d:  0.10840761661529541  l_e:  0.10840761661529541  l_g:  0.29483234882354736\n",
      "Epoch 52 : \n"
     ]
    },
    {
     "name": "stderr",
     "output_type": "stream",
     "text": [
      "100%|██████████| 50/50 [00:03<00:00, 14.70it/s]\n"
     ]
    },
    {
     "name": "stdout",
     "output_type": "stream",
     "text": [
      "loss:  0.5657743215560913  l_d:  0.09261924028396606  l_e:  0.09261924028396606  l_g:  0.1902679204940796\n",
      "Epoch 53 : \n"
     ]
    },
    {
     "name": "stderr",
     "output_type": "stream",
     "text": [
      "100%|██████████| 50/50 [00:03<00:00, 14.40it/s]\n"
     ]
    },
    {
     "name": "stdout",
     "output_type": "stream",
     "text": [
      "loss:  0.6023231148719788  l_d:  0.08950931578874588  l_e:  0.08950931578874588  l_g:  0.2116522490978241\n",
      "Epoch 54 : \n"
     ]
    },
    {
     "name": "stderr",
     "output_type": "stream",
     "text": [
      "100%|██████████| 50/50 [00:03<00:00, 16.07it/s]\n"
     ]
    },
    {
     "name": "stdout",
     "output_type": "stream",
     "text": [
      "loss:  0.6398760080337524  l_d:  0.09117525815963745  l_e:  0.09117525815963745  l_g:  0.22876276075839996\n",
      "Epoch 55 : \n"
     ]
    },
    {
     "name": "stderr",
     "output_type": "stream",
     "text": [
      "100%|██████████| 50/50 [00:03<00:00, 14.79it/s]\n"
     ]
    },
    {
     "name": "stdout",
     "output_type": "stream",
     "text": [
      "loss:  0.640072762966156  l_d:  0.0917770266532898  l_e:  0.0917770266532898  l_g:  0.2282593548297882\n",
      "Epoch 56 : \n"
     ]
    },
    {
     "name": "stderr",
     "output_type": "stream",
     "text": [
      "100%|██████████| 50/50 [00:03<00:00, 14.36it/s]\n"
     ]
    },
    {
     "name": "stdout",
     "output_type": "stream",
     "text": [
      "loss:  0.8191134929656982  l_d:  0.18164491653442383  l_e:  0.18164491653442383  l_g:  0.2279118448495865\n",
      "Epoch 57 : \n"
     ]
    },
    {
     "name": "stderr",
     "output_type": "stream",
     "text": [
      "100%|██████████| 50/50 [00:03<00:00, 13.80it/s]\n"
     ]
    },
    {
     "name": "stdout",
     "output_type": "stream",
     "text": [
      "loss:  0.5272947549819946  l_d:  0.09055814146995544  l_e:  0.09055814892053604  l_g:  0.17308923602104187\n",
      "Epoch 58 : \n"
     ]
    },
    {
     "name": "stderr",
     "output_type": "stream",
     "text": [
      "100%|██████████| 50/50 [00:04<00:00, 12.13it/s]\n"
     ]
    },
    {
     "name": "stdout",
     "output_type": "stream",
     "text": [
      "loss:  0.4694797992706299  l_d:  0.0888962596654892  l_e:  0.0888962671160698  l_g:  0.14584363996982574\n",
      "Epoch 59 : \n"
     ]
    },
    {
     "name": "stderr",
     "output_type": "stream",
     "text": [
      "100%|██████████| 50/50 [00:03<00:00, 14.39it/s]\n"
     ]
    },
    {
     "name": "stdout",
     "output_type": "stream",
     "text": [
      "loss:  0.5574073195457458  l_d:  0.08824676275253296  l_e:  0.08824676275253296  l_g:  0.19045689702033997\n",
      "Epoch 60 : \n"
     ]
    },
    {
     "name": "stderr",
     "output_type": "stream",
     "text": [
      "100%|██████████| 50/50 [00:03<00:00, 14.35it/s]\n"
     ]
    },
    {
     "name": "stdout",
     "output_type": "stream",
     "text": [
      "loss:  0.649312436580658  l_d:  0.09131566435098648  l_e:  0.09131566435098648  l_g:  0.2333405464887619\n"
     ]
    },
    {
     "data": {
      "image/png": "[encoded data removed]",
      "text/plain": [
       "<Figure size 640x480 with 1 Axes>"
      ]
     },
     "metadata": {},
     "output_type": "display_data"
    },
    {
     "name": "stdout",
     "output_type": "stream",
     "text": [
      "Epoch 61 : \n"
     ]
    },
    {
     "name": "stderr",
     "output_type": "stream",
     "text": [
      "100%|██████████| 50/50 [00:03<00:00, 12.95it/s]\n"
     ]
    },
    {
     "name": "stdout",
     "output_type": "stream",
     "text": [
      "loss:  0.8955922722816467  l_d:  0.1878758668899536  l_e:  0.1878758668899536  l_g:  0.25992026925086975\n",
      "Epoch 62 : \n"
     ]
    },
    {
     "name": "stderr",
     "output_type": "stream",
     "text": [
      "100%|██████████| 50/50 [00:03<00:00, 13.20it/s]\n"
     ]
    },
    {
     "name": "stdout",
     "output_type": "stream",
     "text": [
      "loss:  1.0376826524734497  l_d:  0.24725091457366943  l_e:  0.24725091457366943  l_g:  0.2715904116630554\n",
      "Epoch 63 : \n"
     ]
    },
    {
     "name": "stderr",
     "output_type": "stream",
     "text": [
      "100%|██████████| 50/50 [00:03<00:00, 14.28it/s]\n"
     ]
    },
    {
     "name": "stdout",
     "output_type": "stream",
     "text": [
      "loss:  0.9184732437133789  l_d:  0.146141916513443  l_e:  0.146141916513443  l_g:  0.31309470534324646\n",
      "Epoch 64 : \n"
     ]
    },
    {
     "name": "stderr",
     "output_type": "stream",
     "text": [
      "100%|██████████| 50/50 [00:03<00:00, 14.11it/s]\n"
     ]
    },
    {
     "name": "stdout",
     "output_type": "stream",
     "text": [
      "loss:  0.7536819577217102  l_d:  0.1557297557592392  l_e:  0.1557297557592392  l_g:  0.2211112231016159\n",
      "Epoch 65 : \n"
     ]
    },
    {
     "name": "stderr",
     "output_type": "stream",
     "text": [
      "100%|██████████| 50/50 [00:03<00:00, 14.07it/s]\n"
     ]
    },
    {
     "name": "stdout",
     "output_type": "stream",
     "text": [
      "loss:  0.6307969689369202  l_d:  0.08705160021781921  l_e:  0.08705160021781921  l_g:  0.22834688425064087\n",
      "Epoch 66 : \n"
     ]
    },
    {
     "name": "stderr",
     "output_type": "stream",
     "text": [
      "100%|██████████| 50/50 [00:03<00:00, 12.94it/s]\n"
     ]
    },
    {
     "name": "stdout",
     "output_type": "stream",
     "text": [
      "loss:  0.6251787543296814  l_d:  0.09465639293193817  l_e:  0.09465639293193817  l_g:  0.21793298423290253\n",
      "Epoch 67 : \n"
     ]
    },
    {
     "name": "stderr",
     "output_type": "stream",
     "text": [
      "100%|██████████| 50/50 [00:03<00:00, 13.35it/s]\n"
     ]
    },
    {
     "name": "stdout",
     "output_type": "stream",
     "text": [
      "loss:  0.6108847856521606  l_d:  0.08911868929862976  l_e:  0.08911868929862976  l_g:  0.21632368862628937\n",
      "Epoch 68 : \n"
     ]
    },
    {
     "name": "stderr",
     "output_type": "stream",
     "text": [
      "100%|██████████| 50/50 [00:03<00:00, 14.99it/s]\n"
     ]
    },
    {
     "name": "stdout",
     "output_type": "stream",
     "text": [
      "loss:  0.828645646572113  l_d:  0.19020485877990723  l_e:  0.19020487368106842  l_g:  0.2241179645061493\n",
      "Epoch 69 : \n"
     ]
    },
    {
     "name": "stderr",
     "output_type": "stream",
     "text": [
      "100%|██████████| 50/50 [00:03<00:00, 14.73it/s]\n"
     ]
    },
    {
     "name": "stdout",
     "output_type": "stream",
     "text": [
      "loss:  0.5918217897415161  l_d:  0.10484917461872101  l_e:  0.10484917461872101  l_g:  0.19106170535087585\n",
      "Epoch 70 : \n"
     ]
    },
    {
     "name": "stderr",
     "output_type": "stream",
     "text": [
      "100%|██████████| 50/50 [00:03<00:00, 13.26it/s]\n"
     ]
    },
    {
     "name": "stdout",
     "output_type": "stream",
     "text": [
      "loss:  0.9241625070571899  l_d:  0.2643405795097351  l_e:  0.2643405795097351  l_g:  0.19774067401885986\n",
      "Epoch 71 : \n"
     ]
    },
    {
     "name": "stderr",
     "output_type": "stream",
     "text": [
      "100%|██████████| 50/50 [00:03<00:00, 12.91it/s]\n"
     ]
    },
    {
     "name": "stdout",
     "output_type": "stream",
     "text": [
      "loss:  0.48765984177589417  l_d:  0.08801625669002533  l_e:  0.08801625669002533  l_g:  0.15581366419792175\n",
      "Epoch 72 : \n"
     ]
    },
    {
     "name": "stderr",
     "output_type": "stream",
     "text": [
      "100%|██████████| 50/50 [00:03<00:00, 13.68it/s]\n"
     ]
    },
    {
     "name": "stdout",
     "output_type": "stream",
     "text": [
      "loss:  0.45878347754478455  l_d:  0.08691827952861786  l_e:  0.08691827952861786  l_g:  0.14247345924377441\n",
      "Epoch 73 : \n"
     ]
    },
    {
     "name": "stderr",
     "output_type": "stream",
     "text": [
      "100%|██████████| 50/50 [00:04<00:00, 12.25it/s]\n"
     ]
    },
    {
     "name": "stdout",
     "output_type": "stream",
     "text": [
      "loss:  0.7646808624267578  l_d:  0.0912337452173233  l_e:  0.0912337452173233  l_g:  0.2911067008972168\n",
      "Epoch 74 : \n"
     ]
    },
    {
     "name": "stderr",
     "output_type": "stream",
     "text": [
      "100%|██████████| 50/50 [00:03<00:00, 14.34it/s]\n"
     ]
    },
    {
     "name": "stdout",
     "output_type": "stream",
     "text": [
      "loss:  0.6633511781692505  l_d:  0.15004241466522217  l_e:  0.15004241466522217  l_g:  0.18163317441940308\n",
      "Epoch 75 : \n"
     ]
    },
    {
     "name": "stderr",
     "output_type": "stream",
     "text": [
      "100%|██████████| 50/50 [00:03<00:00, 13.98it/s]\n"
     ]
    },
    {
     "name": "stdout",
     "output_type": "stream",
     "text": [
      "loss:  0.6183444857597351  l_d:  0.08958128094673157  l_e:  0.08958128094673157  l_g:  0.219590961933136\n",
      "Epoch 76 : \n"
     ]
    },
    {
     "name": "stderr",
     "output_type": "stream",
     "text": [
      "100%|██████████| 50/50 [00:04<00:00, 12.48it/s]\n"
     ]
    },
    {
     "name": "stdout",
     "output_type": "stream",
     "text": [
      "loss:  0.7584532499313354  l_d:  0.09425420314073563  l_e:  0.09425420314073563  l_g:  0.2849724292755127\n",
      "Epoch 77 : \n"
     ]
    },
    {
     "name": "stderr",
     "output_type": "stream",
     "text": [
      "100%|██████████| 50/50 [00:03<00:00, 13.83it/s]\n"
     ]
    },
    {
     "name": "stdout",
     "output_type": "stream",
     "text": [
      "loss:  0.7204288840293884  l_d:  0.08475717902183533  l_e:  0.08475717157125473  l_g:  0.2754572629928589\n",
      "Epoch 78 : \n"
     ]
    },
    {
     "name": "stderr",
     "output_type": "stream",
     "text": [
      "100%|██████████| 50/50 [00:03<00:00, 12.58it/s]\n"
     ]
    },
    {
     "name": "stdout",
     "output_type": "stream",
     "text": [
      "loss:  0.5762097835540771  l_d:  0.09329909086227417  l_e:  0.09329909086227417  l_g:  0.1948058158159256\n",
      "Epoch 79 : \n"
     ]
    },
    {
     "name": "stderr",
     "output_type": "stream",
     "text": [
      "100%|██████████| 50/50 [00:03<00:00, 14.10it/s]\n"
     ]
    },
    {
     "name": "stdout",
     "output_type": "stream",
     "text": [
      "loss:  0.5124783515930176  l_d:  0.0897352546453476  l_e:  0.0897352546453476  l_g:  0.1665039360523224\n",
      "Epoch 80 : \n"
     ]
    },
    {
     "name": "stderr",
     "output_type": "stream",
     "text": [
      "100%|██████████| 50/50 [00:03<00:00, 14.23it/s]\n"
     ]
    },
    {
     "name": "stdout",
     "output_type": "stream",
     "text": [
      "loss:  0.45775678753852844  l_d:  0.08706557750701904  l_e:  0.08706557750701904  l_g:  0.14181281626224518\n"
     ]
    },
    {
     "data": {
      "image/png": "[encoded data removed]",
      "text/plain": [
       "<Figure size 640x480 with 1 Axes>"
      ]
     },
     "metadata": {},
     "output_type": "display_data"
    },
    {
     "name": "stdout",
     "output_type": "stream",
     "text": [
      "Epoch 81 : \n"
     ]
    },
    {
     "name": "stderr",
     "output_type": "stream",
     "text": [
      "100%|██████████| 50/50 [00:03<00:00, 14.32it/s]\n"
     ]
    },
    {
     "name": "stdout",
     "output_type": "stream",
     "text": [
      "loss:  0.772168755531311  l_d:  0.19352902472019196  l_e:  0.19352903962135315  l_g:  0.19255533814430237\n",
      "Epoch 82 : \n"
     ]
    },
    {
     "name": "stderr",
     "output_type": "stream",
     "text": [
      "100%|██████████| 50/50 [00:03<00:00, 14.30it/s]\n"
     ]
    },
    {
     "name": "stdout",
     "output_type": "stream",
     "text": [
      "loss:  1.0303611755371094  l_d:  0.31012991070747375  l_e:  0.31012991070747375  l_g:  0.20505066215991974\n",
      "Epoch 83 : \n"
     ]
    },
    {
     "name": "stderr",
     "output_type": "stream",
     "text": [
      "100%|██████████| 50/50 [00:03<00:00, 12.68it/s]\n"
     ]
    },
    {
     "name": "stdout",
     "output_type": "stream",
     "text": [
      "loss:  0.42749136686325073  l_d:  0.0880415290594101  l_e:  0.0880415290594101  l_g:  0.12570415437221527\n",
      "Epoch 84 : \n"
     ]
    },
    {
     "name": "stderr",
     "output_type": "stream",
     "text": [
      "100%|██████████| 50/50 [00:03<00:00, 13.69it/s]\n"
     ]
    },
    {
     "name": "stdout",
     "output_type": "stream",
     "text": [
      "loss:  0.5422861576080322  l_d:  0.08921940624713898  l_e:  0.08921940624713898  l_g:  0.18192367255687714\n",
      "Epoch 85 : \n"
     ]
    },
    {
     "name": "stderr",
     "output_type": "stream",
     "text": [
      "100%|██████████| 50/50 [00:03<00:00, 14.87it/s]\n"
     ]
    },
    {
     "name": "stdout",
     "output_type": "stream",
     "text": [
      "loss:  0.559922456741333  l_d:  0.0855889767408371  l_e:  0.0855889767408371  l_g:  0.1943722516298294\n",
      "Epoch 86 : \n"
     ]
    },
    {
     "name": "stderr",
     "output_type": "stream",
     "text": [
      "100%|██████████| 50/50 [00:03<00:00, 12.99it/s]\n"
     ]
    },
    {
     "name": "stdout",
     "output_type": "stream",
     "text": [
      "loss:  0.5369629263877869  l_d:  0.08512993156909943  l_e:  0.08512993156909943  l_g:  0.183351531624794\n",
      "Epoch 87 : \n"
     ]
    },
    {
     "name": "stderr",
     "output_type": "stream",
     "text": [
      "100%|██████████| 50/50 [00:03<00:00, 14.23it/s]\n"
     ]
    },
    {
     "name": "stdout",
     "output_type": "stream",
     "text": [
      "loss:  0.5146200060844421  l_d:  0.08787810802459717  l_e:  0.08787810802459717  l_g:  0.1694318950176239\n",
      "Epoch 88 : \n"
     ]
    },
    {
     "name": "stderr",
     "output_type": "stream",
     "text": [
      "100%|██████████| 50/50 [00:03<00:00, 14.35it/s]\n"
     ]
    },
    {
     "name": "stdout",
     "output_type": "stream",
     "text": [
      "loss:  0.5679829716682434  l_d:  0.08917934447526932  l_e:  0.08917934447526932  l_g:  0.19481214880943298\n",
      "Epoch 89 : \n"
     ]
    },
    {
     "name": "stderr",
     "output_type": "stream",
     "text": [
      "100%|██████████| 50/50 [00:03<00:00, 14.00it/s]\n"
     ]
    },
    {
     "name": "stdout",
     "output_type": "stream",
     "text": [
      "loss:  0.6093681454658508  l_d:  0.08881079405546188  l_e:  0.08881079405546188  l_g:  0.21587328612804413\n",
      "Epoch 90 : \n"
     ]
    },
    {
     "name": "stderr",
     "output_type": "stream",
     "text": [
      "100%|██████████| 50/50 [00:04<00:00, 11.44it/s]\n"
     ]
    },
    {
     "name": "stdout",
     "output_type": "stream",
     "text": [
      "loss:  0.7689222097396851  l_d:  0.2514607906341553  l_e:  0.2514607608318329  l_g:  0.13300031423568726\n",
      "Epoch 91 : \n"
     ]
    },
    {
     "name": "stderr",
     "output_type": "stream",
     "text": [
      "100%|██████████| 50/50 [00:03<00:00, 13.97it/s]\n"
     ]
    },
    {
     "name": "stdout",
     "output_type": "stream",
     "text": [
      "loss:  0.6092499494552612  l_d:  0.08834385871887207  l_e:  0.08834385871887207  l_g:  0.21628110110759735\n",
      "Epoch 92 : \n"
     ]
    },
    {
     "name": "stderr",
     "output_type": "stream",
     "text": [
      "100%|██████████| 50/50 [00:04<00:00, 11.67it/s]\n"
     ]
    },
    {
     "name": "stdout",
     "output_type": "stream",
     "text": [
      "loss:  0.5312628149986267  l_d:  0.09372126311063766  l_e:  0.09372126311063766  l_g:  0.1719101369380951\n",
      "Epoch 93 : \n"
     ]
    },
    {
     "name": "stderr",
     "output_type": "stream",
     "text": [
      "100%|██████████| 50/50 [00:03<00:00, 12.71it/s]\n"
     ]
    },
    {
     "name": "stdout",
     "output_type": "stream",
     "text": [
      "loss:  0.6326808333396912  l_d:  0.09127146750688553  l_e:  0.09127146750688553  l_g:  0.22506895661354065\n",
      "Epoch 94 : \n"
     ]
    },
    {
     "name": "stderr",
     "output_type": "stream",
     "text": [
      "100%|██████████| 50/50 [00:03<00:00, 13.29it/s]\n"
     ]
    },
    {
     "name": "stdout",
     "output_type": "stream",
     "text": [
      "loss:  0.48018887639045715  l_d:  0.08609195053577423  l_e:  0.08609195053577423  l_g:  0.15400248765945435\n",
      "Epoch 95 : \n"
     ]
    },
    {
     "name": "stderr",
     "output_type": "stream",
     "text": [
      "100%|██████████| 50/50 [00:04<00:00, 12.50it/s]\n"
     ]
    },
    {
     "name": "stdout",
     "output_type": "stream",
     "text": [
      "loss:  0.7382411956787109  l_d:  0.08570463955402374  l_e:  0.08570463955402374  l_g:  0.2834159731864929\n",
      "Epoch 96 : \n"
     ]
    },
    {
     "name": "stderr",
     "output_type": "stream",
     "text": [
      "100%|██████████| 50/50 [00:04<00:00, 12.45it/s]\n"
     ]
    },
    {
     "name": "stdout",
     "output_type": "stream",
     "text": [
      "loss:  0.5943304300308228  l_d:  0.0877603068947792  l_e:  0.0877603068947792  l_g:  0.20940491557121277\n",
      "Epoch 97 : \n"
     ]
    },
    {
     "name": "stderr",
     "output_type": "stream",
     "text": [
      "100%|██████████| 50/50 [00:03<00:00, 12.62it/s]\n"
     ]
    },
    {
     "name": "stdout",
     "output_type": "stream",
     "text": [
      "loss:  0.6044924259185791  l_d:  0.09107674658298492  l_e:  0.09107674658298492  l_g:  0.21116945147514343\n",
      "Epoch 98 : \n"
     ]
    },
    {
     "name": "stderr",
     "output_type": "stream",
     "text": [
      "100%|██████████| 50/50 [00:03<00:00, 13.75it/s]\n"
     ]
    },
    {
     "name": "stdout",
     "output_type": "stream",
     "text": [
      "loss:  0.5556696057319641  l_d:  0.08551040291786194  l_e:  0.08551040291786194  l_g:  0.19232439994812012\n",
      "Epoch 99 : \n"
     ]
    },
    {
     "name": "stderr",
     "output_type": "stream",
     "text": [
      "100%|██████████| 50/50 [00:03<00:00, 15.55it/s]\n"
     ]
    },
    {
     "name": "stdout",
     "output_type": "stream",
     "text": [
      "loss:  0.8324449062347412  l_d:  0.24923363327980042  l_e:  0.24923363327980042  l_g:  0.1669888198375702\n"
     ]
    }
   ],
   "source": [
    "train_d2c(100, 0.001, 1, 0.00001, 2)"
   ]
  },
  {
   "cell_type": "code",
   "execution_count": 7,
   "metadata": {
    "scrolled": true
   },
   "outputs": [
    {
     "name": "stdout",
     "output_type": "stream",
     "text": [
      "Epoch 0 : \n"
     ]
    },
    {
     "name": "stderr",
     "output_type": "stream",
     "text": [
      "100%|██████████| 50/50 [00:03<00:00, 15.11it/s]\n"
     ]
    },
    {
     "name": "stdout",
     "output_type": "stream",
     "text": [
      "loss:  0.32082247734069824  l_d:  0.07526805996894836  l_e:  0.07526805996894836  l_g:  0.1702863574028015\n"
     ]
    },
    {
     "data": {
      "image/png": "[encoded data removed]",
      "text/plain": [
       "<Figure size 640x480 with 1 Axes>"
      ]
     },
     "metadata": {},
     "output_type": "display_data"
    },
    {
     "name": "stdout",
     "output_type": "stream",
     "text": [
      "Epoch 1 : \n"
     ]
    },
    {
     "name": "stderr",
     "output_type": "stream",
     "text": [
      "100%|██████████| 50/50 [00:03<00:00, 15.75it/s]\n"
     ]
    },
    {
     "name": "stdout",
     "output_type": "stream",
     "text": [
      "loss:  0.40895283222198486  l_d:  0.07656543701887131  l_e:  0.07656543701887131  l_g:  0.25582194328308105\n",
      "Epoch 2 : \n"
     ]
    },
    {
     "name": "stderr",
     "output_type": "stream",
     "text": [
      "100%|██████████| 50/50 [00:03<00:00, 15.35it/s]\n"
     ]
    },
    {
     "name": "stdout",
     "output_type": "stream",
     "text": [
      "loss:  0.43310022354125977  l_d:  0.09249082207679749  l_e:  0.09249082207679749  l_g:  0.2481185644865036\n",
      "Epoch 3 : \n"
     ]
    },
    {
     "name": "stderr",
     "output_type": "stream",
     "text": [
      "100%|██████████| 50/50 [00:03<00:00, 15.55it/s]\n"
     ]
    },
    {
     "name": "stdout",
     "output_type": "stream",
     "text": [
      "loss:  0.39148131012916565  l_d:  0.08048686385154724  l_e:  0.08048686385154724  l_g:  0.23050758242607117\n",
      "Epoch 4 : \n"
     ]
    },
    {
     "name": "stderr",
     "output_type": "stream",
     "text": [
      "100%|██████████| 50/50 [00:02<00:00, 16.67it/s]\n"
     ]
    },
    {
     "name": "stdout",
     "output_type": "stream",
     "text": [
      "loss:  0.43202298879623413  l_d:  0.08160072565078735  l_e:  0.08160072565078735  l_g:  0.2688215374946594\n",
      "Epoch 5 : \n"
     ]
    },
    {
     "name": "stderr",
     "output_type": "stream",
     "text": [
      "100%|██████████| 50/50 [00:02<00:00, 16.73it/s]\n"
     ]
    },
    {
     "name": "stdout",
     "output_type": "stream",
     "text": [
      "loss:  0.36275163292884827  l_d:  0.08208627998828888  l_e:  0.08208627998828888  l_g:  0.1985790729522705\n",
      "Epoch 6 : \n"
     ]
    },
    {
     "name": "stderr",
     "output_type": "stream",
     "text": [
      "100%|██████████| 50/50 [00:03<00:00, 15.31it/s]\n"
     ]
    },
    {
     "name": "stdout",
     "output_type": "stream",
     "text": [
      "loss:  0.38248512148857117  l_d:  0.0759563073515892  l_e:  0.0759563073515892  l_g:  0.23057250678539276\n",
      "Epoch 7 : \n"
     ]
    },
    {
     "name": "stderr",
     "output_type": "stream",
     "text": [
      "100%|██████████| 50/50 [00:03<00:00, 16.10it/s]\n"
     ]
    },
    {
     "name": "stdout",
     "output_type": "stream",
     "text": [
      "loss:  0.3522759675979614  l_d:  0.07326728850603104  l_e:  0.07326728850603104  l_g:  0.20574137568473816\n",
      "Epoch 8 : \n"
     ]
    },
    {
     "name": "stderr",
     "output_type": "stream",
     "text": [
      "100%|██████████| 50/50 [00:03<00:00, 14.63it/s]\n"
     ]
    },
    {
     "name": "stdout",
     "output_type": "stream",
     "text": [
      "loss:  0.31093907356262207  l_d:  0.07509060204029083  l_e:  0.07509060204029083  l_g:  0.1607578545808792\n",
      "Epoch 9 : \n"
     ]
    },
    {
     "name": "stderr",
     "output_type": "stream",
     "text": [
      "100%|██████████| 50/50 [00:03<00:00, 14.97it/s]\n"
     ]
    },
    {
     "name": "stdout",
     "output_type": "stream",
     "text": [
      "loss:  0.2811196446418762  l_d:  0.0718032494187355  l_e:  0.07180324196815491  l_g:  0.1375131607055664\n",
      "Epoch 10 : \n"
     ]
    },
    {
     "name": "stderr",
     "output_type": "stream",
     "text": [
      "100%|██████████| 50/50 [00:03<00:00, 15.60it/s]\n"
     ]
    },
    {
     "name": "stdout",
     "output_type": "stream",
     "text": [
      "loss:  0.5505781173706055  l_d:  0.142973393201828  l_e:  0.1429734081029892  l_g:  0.26463136076927185\n",
      "Epoch 11 : \n"
     ]
    },
    {
     "name": "stderr",
     "output_type": "stream",
     "text": [
      "100%|██████████| 50/50 [00:03<00:00, 15.35it/s]\n"
     ]
    },
    {
     "name": "stdout",
     "output_type": "stream",
     "text": [
      "loss:  0.5200783014297485  l_d:  0.15309958159923553  l_e:  0.15309958159923553  l_g:  0.21387910842895508\n",
      "Epoch 12 : \n"
     ]
    },
    {
     "name": "stderr",
     "output_type": "stream",
     "text": [
      "100%|██████████| 50/50 [00:03<00:00, 14.73it/s]\n"
     ]
    },
    {
     "name": "stdout",
     "output_type": "stream",
     "text": [
      "loss:  0.3837958574295044  l_d:  0.0807526558637619  l_e:  0.0807526558637619  l_g:  0.22229056060314178\n",
      "Epoch 13 : \n"
     ]
    },
    {
     "name": "stderr",
     "output_type": "stream",
     "text": [
      "100%|██████████| 50/50 [00:03<00:00, 14.77it/s]\n"
     ]
    },
    {
     "name": "stdout",
     "output_type": "stream",
     "text": [
      "loss:  0.42875897884368896  l_d:  0.07549184560775757  l_e:  0.07549184560775757  l_g:  0.27777528762817383\n",
      "Epoch 14 : \n"
     ]
    },
    {
     "name": "stderr",
     "output_type": "stream",
     "text": [
      "100%|██████████| 50/50 [00:03<00:00, 12.96it/s]\n"
     ]
    },
    {
     "name": "stdout",
     "output_type": "stream",
     "text": [
      "loss:  0.4014189839363098  l_d:  0.07318470627069473  l_e:  0.07318470627069473  l_g:  0.25504958629608154\n",
      "Epoch 15 : \n"
     ]
    },
    {
     "name": "stderr",
     "output_type": "stream",
     "text": [
      "100%|██████████| 50/50 [00:03<00:00, 13.69it/s]\n"
     ]
    },
    {
     "name": "stdout",
     "output_type": "stream",
     "text": [
      "loss:  0.41888436675071716  l_d:  0.08480556309223175  l_e:  0.08480556309223175  l_g:  0.24927324056625366\n",
      "Epoch 16 : \n"
     ]
    },
    {
     "name": "stderr",
     "output_type": "stream",
     "text": [
      "100%|██████████| 50/50 [00:03<00:00, 13.29it/s]\n"
     ]
    },
    {
     "name": "stdout",
     "output_type": "stream",
     "text": [
      "loss:  0.3523779809474945  l_d:  0.0745026171207428  l_e:  0.0745026171207428  l_g:  0.2033727467060089\n",
      "Epoch 17 : \n"
     ]
    },
    {
     "name": "stderr",
     "output_type": "stream",
     "text": [
      "100%|██████████| 50/50 [00:04<00:00, 12.48it/s]\n"
     ]
    },
    {
     "name": "stdout",
     "output_type": "stream",
     "text": [
      "loss:  0.3212597966194153  l_d:  0.07281175255775452  l_e:  0.07281174510717392  l_g:  0.17563629150390625\n",
      "Epoch 18 : \n"
     ]
    },
    {
     "name": "stderr",
     "output_type": "stream",
     "text": [
      "100%|██████████| 50/50 [00:03<00:00, 14.81it/s]\n"
     ]
    },
    {
     "name": "stdout",
     "output_type": "stream",
     "text": [
      "loss:  0.4472176432609558  l_d:  0.08594167232513428  l_e:  0.08594167232513428  l_g:  0.27533429861068726\n",
      "Epoch 19 : \n"
     ]
    },
    {
     "name": "stderr",
     "output_type": "stream",
     "text": [
      "100%|██████████| 50/50 [00:03<00:00, 14.88it/s]\n"
     ]
    },
    {
     "name": "stdout",
     "output_type": "stream",
     "text": [
      "loss:  0.33605000376701355  l_d:  0.09728993475437164  l_e:  0.09728993475437164  l_g:  0.14147013425827026\n",
      "Epoch 20 : \n"
     ]
    },
    {
     "name": "stderr",
     "output_type": "stream",
     "text": [
      "100%|██████████| 50/50 [00:03<00:00, 15.46it/s]\n"
     ]
    },
    {
     "name": "stdout",
     "output_type": "stream",
     "text": [
      "loss:  0.5763229727745056  l_d:  0.16095376014709473  l_e:  0.16095376014709473  l_g:  0.25441545248031616\n"
     ]
    },
    {
     "data": {
      "image/png": "[encoded data removed]",
      "text/plain": [
       "<Figure size 640x480 with 1 Axes>"
      ]
     },
     "metadata": {},
     "output_type": "display_data"
    },
    {
     "name": "stdout",
     "output_type": "stream",
     "text": [
      "Epoch 21 : \n"
     ]
    },
    {
     "name": "stderr",
     "output_type": "stream",
     "text": [
      "100%|██████████| 50/50 [00:03<00:00, 15.62it/s]\n"
     ]
    },
    {
     "name": "stdout",
     "output_type": "stream",
     "text": [
      "loss:  0.4199714660644531  l_d:  0.07131791114807129  l_e:  0.07131791114807129  l_g:  0.27733564376831055\n",
      "Epoch 22 : \n"
     ]
    },
    {
     "name": "stderr",
     "output_type": "stream",
     "text": [
      "100%|██████████| 50/50 [00:03<00:00, 15.23it/s]\n"
     ]
    },
    {
     "name": "stdout",
     "output_type": "stream",
     "text": [
      "loss:  0.3917614221572876  l_d:  0.07766963541507721  l_e:  0.07766963541507721  l_g:  0.23642215132713318\n",
      "Epoch 23 : \n"
     ]
    },
    {
     "name": "stderr",
     "output_type": "stream",
     "text": [
      "100%|██████████| 50/50 [00:03<00:00, 14.89it/s]\n"
     ]
    },
    {
     "name": "stdout",
     "output_type": "stream",
     "text": [
      "loss:  0.42383474111557007  l_d:  0.07225746661424637  l_e:  0.07225746661424637  l_g:  0.2793198227882385\n",
      "Epoch 24 : \n"
     ]
    },
    {
     "name": "stderr",
     "output_type": "stream",
     "text": [
      "100%|██████████| 50/50 [00:03<00:00, 12.93it/s]\n"
     ]
    },
    {
     "name": "stdout",
     "output_type": "stream",
     "text": [
      "loss:  0.40559878945350647  l_d:  0.07633106410503387  l_e:  0.07633105665445328  l_g:  0.2529366612434387\n",
      "Epoch 25 : \n"
     ]
    },
    {
     "name": "stderr",
     "output_type": "stream",
     "text": [
      "100%|██████████| 50/50 [00:03<00:00, 12.74it/s]\n"
     ]
    },
    {
     "name": "stdout",
     "output_type": "stream",
     "text": [
      "loss:  0.4225865602493286  l_d:  0.07440689951181412  l_e:  0.07440689951181412  l_g:  0.2737727761268616\n",
      "Epoch 26 : \n"
     ]
    },
    {
     "name": "stderr",
     "output_type": "stream",
     "text": [
      "100%|██████████| 50/50 [00:03<00:00, 13.65it/s]\n"
     ]
    },
    {
     "name": "stdout",
     "output_type": "stream",
     "text": [
      "loss:  0.4826768636703491  l_d:  0.09501975029706955  l_e:  0.09501975029706955  l_g:  0.29263734817504883\n",
      "Epoch 27 : \n"
     ]
    },
    {
     "name": "stderr",
     "output_type": "stream",
     "text": [
      "100%|██████████| 50/50 [00:03<00:00, 12.67it/s]\n"
     ]
    },
    {
     "name": "stdout",
     "output_type": "stream",
     "text": [
      "loss:  0.36002373695373535  l_d:  0.07915322482585907  l_e:  0.07915323227643967  l_g:  0.2017173022031784\n",
      "Epoch 28 : \n"
     ]
    },
    {
     "name": "stderr",
     "output_type": "stream",
     "text": [
      "100%|██████████| 50/50 [00:03<00:00, 13.78it/s]\n"
     ]
    },
    {
     "name": "stdout",
     "output_type": "stream",
     "text": [
      "loss:  0.43312889337539673  l_d:  0.10953184962272644  l_e:  0.10953184962272644  l_g:  0.21406519412994385\n",
      "Epoch 29 : \n"
     ]
    },
    {
     "name": "stderr",
     "output_type": "stream",
     "text": [
      "100%|██████████| 50/50 [00:03<00:00, 14.21it/s]\n"
     ]
    },
    {
     "name": "stdout",
     "output_type": "stream",
     "text": [
      "loss:  0.42929160594940186  l_d:  0.11474351584911346  l_e:  0.11474351584911346  l_g:  0.19980458915233612\n",
      "Epoch 30 : \n"
     ]
    },
    {
     "name": "stderr",
     "output_type": "stream",
     "text": [
      "100%|██████████| 50/50 [00:03<00:00, 14.76it/s]\n"
     ]
    },
    {
     "name": "stdout",
     "output_type": "stream",
     "text": [
      "loss:  0.47872114181518555  l_d:  0.11306476593017578  l_e:  0.11306476593017578  l_g:  0.252591609954834\n",
      "Epoch 31 : \n"
     ]
    },
    {
     "name": "stderr",
     "output_type": "stream",
     "text": [
      "100%|██████████| 50/50 [00:03<00:00, 13.71it/s]\n"
     ]
    },
    {
     "name": "stdout",
     "output_type": "stream",
     "text": [
      "loss:  0.39456871151924133  l_d:  0.07001255452632904  l_e:  0.07001255452632904  l_g:  0.25454360246658325\n",
      "Epoch 32 : \n"
     ]
    },
    {
     "name": "stderr",
     "output_type": "stream",
     "text": [
      "100%|██████████| 50/50 [00:03<00:00, 12.81it/s]\n"
     ]
    },
    {
     "name": "stdout",
     "output_type": "stream",
     "text": [
      "loss:  0.2829224765300751  l_d:  0.0694626048207283  l_e:  0.0694626048207283  l_g:  0.14399726688861847\n",
      "Epoch 33 : \n"
     ]
    },
    {
     "name": "stderr",
     "output_type": "stream",
     "text": [
      "100%|██████████| 50/50 [00:03<00:00, 14.55it/s]\n"
     ]
    },
    {
     "name": "stdout",
     "output_type": "stream",
     "text": [
      "loss:  0.3416866958141327  l_d:  0.07332257926464081  l_e:  0.07332257926464081  l_g:  0.19504153728485107\n",
      "Epoch 34 : \n"
     ]
    },
    {
     "name": "stderr",
     "output_type": "stream",
     "text": [
      "100%|██████████| 50/50 [00:03<00:00, 15.23it/s]\n"
     ]
    },
    {
     "name": "stdout",
     "output_type": "stream",
     "text": [
      "loss:  0.4685818552970886  l_d:  0.07451789081096649  l_e:  0.07451789081096649  l_g:  0.31954607367515564\n",
      "Epoch 35 : \n"
     ]
    },
    {
     "name": "stderr",
     "output_type": "stream",
     "text": [
      "100%|██████████| 50/50 [00:03<00:00, 15.53it/s]\n"
     ]
    },
    {
     "name": "stdout",
     "output_type": "stream",
     "text": [
      "loss:  0.40334784984588623  l_d:  0.09073617309331894  l_e:  0.09073617309331894  l_g:  0.22187548875808716\n",
      "Epoch 36 : \n"
     ]
    },
    {
     "name": "stderr",
     "output_type": "stream",
     "text": [
      "100%|██████████| 50/50 [00:03<00:00, 16.61it/s]\n"
     ]
    },
    {
     "name": "stdout",
     "output_type": "stream",
     "text": [
      "loss:  0.43311217427253723  l_d:  0.08494125306606293  l_e:  0.08494125306606293  l_g:  0.2632296681404114\n",
      "Epoch 37 : \n"
     ]
    },
    {
     "name": "stderr",
     "output_type": "stream",
     "text": [
      "100%|██████████| 50/50 [00:03<00:00, 14.52it/s]\n"
     ]
    },
    {
     "name": "stdout",
     "output_type": "stream",
     "text": [
      "loss:  0.40921878814697266  l_d:  0.08477809280157089  l_e:  0.08477810025215149  l_g:  0.23966260254383087\n",
      "Epoch 38 : \n"
     ]
    },
    {
     "name": "stderr",
     "output_type": "stream",
     "text": [
      "100%|██████████| 50/50 [00:03<00:00, 14.98it/s]\n"
     ]
    },
    {
     "name": "stdout",
     "output_type": "stream",
     "text": [
      "loss:  0.4082109034061432  l_d:  0.07331852614879608  l_e:  0.07331852614879608  l_g:  0.261573851108551\n",
      "Epoch 39 : \n"
     ]
    },
    {
     "name": "stderr",
     "output_type": "stream",
     "text": [
      "100%|██████████| 50/50 [00:03<00:00, 15.01it/s]\n"
     ]
    },
    {
     "name": "stdout",
     "output_type": "stream",
     "text": [
      "loss:  0.3397834897041321  l_d:  0.07385823130607605  l_e:  0.07385823130607605  l_g:  0.19206704199314117\n",
      "Epoch 40 : \n"
     ]
    },
    {
     "name": "stderr",
     "output_type": "stream",
     "text": [
      "100%|██████████| 50/50 [00:03<00:00, 15.18it/s]\n"
     ]
    },
    {
     "name": "stdout",
     "output_type": "stream",
     "text": [
      "loss:  0.3087524175643921  l_d:  0.07207931578159332  l_e:  0.07207931578159332  l_g:  0.16459380090236664\n"
     ]
    },
    {
     "data": {
      "image/png": "[encoded data removed]",
      "text/plain": [
       "<Figure size 640x480 with 1 Axes>"
      ]
     },
     "metadata": {},
     "output_type": "display_data"
    },
    {
     "name": "stdout",
     "output_type": "stream",
     "text": [
      "Epoch 41 : \n"
     ]
    },
    {
     "name": "stderr",
     "output_type": "stream",
     "text": [
      "100%|██████████| 50/50 [00:03<00:00, 16.47it/s]\n"
     ]
    },
    {
     "name": "stdout",
     "output_type": "stream",
     "text": [
      "loss:  0.40715938806533813  l_d:  0.07001397013664246  l_e:  0.07001397013664246  l_g:  0.2671314477920532\n",
      "Epoch 42 : \n"
     ]
    },
    {
     "name": "stderr",
     "output_type": "stream",
     "text": [
      "100%|██████████| 50/50 [00:03<00:00, 15.15it/s]\n"
     ]
    },
    {
     "name": "stdout",
     "output_type": "stream",
     "text": [
      "loss:  0.290997713804245  l_d:  0.07152460515499115  l_e:  0.07152460515499115  l_g:  0.1479485034942627\n",
      "Epoch 43 : \n"
     ]
    },
    {
     "name": "stderr",
     "output_type": "stream",
     "text": [
      "100%|██████████| 50/50 [00:03<00:00, 14.37it/s]\n"
     ]
    },
    {
     "name": "stdout",
     "output_type": "stream",
     "text": [
      "loss:  0.3242010772228241  l_d:  0.06960123777389526  l_e:  0.06960123777389526  l_g:  0.18499860167503357\n",
      "Epoch 44 : \n"
     ]
    },
    {
     "name": "stderr",
     "output_type": "stream",
     "text": [
      "100%|██████████| 50/50 [00:03<00:00, 14.48it/s]\n"
     ]
    },
    {
     "name": "stdout",
     "output_type": "stream",
     "text": [
      "loss:  0.35709524154663086  l_d:  0.08714162558317184  l_e:  0.08714162558317184  l_g:  0.18281200528144836\n",
      "Epoch 45 : \n"
     ]
    },
    {
     "name": "stderr",
     "output_type": "stream",
     "text": [
      "100%|██████████| 50/50 [00:03<00:00, 15.13it/s]\n"
     ]
    },
    {
     "name": "stdout",
     "output_type": "stream",
     "text": [
      "loss:  0.340737521648407  l_d:  0.0721515417098999  l_e:  0.0721515417098999  l_g:  0.19643443822860718\n",
      "Epoch 46 : \n"
     ]
    },
    {
     "name": "stderr",
     "output_type": "stream",
     "text": [
      "100%|██████████| 50/50 [00:03<00:00, 14.82it/s]\n"
     ]
    },
    {
     "name": "stdout",
     "output_type": "stream",
     "text": [
      "loss:  0.36399292945861816  l_d:  0.07520318776369095  l_e:  0.07520318031311035  l_g:  0.21358656883239746\n",
      "Epoch 47 : \n"
     ]
    },
    {
     "name": "stderr",
     "output_type": "stream",
     "text": [
      "100%|██████████| 50/50 [00:03<00:00, 15.65it/s]\n"
     ]
    },
    {
     "name": "stdout",
     "output_type": "stream",
     "text": [
      "loss:  0.6038579940795898  l_d:  0.15788140892982483  l_e:  0.15788140892982483  l_g:  0.2880951762199402\n",
      "Epoch 48 : \n"
     ]
    },
    {
     "name": "stderr",
     "output_type": "stream",
     "text": [
      "100%|██████████| 50/50 [00:03<00:00, 15.49it/s]\n"
     ]
    },
    {
     "name": "stdout",
     "output_type": "stream",
     "text": [
      "loss:  0.38334009051322937  l_d:  0.0781579315662384  l_e:  0.0781579315662384  l_g:  0.22702422738075256\n",
      "Epoch 49 : \n"
     ]
    },
    {
     "name": "stderr",
     "output_type": "stream",
     "text": [
      "100%|██████████| 50/50 [00:04<00:00, 12.44it/s]\n"
     ]
    },
    {
     "name": "stdout",
     "output_type": "stream",
     "text": [
      "loss:  0.2768605947494507  l_d:  0.07150115072727203  l_e:  0.07150115072727203  l_g:  0.1338583081960678\n",
      "Epoch 50 : \n"
     ]
    },
    {
     "name": "stderr",
     "output_type": "stream",
     "text": [
      "100%|██████████| 50/50 [00:03<00:00, 12.93it/s]\n"
     ]
    },
    {
     "name": "stdout",
     "output_type": "stream",
     "text": [
      "loss:  0.3209792375564575  l_d:  0.0721505731344223  l_e:  0.0721505731344223  l_g:  0.17667809128761292\n",
      "Epoch 51 : \n"
     ]
    },
    {
     "name": "stderr",
     "output_type": "stream",
     "text": [
      "100%|██████████| 50/50 [00:03<00:00, 14.11it/s]\n"
     ]
    },
    {
     "name": "stdout",
     "output_type": "stream",
     "text": [
      "loss:  0.2593892514705658  l_d:  0.06812742352485657  l_e:  0.06812742352485657  l_g:  0.12313439697027206\n",
      "Epoch 52 : \n"
     ]
    },
    {
     "name": "stderr",
     "output_type": "stream",
     "text": [
      "100%|██████████| 50/50 [00:03<00:00, 15.59it/s]\n"
     ]
    },
    {
     "name": "stdout",
     "output_type": "stream",
     "text": [
      "loss:  0.40519705414772034  l_d:  0.06827527284622192  l_e:  0.06827527284622192  l_g:  0.2686465084552765\n",
      "Epoch 53 : \n"
     ]
    },
    {
     "name": "stderr",
     "output_type": "stream",
     "text": [
      "100%|██████████| 50/50 [00:03<00:00, 15.68it/s]\n"
     ]
    },
    {
     "name": "stdout",
     "output_type": "stream",
     "text": [
      "loss:  0.4062129259109497  l_d:  0.06791102886199951  l_e:  0.06791103631258011  l_g:  0.2703908681869507\n",
      "Epoch 54 : \n"
     ]
    },
    {
     "name": "stderr",
     "output_type": "stream",
     "text": [
      "100%|██████████| 50/50 [00:03<00:00, 15.70it/s]\n"
     ]
    },
    {
     "name": "stdout",
     "output_type": "stream",
     "text": [
      "loss:  0.36826759576797485  l_d:  0.07010158151388168  l_e:  0.07010157406330109  l_g:  0.22806444764137268\n",
      "Epoch 55 : \n"
     ]
    },
    {
     "name": "stderr",
     "output_type": "stream",
     "text": [
      "100%|██████████| 50/50 [00:03<00:00, 15.68it/s]\n"
     ]
    },
    {
     "name": "stdout",
     "output_type": "stream",
     "text": [
      "loss:  0.35850682854652405  l_d:  0.07646872103214264  l_e:  0.07646872103214264  l_g:  0.20556938648223877\n",
      "Epoch 56 : \n"
     ]
    },
    {
     "name": "stderr",
     "output_type": "stream",
     "text": [
      "100%|██████████| 50/50 [00:03<00:00, 15.22it/s]\n"
     ]
    },
    {
     "name": "stdout",
     "output_type": "stream",
     "text": [
      "loss:  0.316036581993103  l_d:  0.07008422166109085  l_e:  0.07008422166109085  l_g:  0.17586815357208252\n",
      "Epoch 57 : \n"
     ]
    },
    {
     "name": "stderr",
     "output_type": "stream",
     "text": [
      "100%|██████████| 50/50 [00:03<00:00, 15.92it/s]\n"
     ]
    },
    {
     "name": "stdout",
     "output_type": "stream",
     "text": [
      "loss:  0.4092189371585846  l_d:  0.0694841593503952  l_e:  0.0694841593503952  l_g:  0.2702506184577942\n",
      "Epoch 58 : \n"
     ]
    },
    {
     "name": "stderr",
     "output_type": "stream",
     "text": [
      "100%|██████████| 50/50 [00:03<00:00, 14.78it/s]\n"
     ]
    },
    {
     "name": "stdout",
     "output_type": "stream",
     "text": [
      "loss:  0.4198903739452362  l_d:  0.0705113336443901  l_e:  0.07051132619380951  l_g:  0.2788677215576172\n",
      "Epoch 59 : \n"
     ]
    },
    {
     "name": "stderr",
     "output_type": "stream",
     "text": [
      "100%|██████████| 50/50 [00:03<00:00, 12.70it/s]\n"
     ]
    },
    {
     "name": "stdout",
     "output_type": "stream",
     "text": [
      "loss:  0.38778889179229736  l_d:  0.07301044464111328  l_e:  0.07301044464111328  l_g:  0.2417680025100708\n",
      "Epoch 60 : \n"
     ]
    },
    {
     "name": "stderr",
     "output_type": "stream",
     "text": [
      "100%|██████████| 50/50 [00:03<00:00, 14.00it/s]\n"
     ]
    },
    {
     "name": "stdout",
     "output_type": "stream",
     "text": [
      "loss:  0.34101226925849915  l_d:  0.06799240410327911  l_e:  0.06799240410327911  l_g:  0.20502746105194092\n"
     ]
    },
    {
     "data": {
      "image/png": "[encoded data removed]",
      "text/plain": [
       "<Figure size 640x480 with 1 Axes>"
      ]
     },
     "metadata": {},
     "output_type": "display_data"
    },
    {
     "name": "stdout",
     "output_type": "stream",
     "text": [
      "Epoch 61 : \n"
     ]
    },
    {
     "name": "stderr",
     "output_type": "stream",
     "text": [
      "100%|██████████| 50/50 [00:03<00:00, 12.93it/s]\n"
     ]
    },
    {
     "name": "stdout",
     "output_type": "stream",
     "text": [
      "loss:  0.44806215167045593  l_d:  0.10614977777004242  l_e:  0.10614977777004242  l_g:  0.2357625961303711\n",
      "Epoch 62 : \n"
     ]
    },
    {
     "name": "stderr",
     "output_type": "stream",
     "text": [
      "100%|██████████| 50/50 [00:03<00:00, 15.47it/s]\n"
     ]
    },
    {
     "name": "stdout",
     "output_type": "stream",
     "text": [
      "loss:  0.3712189495563507  l_d:  0.08924053609371185  l_e:  0.08924052864313126  l_g:  0.192737877368927\n",
      "Epoch 63 : \n"
     ]
    },
    {
     "name": "stderr",
     "output_type": "stream",
     "text": [
      "100%|██████████| 50/50 [00:03<00:00, 15.36it/s]\n"
     ]
    },
    {
     "name": "stdout",
     "output_type": "stream",
     "text": [
      "loss:  0.4625089764595032  l_d:  0.14526596665382385  l_e:  0.14526596665382385  l_g:  0.17197702825069427\n",
      "Epoch 64 : \n"
     ]
    },
    {
     "name": "stderr",
     "output_type": "stream",
     "text": [
      "100%|██████████| 50/50 [00:03<00:00, 15.75it/s]\n"
     ]
    },
    {
     "name": "stdout",
     "output_type": "stream",
     "text": [
      "loss:  0.40414324402809143  l_d:  0.08429038524627686  l_e:  0.08429038524627686  l_g:  0.23556247353553772\n",
      "Epoch 65 : \n"
     ]
    },
    {
     "name": "stderr",
     "output_type": "stream",
     "text": [
      "100%|██████████| 50/50 [00:03<00:00, 15.44it/s]\n"
     ]
    },
    {
     "name": "stdout",
     "output_type": "stream",
     "text": [
      "loss:  0.36878183484077454  l_d:  0.07252340018749237  l_e:  0.07252340018749237  l_g:  0.2237350344657898\n",
      "Epoch 66 : \n"
     ]
    },
    {
     "name": "stderr",
     "output_type": "stream",
     "text": [
      "100%|██████████| 50/50 [00:03<00:00, 14.68it/s]\n"
     ]
    },
    {
     "name": "stdout",
     "output_type": "stream",
     "text": [
      "loss:  0.2905197739601135  l_d:  0.06843775510787964  l_e:  0.06843775510787964  l_g:  0.15364424884319305\n",
      "Epoch 67 : \n"
     ]
    },
    {
     "name": "stderr",
     "output_type": "stream",
     "text": [
      "100%|██████████| 50/50 [00:03<00:00, 15.37it/s]\n"
     ]
    },
    {
     "name": "stdout",
     "output_type": "stream",
     "text": [
      "loss:  0.3744305372238159  l_d:  0.0676586851477623  l_e:  0.0676586851477623  l_g:  0.23911315202713013\n",
      "Epoch 68 : \n"
     ]
    },
    {
     "name": "stderr",
     "output_type": "stream",
     "text": [
      "100%|██████████| 50/50 [00:03<00:00, 14.67it/s]\n"
     ]
    },
    {
     "name": "stdout",
     "output_type": "stream",
     "text": [
      "loss:  0.36818766593933105  l_d:  0.07182986289262772  l_e:  0.07182986289262772  l_g:  0.22452792525291443\n",
      "Epoch 69 : \n"
     ]
    },
    {
     "name": "stderr",
     "output_type": "stream",
     "text": [
      "100%|██████████| 50/50 [00:03<00:00, 14.19it/s]\n"
     ]
    },
    {
     "name": "stdout",
     "output_type": "stream",
     "text": [
      "loss:  0.31876862049102783  l_d:  0.07868461310863495  l_e:  0.07868461310863495  l_g:  0.16139939427375793\n",
      "Epoch 70 : \n"
     ]
    },
    {
     "name": "stderr",
     "output_type": "stream",
     "text": [
      "100%|██████████| 50/50 [00:03<00:00, 16.05it/s]\n"
     ]
    },
    {
     "name": "stdout",
     "output_type": "stream",
     "text": [
      "loss:  0.35001206398010254  l_d:  0.07342921197414398  l_e:  0.07342921197414398  l_g:  0.20315365493297577\n",
      "Epoch 71 : \n"
     ]
    },
    {
     "name": "stderr",
     "output_type": "stream",
     "text": [
      "100%|██████████| 50/50 [00:03<00:00, 14.38it/s]\n"
     ]
    },
    {
     "name": "stdout",
     "output_type": "stream",
     "text": [
      "loss:  0.4005126357078552  l_d:  0.09474353492259979  l_e:  0.09474353492259979  l_g:  0.21102558076381683\n",
      "Epoch 72 : \n"
     ]
    },
    {
     "name": "stderr",
     "output_type": "stream",
     "text": [
      "100%|██████████| 50/50 [00:03<00:00, 15.20it/s]\n"
     ]
    },
    {
     "name": "stdout",
     "output_type": "stream",
     "text": [
      "loss:  0.41907739639282227  l_d:  0.07146406173706055  l_e:  0.07146406173706055  l_g:  0.27614927291870117\n",
      "Epoch 73 : \n"
     ]
    },
    {
     "name": "stderr",
     "output_type": "stream",
     "text": [
      "100%|██████████| 50/50 [00:04<00:00, 11.89it/s]\n"
     ]
    },
    {
     "name": "stdout",
     "output_type": "stream",
     "text": [
      "loss:  0.34410929679870605  l_d:  0.0697563886642456  l_e:  0.0697563886642456  l_g:  0.20459651947021484\n",
      "Epoch 74 : \n"
     ]
    },
    {
     "name": "stderr",
     "output_type": "stream",
     "text": [
      "100%|██████████| 50/50 [00:03<00:00, 14.92it/s]\n"
     ]
    },
    {
     "name": "stdout",
     "output_type": "stream",
     "text": [
      "loss:  0.3870158791542053  l_d:  0.06583074480295181  l_e:  0.06583074480295181  l_g:  0.2553543746471405\n",
      "Epoch 75 : \n"
     ]
    },
    {
     "name": "stderr",
     "output_type": "stream",
     "text": [
      "100%|██████████| 50/50 [00:03<00:00, 15.09it/s]\n"
     ]
    },
    {
     "name": "stdout",
     "output_type": "stream",
     "text": [
      "loss:  0.3876059949398041  l_d:  0.07269975543022156  l_e:  0.07269975543022156  l_g:  0.24220648407936096\n",
      "Epoch 76 : \n"
     ]
    },
    {
     "name": "stderr",
     "output_type": "stream",
     "text": [
      "100%|██████████| 50/50 [00:03<00:00, 16.32it/s]\n"
     ]
    },
    {
     "name": "stdout",
     "output_type": "stream",
     "text": [
      "loss:  0.38031983375549316  l_d:  0.06655634939670563  l_e:  0.06655634939670563  l_g:  0.24720712006092072\n",
      "Epoch 77 : \n"
     ]
    },
    {
     "name": "stderr",
     "output_type": "stream",
     "text": [
      "100%|██████████| 50/50 [00:03<00:00, 15.46it/s]\n"
     ]
    },
    {
     "name": "stdout",
     "output_type": "stream",
     "text": [
      "loss:  0.34426742792129517  l_d:  0.072117879986763  l_e:  0.072117879986763  l_g:  0.20003165304660797\n",
      "Epoch 78 : \n"
     ]
    },
    {
     "name": "stderr",
     "output_type": "stream",
     "text": [
      "100%|██████████| 50/50 [00:02<00:00, 16.82it/s]\n"
     ]
    },
    {
     "name": "stdout",
     "output_type": "stream",
     "text": [
      "loss:  0.363916277885437  l_d:  0.06868988275527954  l_e:  0.06868988275527954  l_g:  0.22653651237487793\n",
      "Epoch 79 : \n"
     ]
    },
    {
     "name": "stderr",
     "output_type": "stream",
     "text": [
      "100%|██████████| 50/50 [00:03<00:00, 15.60it/s]\n"
     ]
    },
    {
     "name": "stdout",
     "output_type": "stream",
     "text": [
      "loss:  0.29403895139694214  l_d:  0.06537891924381256  l_e:  0.06537891924381256  l_g:  0.16328111290931702\n",
      "Epoch 80 : \n"
     ]
    },
    {
     "name": "stderr",
     "output_type": "stream",
     "text": [
      "100%|██████████| 50/50 [00:03<00:00, 15.97it/s]\n"
     ]
    },
    {
     "name": "stdout",
     "output_type": "stream",
     "text": [
      "loss:  0.3661859631538391  l_d:  0.07670751959085464  l_e:  0.07670751959085464  l_g:  0.21277093887329102\n"
     ]
    },
    {
     "data": {
      "image/png": "[encoded data removed]",
      "text/plain": [
       "<Figure size 640x480 with 1 Axes>"
      ]
     },
     "metadata": {},
     "output_type": "display_data"
    },
    {
     "name": "stdout",
     "output_type": "stream",
     "text": [
      "Epoch 81 : \n"
     ]
    },
    {
     "name": "stderr",
     "output_type": "stream",
     "text": [
      "100%|██████████| 50/50 [00:03<00:00, 15.70it/s]\n"
     ]
    },
    {
     "name": "stdout",
     "output_type": "stream",
     "text": [
      "loss:  0.33224916458129883  l_d:  0.07206794619560242  l_e:  0.07206796109676361  l_g:  0.188113272190094\n",
      "Epoch 82 : \n"
     ]
    },
    {
     "name": "stderr",
     "output_type": "stream",
     "text": [
      "100%|██████████| 50/50 [00:03<00:00, 16.27it/s]\n"
     ]
    },
    {
     "name": "stdout",
     "output_type": "stream",
     "text": [
      "loss:  0.29364559054374695  l_d:  0.06962935626506805  l_e:  0.06962935626506805  l_g:  0.15438687801361084\n",
      "Epoch 83 : \n"
     ]
    },
    {
     "name": "stderr",
     "output_type": "stream",
     "text": [
      "100%|██████████| 50/50 [00:03<00:00, 15.10it/s]\n"
     ]
    },
    {
     "name": "stdout",
     "output_type": "stream",
     "text": [
      "loss:  0.4327481985092163  l_d:  0.09808839857578278  l_e:  0.09808839857578278  l_g:  0.23657140135765076\n",
      "Epoch 84 : \n"
     ]
    },
    {
     "name": "stderr",
     "output_type": "stream",
     "text": [
      "100%|██████████| 50/50 [00:03<00:00, 15.92it/s]\n"
     ]
    },
    {
     "name": "stdout",
     "output_type": "stream",
     "text": [
      "loss:  0.31313279271125793  l_d:  0.07568380981683731  l_e:  0.07568380981683731  l_g:  0.1617651730775833\n",
      "Epoch 85 : \n"
     ]
    },
    {
     "name": "stderr",
     "output_type": "stream",
     "text": [
      "100%|██████████| 50/50 [00:03<00:00, 14.12it/s]\n"
     ]
    },
    {
     "name": "stdout",
     "output_type": "stream",
     "text": [
      "loss:  0.32084453105926514  l_d:  0.0709768533706665  l_e:  0.0709768533706665  l_g:  0.17889082431793213\n",
      "Epoch 86 : \n"
     ]
    },
    {
     "name": "stderr",
     "output_type": "stream",
     "text": [
      "100%|██████████| 50/50 [00:03<00:00, 15.00it/s]\n"
     ]
    },
    {
     "name": "stdout",
     "output_type": "stream",
     "text": [
      "loss:  0.30957573652267456  l_d:  0.06666877865791321  l_e:  0.06666877865791321  l_g:  0.17623817920684814\n",
      "Epoch 87 : \n"
     ]
    },
    {
     "name": "stderr",
     "output_type": "stream",
     "text": [
      "100%|██████████| 50/50 [00:03<00:00, 15.17it/s]\n"
     ]
    },
    {
     "name": "stdout",
     "output_type": "stream",
     "text": [
      "loss:  0.3311115503311157  l_d:  0.07099022716283798  l_e:  0.07099022716283798  l_g:  0.18913109600543976\n",
      "Epoch 88 : \n"
     ]
    },
    {
     "name": "stderr",
     "output_type": "stream",
     "text": [
      "100%|██████████| 50/50 [00:03<00:00, 13.22it/s]\n"
     ]
    },
    {
     "name": "stdout",
     "output_type": "stream",
     "text": [
      "loss:  0.36136960983276367  l_d:  0.07762668281793594  l_e:  0.07762668281793594  l_g:  0.20611624419689178\n",
      "Epoch 89 : \n"
     ]
    },
    {
     "name": "stderr",
     "output_type": "stream",
     "text": [
      "100%|██████████| 50/50 [00:03<00:00, 15.73it/s]\n"
     ]
    },
    {
     "name": "stdout",
     "output_type": "stream",
     "text": [
      "loss:  0.3376295566558838  l_d:  0.06637322157621384  l_e:  0.06637322157621384  l_g:  0.2048831284046173\n",
      "Epoch 90 : \n"
     ]
    },
    {
     "name": "stderr",
     "output_type": "stream",
     "text": [
      "100%|██████████| 50/50 [00:03<00:00, 15.24it/s]\n"
     ]
    },
    {
     "name": "stdout",
     "output_type": "stream",
     "text": [
      "loss:  0.5807900428771973  l_d:  0.15388062596321106  l_e:  0.15388062596321106  l_g:  0.27302879095077515\n",
      "Epoch 91 : \n"
     ]
    },
    {
     "name": "stderr",
     "output_type": "stream",
     "text": [
      "100%|██████████| 50/50 [00:03<00:00, 14.92it/s]\n"
     ]
    },
    {
     "name": "stdout",
     "output_type": "stream",
     "text": [
      "loss:  0.32093262672424316  l_d:  0.06816451251506805  l_e:  0.06816451251506805  l_g:  0.18460361659526825\n",
      "Epoch 92 : \n"
     ]
    },
    {
     "name": "stderr",
     "output_type": "stream",
     "text": [
      "100%|██████████| 50/50 [00:03<00:00, 14.09it/s]\n"
     ]
    },
    {
     "name": "stdout",
     "output_type": "stream",
     "text": [
      "loss:  0.2975672781467438  l_d:  0.06859106570482254  l_e:  0.06859106570482254  l_g:  0.1603851467370987\n",
      "Epoch 93 : \n"
     ]
    },
    {
     "name": "stderr",
     "output_type": "stream",
     "text": [
      "100%|██████████| 50/50 [00:03<00:00, 14.28it/s]\n"
     ]
    },
    {
     "name": "stdout",
     "output_type": "stream",
     "text": [
      "loss:  0.35578930377960205  l_d:  0.07110245525836945  l_e:  0.07110245525836945  l_g:  0.21358439326286316\n",
      "Epoch 94 : \n"
     ]
    },
    {
     "name": "stderr",
     "output_type": "stream",
     "text": [
      "100%|██████████| 50/50 [00:03<00:00, 14.55it/s]\n"
     ]
    },
    {
     "name": "stdout",
     "output_type": "stream",
     "text": [
      "loss:  0.372441828250885  l_d:  0.06527650356292725  l_e:  0.06527650356292725  l_g:  0.2418888360261917\n",
      "Epoch 95 : \n"
     ]
    },
    {
     "name": "stderr",
     "output_type": "stream",
     "text": [
      "100%|██████████| 50/50 [00:03<00:00, 15.72it/s]\n"
     ]
    },
    {
     "name": "stdout",
     "output_type": "stream",
     "text": [
      "loss:  0.40174463391304016  l_d:  0.08152668178081512  l_e:  0.08152668178081512  l_g:  0.2386912703514099\n",
      "Epoch 96 : \n"
     ]
    },
    {
     "name": "stderr",
     "output_type": "stream",
     "text": [
      "100%|██████████| 50/50 [00:03<00:00, 15.58it/s]\n"
     ]
    },
    {
     "name": "stdout",
     "output_type": "stream",
     "text": [
      "loss:  0.37870681285858154  l_d:  0.06600038707256317  l_e:  0.06600038707256317  l_g:  0.2467060536146164\n",
      "Epoch 97 : \n"
     ]
    },
    {
     "name": "stderr",
     "output_type": "stream",
     "text": [
      "100%|██████████| 50/50 [00:03<00:00, 14.99it/s]\n"
     ]
    },
    {
     "name": "stdout",
     "output_type": "stream",
     "text": [
      "loss:  0.4337610602378845  l_d:  0.06631612032651901  l_e:  0.06631612032651901  l_g:  0.3011288046836853\n",
      "Epoch 98 : \n"
     ]
    },
    {
     "name": "stderr",
     "output_type": "stream",
     "text": [
      "100%|██████████| 50/50 [00:03<00:00, 14.51it/s]\n"
     ]
    },
    {
     "name": "stdout",
     "output_type": "stream",
     "text": [
      "loss:  0.4257229268550873  l_d:  0.07284767925739288  l_e:  0.07284767925739288  l_g:  0.2800275683403015\n",
      "Epoch 99 : \n"
     ]
    },
    {
     "name": "stderr",
     "output_type": "stream",
     "text": [
      "100%|██████████| 50/50 [00:03<00:00, 15.40it/s]\n"
     ]
    },
    {
     "name": "stdout",
     "output_type": "stream",
     "text": [
      "loss:  0.3973836898803711  l_d:  0.07855119556188583  l_e:  0.07855119556188583  l_g:  0.24028129875659943\n"
     ]
    }
   ],
   "source": [
    "train_d2c(100, 0.001, 1, 0.0000)"
   ]
  },
  {
   "cell_type": "code",
   "execution_count": 6,
   "metadata": {
    "scrolled": true
   },
   "outputs": [
    {
     "name": "stdout",
     "output_type": "stream",
     "text": [
      "Epoch 0 : \n"
     ]
    },
    {
     "name": "stderr",
     "output_type": "stream",
     "text": [
      "100%|██████████| 50/50 [00:03<00:00, 14.23it/s]\n"
     ]
    },
    {
     "name": "stdout",
     "output_type": "stream",
     "text": [
      "loss:  0.9473938345909119  l_d:  0.09869780391454697  l_e:  0.09869780391454697  l_g:  0.18749955296516418\n"
     ]
    },
    {
     "data": {
      "image/png": "[encoded data removed]",
      "text/plain": [
       "<Figure size 640x480 with 1 Axes>"
      ]
     },
     "metadata": {},
     "output_type": "display_data"
    },
    {
     "name": "stdout",
     "output_type": "stream",
     "text": [
      "Epoch 1 : \n"
     ]
    },
    {
     "name": "stderr",
     "output_type": "stream",
     "text": [
      "100%|██████████| 50/50 [00:03<00:00, 12.76it/s]\n"
     ]
    },
    {
     "name": "stdout",
     "output_type": "stream",
     "text": [
      "loss:  0.8619545698165894  l_d:  0.08244512975215912  l_e:  0.08244513720273972  l_g:  0.17426607012748718\n",
      "Epoch 2 : \n"
     ]
    },
    {
     "name": "stderr",
     "output_type": "stream",
     "text": [
      "100%|██████████| 50/50 [00:03<00:00, 13.11it/s]\n"
     ]
    },
    {
     "name": "stdout",
     "output_type": "stream",
     "text": [
      "loss:  0.9475983381271362  l_d:  0.08988655358552933  l_e:  0.08988654613494873  l_g:  0.1919563114643097\n",
      "Epoch 3 : \n"
     ]
    },
    {
     "name": "stderr",
     "output_type": "stream",
     "text": [
      "100%|██████████| 50/50 [00:03<00:00, 13.04it/s]\n"
     ]
    },
    {
     "name": "stdout",
     "output_type": "stream",
     "text": [
      "loss:  0.8915921449661255  l_d:  0.08249696344137192  l_e:  0.08249696344137192  l_g:  0.18164955079555511\n",
      "Epoch 4 : \n"
     ]
    },
    {
     "name": "stderr",
     "output_type": "stream",
     "text": [
      "100%|██████████| 50/50 [00:03<00:00, 13.07it/s]\n"
     ]
    },
    {
     "name": "stdout",
     "output_type": "stream",
     "text": [
      "loss:  0.8812285661697388  l_d:  0.09764714539051056  l_e:  0.09764714539051056  l_g:  0.17148357629776\n",
      "Epoch 5 : \n"
     ]
    },
    {
     "name": "stderr",
     "output_type": "stream",
     "text": [
      "100%|██████████| 50/50 [00:03<00:00, 12.58it/s]\n"
     ]
    },
    {
     "name": "stdout",
     "output_type": "stream",
     "text": [
      "loss:  0.7493417263031006  l_d:  0.08251398801803589  l_e:  0.08251398801803589  l_g:  0.1460784375667572\n",
      "Epoch 6 : \n"
     ]
    },
    {
     "name": "stderr",
     "output_type": "stream",
     "text": [
      "100%|██████████| 50/50 [00:03<00:00, 13.36it/s]\n"
     ]
    },
    {
     "name": "stdout",
     "output_type": "stream",
     "text": [
      "loss:  0.9437549710273743  l_d:  0.08745864033699036  l_e:  0.08745864033699036  l_g:  0.1922094225883484\n",
      "Epoch 7 : \n"
     ]
    },
    {
     "name": "stderr",
     "output_type": "stream",
     "text": [
      "100%|██████████| 50/50 [00:03<00:00, 13.88it/s]\n"
     ]
    },
    {
     "name": "stdout",
     "output_type": "stream",
     "text": [
      "loss:  0.9500453472137451  l_d:  0.08423002064228058  l_e:  0.08423002064228058  l_g:  0.1953963339328766\n",
      "Epoch 8 : \n"
     ]
    },
    {
     "name": "stderr",
     "output_type": "stream",
     "text": [
      "100%|██████████| 50/50 [00:03<00:00, 13.78it/s]\n"
     ]
    },
    {
     "name": "stdout",
     "output_type": "stream",
     "text": [
      "loss:  0.9321889281272888  l_d:  0.08690798282623291  l_e:  0.08690798282623291  l_g:  0.18959324061870575\n",
      "Epoch 9 : \n"
     ]
    },
    {
     "name": "stderr",
     "output_type": "stream",
     "text": [
      "100%|██████████| 50/50 [00:03<00:00, 12.82it/s]\n"
     ]
    },
    {
     "name": "stdout",
     "output_type": "stream",
     "text": [
      "loss:  1.1306896209716797  l_d:  0.13758894801139832  l_e:  0.13758894801139832  l_g:  0.21387794613838196\n",
      "Epoch 10 : \n"
     ]
    },
    {
     "name": "stderr",
     "output_type": "stream",
     "text": [
      "100%|██████████| 50/50 [00:04<00:00, 12.37it/s]\n"
     ]
    },
    {
     "name": "stdout",
     "output_type": "stream",
     "text": [
      "loss:  1.1774108409881592  l_d:  0.15894076228141785  l_e:  0.15894076228141785  l_g:  0.21488231420516968\n",
      "Epoch 11 : \n"
     ]
    },
    {
     "name": "stderr",
     "output_type": "stream",
     "text": [
      "100%|██████████| 50/50 [00:03<00:00, 14.21it/s]\n"
     ]
    },
    {
     "name": "stdout",
     "output_type": "stream",
     "text": [
      "loss:  0.8553199172019958  l_d:  0.08715995401144028  l_e:  0.08715995401144028  l_g:  0.17024999856948853\n",
      "Epoch 12 : \n"
     ]
    },
    {
     "name": "stderr",
     "output_type": "stream",
     "text": [
      "100%|██████████| 50/50 [00:03<00:00, 12.72it/s]\n"
     ]
    },
    {
     "name": "stdout",
     "output_type": "stream",
     "text": [
      "loss:  0.9164347648620605  l_d:  0.09283139556646347  l_e:  0.09283138811588287  l_g:  0.1826930046081543\n",
      "Epoch 13 : \n"
     ]
    },
    {
     "name": "stderr",
     "output_type": "stream",
     "text": [
      "100%|██████████| 50/50 [00:03<00:00, 13.25it/s]\n"
     ]
    },
    {
     "name": "stdout",
     "output_type": "stream",
     "text": [
      "loss:  1.0304961204528809  l_d:  0.1165546327829361  l_e:  0.1165546327829361  l_g:  0.19934670627117157\n",
      "Epoch 14 : \n"
     ]
    },
    {
     "name": "stderr",
     "output_type": "stream",
     "text": [
      "100%|██████████| 50/50 [00:03<00:00, 13.93it/s]\n"
     ]
    },
    {
     "name": "stdout",
     "output_type": "stream",
     "text": [
      "loss:  0.9893488883972168  l_d:  0.0838703066110611  l_e:  0.0838703066110611  l_g:  0.20540207624435425\n",
      "Epoch 15 : \n"
     ]
    },
    {
     "name": "stderr",
     "output_type": "stream",
     "text": [
      "100%|██████████| 50/50 [00:03<00:00, 13.09it/s]\n"
     ]
    },
    {
     "name": "stdout",
     "output_type": "stream",
     "text": [
      "loss:  0.8474112749099731  l_d:  0.09472357481718063  l_e:  0.09472357481718063  l_g:  0.16449102759361267\n",
      "Epoch 16 : \n"
     ]
    },
    {
     "name": "stderr",
     "output_type": "stream",
     "text": [
      "100%|██████████| 50/50 [00:03<00:00, 14.09it/s]\n"
     ]
    },
    {
     "name": "stdout",
     "output_type": "stream",
     "text": [
      "loss:  1.0127551555633545  l_d:  0.0887087807059288  l_e:  0.0887087807059288  l_g:  0.20883440971374512\n",
      "Epoch 17 : \n"
     ]
    },
    {
     "name": "stderr",
     "output_type": "stream",
     "text": [
      "100%|██████████| 50/50 [00:03<00:00, 14.36it/s]\n"
     ]
    },
    {
     "name": "stdout",
     "output_type": "stream",
     "text": [
      "loss:  0.8268169164657593  l_d:  0.08467806875705719  l_e:  0.08467806875705719  l_g:  0.16436520218849182\n",
      "Epoch 18 : \n"
     ]
    },
    {
     "name": "stderr",
     "output_type": "stream",
     "text": [
      "100%|██████████| 50/50 [00:03<00:00, 13.88it/s]\n"
     ]
    },
    {
     "name": "stdout",
     "output_type": "stream",
     "text": [
      "loss:  0.8214972019195557  l_d:  0.08928541094064713  l_e:  0.08928541094064713  l_g:  0.16073159873485565\n",
      "Epoch 19 : \n"
     ]
    },
    {
     "name": "stderr",
     "output_type": "stream",
     "text": [
      "100%|██████████| 50/50 [00:03<00:00, 13.82it/s]\n"
     ]
    },
    {
     "name": "stdout",
     "output_type": "stream",
     "text": [
      "loss:  0.934911847114563  l_d:  0.09047119319438934  l_e:  0.09047119319438934  l_g:  0.18849235773086548\n",
      "Epoch 20 : \n"
     ]
    },
    {
     "name": "stderr",
     "output_type": "stream",
     "text": [
      "100%|██████████| 50/50 [00:03<00:00, 14.08it/s]\n"
     ]
    },
    {
     "name": "stdout",
     "output_type": "stream",
     "text": [
      "loss:  1.29412841796875  l_d:  0.16643159091472626  l_e:  0.16643159091472626  l_g:  0.24031630158424377\n"
     ]
    },
    {
     "data": {
      "image/png": "[encoded data removed]",
      "text/plain": [
       "<Figure size 640x480 with 1 Axes>"
      ]
     },
     "metadata": {},
     "output_type": "display_data"
    },
    {
     "name": "stdout",
     "output_type": "stream",
     "text": [
      "Epoch 21 : \n"
     ]
    },
    {
     "name": "stderr",
     "output_type": "stream",
     "text": [
      "100%|██████████| 50/50 [00:03<00:00, 14.12it/s]\n"
     ]
    },
    {
     "name": "stdout",
     "output_type": "stream",
     "text": [
      "loss:  1.4590158462524414  l_d:  0.2942814826965332  l_e:  0.2942814826965332  l_g:  0.21761320531368256\n",
      "Epoch 22 : \n"
     ]
    },
    {
     "name": "stderr",
     "output_type": "stream",
     "text": [
      "100%|██████████| 50/50 [00:04<00:00, 12.35it/s]\n"
     ]
    },
    {
     "name": "stdout",
     "output_type": "stream",
     "text": [
      "loss:  0.8979662656784058  l_d:  0.16850101947784424  l_e:  0.16850103437900543  l_g:  0.14024105668067932\n",
      "Epoch 23 : \n"
     ]
    },
    {
     "name": "stderr",
     "output_type": "stream",
     "text": [
      "100%|██████████| 50/50 [00:03<00:00, 14.27it/s]\n"
     ]
    },
    {
     "name": "stdout",
     "output_type": "stream",
     "text": [
      "loss:  1.1663693189620972  l_d:  0.19281332194805145  l_e:  0.19281332194805145  l_g:  0.19518567621707916\n",
      "Epoch 24 : \n"
     ]
    },
    {
     "name": "stderr",
     "output_type": "stream",
     "text": [
      "100%|██████████| 50/50 [00:03<00:00, 14.56it/s]\n"
     ]
    },
    {
     "name": "stdout",
     "output_type": "stream",
     "text": [
      "loss:  0.8087167143821716  l_d:  0.09201693534851074  l_e:  0.09201693534851074  l_g:  0.15617071092128754\n",
      "Epoch 25 : \n"
     ]
    },
    {
     "name": "stderr",
     "output_type": "stream",
     "text": [
      "100%|██████████| 50/50 [00:03<00:00, 13.56it/s]\n"
     ]
    },
    {
     "name": "stdout",
     "output_type": "stream",
     "text": [
      "loss:  0.8559678792953491  l_d:  0.08907131850719452  l_e:  0.08907131850719452  l_g:  0.16945630311965942\n",
      "Epoch 26 : \n"
     ]
    },
    {
     "name": "stderr",
     "output_type": "stream",
     "text": [
      "100%|██████████| 50/50 [00:03<00:00, 13.62it/s]\n"
     ]
    },
    {
     "name": "stdout",
     "output_type": "stream",
     "text": [
      "loss:  0.922376275062561  l_d:  0.08480576425790787  l_e:  0.08480576425790787  l_g:  0.18819119036197662\n",
      "Epoch 27 : \n"
     ]
    },
    {
     "name": "stderr",
     "output_type": "stream",
     "text": [
      "100%|██████████| 50/50 [00:03<00:00, 13.12it/s]\n"
     ]
    },
    {
     "name": "stdout",
     "output_type": "stream",
     "text": [
      "loss:  0.8684807419776917  l_d:  0.08429229259490967  l_e:  0.08429229259490967  l_g:  0.17497403919696808\n",
      "Epoch 28 : \n"
     ]
    },
    {
     "name": "stderr",
     "output_type": "stream",
     "text": [
      "100%|██████████| 50/50 [00:03<00:00, 12.94it/s]\n"
     ]
    },
    {
     "name": "stdout",
     "output_type": "stream",
     "text": [
      "loss:  0.9763821363449097  l_d:  0.08567117154598236  l_e:  0.08567117899656296  l_g:  0.20125994086265564\n",
      "Epoch 29 : \n"
     ]
    },
    {
     "name": "stderr",
     "output_type": "stream",
     "text": [
      "100%|██████████| 50/50 [00:03<00:00, 13.61it/s]\n"
     ]
    },
    {
     "name": "stdout",
     "output_type": "stream",
     "text": [
      "loss:  1.2385176420211792  l_d:  0.2548791468143463  l_e:  0.2548791766166687  l_g:  0.18218982219696045\n",
      "Epoch 30 : \n"
     ]
    },
    {
     "name": "stderr",
     "output_type": "stream",
     "text": [
      "100%|██████████| 50/50 [00:03<00:00, 15.00it/s]\n"
     ]
    },
    {
     "name": "stdout",
     "output_type": "stream",
     "text": [
      "loss:  0.8979204893112183  l_d:  0.08426956087350845  l_e:  0.08426956087350845  l_g:  0.18234534561634064\n",
      "Epoch 31 : \n"
     ]
    },
    {
     "name": "stderr",
     "output_type": "stream",
     "text": [
      "100%|██████████| 50/50 [00:03<00:00, 14.46it/s]\n"
     ]
    },
    {
     "name": "stdout",
     "output_type": "stream",
     "text": [
      "loss:  0.7790360450744629  l_d:  0.0953889936208725  l_e:  0.0953889936208725  l_g:  0.14706450700759888\n",
      "Epoch 32 : \n"
     ]
    },
    {
     "name": "stderr",
     "output_type": "stream",
     "text": [
      "100%|██████████| 50/50 [00:03<00:00, 13.66it/s]\n"
     ]
    },
    {
     "name": "stdout",
     "output_type": "stream",
     "text": [
      "loss:  0.9757198095321655  l_d:  0.11108764261007309  l_e:  0.11108763515949249  l_g:  0.18838612735271454\n",
      "Epoch 33 : \n"
     ]
    },
    {
     "name": "stderr",
     "output_type": "stream",
     "text": [
      "100%|██████████| 50/50 [00:03<00:00, 13.13it/s]\n"
     ]
    },
    {
     "name": "stdout",
     "output_type": "stream",
     "text": [
      "loss:  0.6891417503356934  l_d:  0.10599224269390106  l_e:  0.10599224269390106  l_g:  0.11928930878639221\n",
      "Epoch 34 : \n"
     ]
    },
    {
     "name": "stderr",
     "output_type": "stream",
     "text": [
      "100%|██████████| 50/50 [00:03<00:00, 14.10it/s]\n"
     ]
    },
    {
     "name": "stdout",
     "output_type": "stream",
     "text": [
      "loss:  0.7177053689956665  l_d:  0.09128494560718536  l_e:  0.09128494560718536  l_g:  0.13378386199474335\n",
      "Epoch 35 : \n"
     ]
    },
    {
     "name": "stderr",
     "output_type": "stream",
     "text": [
      "100%|██████████| 50/50 [00:03<00:00, 13.30it/s]\n"
     ]
    },
    {
     "name": "stdout",
     "output_type": "stream",
     "text": [
      "loss:  0.8089662194252014  l_d:  0.08903038501739502  l_e:  0.08903038501739502  l_g:  0.15772636234760284\n",
      "Epoch 36 : \n"
     ]
    },
    {
     "name": "stderr",
     "output_type": "stream",
     "text": [
      "100%|██████████| 50/50 [00:03<00:00, 14.15it/s]\n"
     ]
    },
    {
     "name": "stdout",
     "output_type": "stream",
     "text": [
      "loss:  1.0187301635742188  l_d:  0.0909011960029602  l_e:  0.0909011960029602  l_g:  0.20923194289207458\n",
      "Epoch 37 : \n"
     ]
    },
    {
     "name": "stderr",
     "output_type": "stream",
     "text": [
      "100%|██████████| 50/50 [00:03<00:00, 15.28it/s]\n"
     ]
    },
    {
     "name": "stdout",
     "output_type": "stream",
     "text": [
      "loss:  1.11463463306427  l_d:  0.1495983600616455  l_e:  0.1495983600616455  l_g:  0.20385947823524475\n",
      "Epoch 38 : \n"
     ]
    },
    {
     "name": "stderr",
     "output_type": "stream",
     "text": [
      "100%|██████████| 50/50 [00:03<00:00, 13.15it/s]\n"
     ]
    },
    {
     "name": "stdout",
     "output_type": "stream",
     "text": [
      "loss:  0.7862843871116638  l_d:  0.085332952439785  l_e:  0.085332952439785  l_g:  0.15390461683273315\n",
      "Epoch 39 : \n"
     ]
    },
    {
     "name": "stderr",
     "output_type": "stream",
     "text": [
      "100%|██████████| 50/50 [00:03<00:00, 14.15it/s]\n"
     ]
    },
    {
     "name": "stdout",
     "output_type": "stream",
     "text": [
      "loss:  0.8231180906295776  l_d:  0.10006193816661835  l_e:  0.10006193816661835  l_g:  0.15574854612350464\n",
      "Epoch 40 : \n"
     ]
    },
    {
     "name": "stderr",
     "output_type": "stream",
     "text": [
      "100%|██████████| 50/50 [00:03<00:00, 14.15it/s]\n"
     ]
    },
    {
     "name": "stdout",
     "output_type": "stream",
     "text": [
      "loss:  1.0479881763458252  l_d:  0.08613714575767517  l_e:  0.08613714575767517  l_g:  0.2189284712076187\n"
     ]
    },
    {
     "data": {
      "image/png": "[encoded data removed]",
      "text/plain": [
       "<Figure size 640x480 with 1 Axes>"
      ]
     },
     "metadata": {},
     "output_type": "display_data"
    },
    {
     "name": "stdout",
     "output_type": "stream",
     "text": [
      "Epoch 41 : \n"
     ]
    },
    {
     "name": "stderr",
     "output_type": "stream",
     "text": [
      "100%|██████████| 50/50 [00:03<00:00, 13.37it/s]\n"
     ]
    },
    {
     "name": "stdout",
     "output_type": "stream",
     "text": [
      "loss:  0.7717949151992798  l_d:  0.11353861540555954  l_e:  0.11353860795497894  l_g:  0.13617941737174988\n",
      "Epoch 42 : \n"
     ]
    },
    {
     "name": "stderr",
     "output_type": "stream",
     "text": [
      "100%|██████████| 50/50 [00:03<00:00, 13.86it/s]\n"
     ]
    },
    {
     "name": "stdout",
     "output_type": "stream",
     "text": [
      "loss:  1.0946869850158691  l_d:  0.25394800305366516  l_e:  0.25394800305366516  l_g:  0.1466977596282959\n",
      "Epoch 43 : \n"
     ]
    },
    {
     "name": "stderr",
     "output_type": "stream",
     "text": [
      "100%|██████████| 50/50 [00:03<00:00, 13.07it/s]\n"
     ]
    },
    {
     "name": "stdout",
     "output_type": "stream",
     "text": [
      "loss:  0.7553199529647827  l_d:  0.08589517325162888  l_e:  0.08589516580104828  l_g:  0.14588241279125214\n",
      "Epoch 44 : \n"
     ]
    },
    {
     "name": "stderr",
     "output_type": "stream",
     "text": [
      "100%|██████████| 50/50 [00:03<00:00, 13.00it/s]\n"
     ]
    },
    {
     "name": "stdout",
     "output_type": "stream",
     "text": [
      "loss:  0.6310437917709351  l_d:  0.08815930783748627  l_e:  0.08815930783748627  l_g:  0.11368129402399063\n",
      "Epoch 45 : \n"
     ]
    },
    {
     "name": "stderr",
     "output_type": "stream",
     "text": [
      "100%|██████████| 50/50 [00:03<00:00, 14.81it/s]\n"
     ]
    },
    {
     "name": "stdout",
     "output_type": "stream",
     "text": [
      "loss:  1.6269209384918213  l_d:  0.3312358260154724  l_e:  0.3312358260154724  l_g:  0.24111230671405792\n",
      "Epoch 46 : \n"
     ]
    },
    {
     "name": "stderr",
     "output_type": "stream",
     "text": [
      "100%|██████████| 50/50 [00:03<00:00, 13.71it/s]\n"
     ]
    },
    {
     "name": "stdout",
     "output_type": "stream",
     "text": [
      "loss:  0.8012190461158752  l_d:  0.11685542017221451  l_e:  0.11685542017221451  l_g:  0.14187705516815186\n",
      "Epoch 47 : \n"
     ]
    },
    {
     "name": "stderr",
     "output_type": "stream",
     "text": [
      "100%|██████████| 50/50 [00:03<00:00, 14.32it/s]\n"
     ]
    },
    {
     "name": "stdout",
     "output_type": "stream",
     "text": [
      "loss:  0.8593083024024963  l_d:  0.09312886744737625  l_e:  0.09312886744737625  l_g:  0.16826264560222626\n",
      "Epoch 48 : \n"
     ]
    },
    {
     "name": "stderr",
     "output_type": "stream",
     "text": [
      "100%|██████████| 50/50 [00:04<00:00, 12.38it/s]\n"
     ]
    },
    {
     "name": "stdout",
     "output_type": "stream",
     "text": [
      "loss:  1.0384140014648438  l_d:  0.08758583664894104  l_e:  0.08758583664894104  l_g:  0.21581056714057922\n",
      "Epoch 49 : \n"
     ]
    },
    {
     "name": "stderr",
     "output_type": "stream",
     "text": [
      "100%|██████████| 50/50 [00:03<00:00, 13.87it/s]\n"
     ]
    },
    {
     "name": "stdout",
     "output_type": "stream",
     "text": [
      "loss:  0.8451220989227295  l_d:  0.09742587804794312  l_e:  0.09742587804794312  l_g:  0.16256758570671082\n",
      "Epoch 50 : \n"
     ]
    },
    {
     "name": "stderr",
     "output_type": "stream",
     "text": [
      "100%|██████████| 50/50 [00:03<00:00, 12.73it/s]\n"
     ]
    },
    {
     "name": "stdout",
     "output_type": "stream",
     "text": [
      "loss:  0.9347810745239258  l_d:  0.11533147096633911  l_e:  0.11533147096633911  l_g:  0.1760295331478119\n",
      "Epoch 51 : \n"
     ]
    },
    {
     "name": "stderr",
     "output_type": "stream",
     "text": [
      "100%|██████████| 50/50 [00:03<00:00, 13.18it/s]\n"
     ]
    },
    {
     "name": "stdout",
     "output_type": "stream",
     "text": [
      "loss:  1.0419753789901733  l_d:  0.09271329641342163  l_e:  0.09271329641342163  l_g:  0.21413719654083252\n",
      "Epoch 52 : \n"
     ]
    },
    {
     "name": "stderr",
     "output_type": "stream",
     "text": [
      "100%|██████████| 50/50 [00:03<00:00, 13.85it/s]\n"
     ]
    },
    {
     "name": "stdout",
     "output_type": "stream",
     "text": [
      "loss:  0.8312505483627319  l_d:  0.09434568136930466  l_e:  0.09434567391872406  l_g:  0.16063979268074036\n",
      "Epoch 53 : \n"
     ]
    },
    {
     "name": "stderr",
     "output_type": "stream",
     "text": [
      "100%|██████████| 50/50 [00:03<00:00, 13.79it/s]\n"
     ]
    },
    {
     "name": "stdout",
     "output_type": "stream",
     "text": [
      "loss:  1.1261910200119019  l_d:  0.08972257375717163  l_e:  0.08972257375717163  l_g:  0.23668646812438965\n",
      "Epoch 54 : \n"
     ]
    },
    {
     "name": "stderr",
     "output_type": "stream",
     "text": [
      "100%|██████████| 50/50 [00:03<00:00, 13.05it/s]\n"
     ]
    },
    {
     "name": "stdout",
     "output_type": "stream",
     "text": [
      "loss:  1.0021785497665405  l_d:  0.09730923920869827  l_e:  0.09730923175811768  l_g:  0.2018900215625763\n",
      "Epoch 55 : \n"
     ]
    },
    {
     "name": "stderr",
     "output_type": "stream",
     "text": [
      "100%|██████████| 50/50 [00:03<00:00, 14.46it/s]\n"
     ]
    },
    {
     "name": "stdout",
     "output_type": "stream",
     "text": [
      "loss:  1.093088984489441  l_d:  0.13772350549697876  l_e:  0.13772350549697876  l_g:  0.20441049337387085\n",
      "Epoch 56 : \n"
     ]
    },
    {
     "name": "stderr",
     "output_type": "stream",
     "text": [
      "100%|██████████| 50/50 [00:03<00:00, 13.40it/s]\n"
     ]
    },
    {
     "name": "stdout",
     "output_type": "stream",
     "text": [
      "loss:  0.6772075295448303  l_d:  0.08999228477478027  l_e:  0.08999228477478027  l_g:  0.12430573999881744\n",
      "Epoch 57 : \n"
     ]
    },
    {
     "name": "stderr",
     "output_type": "stream",
     "text": [
      "100%|██████████| 50/50 [00:03<00:00, 13.87it/s]\n"
     ]
    },
    {
     "name": "stdout",
     "output_type": "stream",
     "text": [
      "loss:  0.8476657867431641  l_d:  0.10070227831602097  l_e:  0.10070227831602097  l_g:  0.16156530380249023\n",
      "Epoch 58 : \n"
     ]
    },
    {
     "name": "stderr",
     "output_type": "stream",
     "text": [
      "100%|██████████| 50/50 [00:03<00:00, 14.93it/s]\n"
     ]
    },
    {
     "name": "stdout",
     "output_type": "stream",
     "text": [
      "loss:  0.9928909540176392  l_d:  0.08881263434886932  l_e:  0.08881263434886932  l_g:  0.20381641387939453\n",
      "Epoch 59 : \n"
     ]
    },
    {
     "name": "stderr",
     "output_type": "stream",
     "text": [
      "100%|██████████| 50/50 [00:03<00:00, 14.23it/s]\n"
     ]
    },
    {
     "name": "stdout",
     "output_type": "stream",
     "text": [
      "loss:  1.2298386096954346  l_d:  0.15790654718875885  l_e:  0.15790656208992004  l_g:  0.22850638628005981\n",
      "Epoch 60 : \n"
     ]
    },
    {
     "name": "stderr",
     "output_type": "stream",
     "text": [
      "100%|██████████| 50/50 [00:03<00:00, 15.34it/s]\n"
     ]
    },
    {
     "name": "stdout",
     "output_type": "stream",
     "text": [
      "loss:  1.0057860612869263  l_d:  0.08418821543455124  l_e:  0.08418820798397064  l_g:  0.20935240387916565\n"
     ]
    },
    {
     "data": {
      "image/png": "[encoded data removed]",
      "text/plain": [
       "<Figure size 640x480 with 1 Axes>"
      ]
     },
     "metadata": {},
     "output_type": "display_data"
    },
    {
     "name": "stdout",
     "output_type": "stream",
     "text": [
      "Epoch 61 : \n"
     ]
    },
    {
     "name": "stderr",
     "output_type": "stream",
     "text": [
      "100%|██████████| 50/50 [00:03<00:00, 14.34it/s]\n"
     ]
    },
    {
     "name": "stdout",
     "output_type": "stream",
     "text": [
      "loss:  1.305983543395996  l_d:  0.1686960756778717  l_e:  0.1686960756778717  l_g:  0.24214786291122437\n",
      "Epoch 62 : \n"
     ]
    },
    {
     "name": "stderr",
     "output_type": "stream",
     "text": [
      "100%|██████████| 50/50 [00:03<00:00, 13.89it/s]\n"
     ]
    },
    {
     "name": "stdout",
     "output_type": "stream",
     "text": [
      "loss:  0.6694802641868591  l_d:  0.10877916216850281  l_e:  0.10877916216850281  l_g:  0.11298048496246338\n",
      "Epoch 63 : \n"
     ]
    },
    {
     "name": "stderr",
     "output_type": "stream",
     "text": [
      "100%|██████████| 50/50 [00:03<00:00, 14.27it/s]\n"
     ]
    },
    {
     "name": "stdout",
     "output_type": "stream",
     "text": [
      "loss:  0.9309342503547668  l_d:  0.08885204792022705  l_e:  0.08885204792022705  l_g:  0.18830753862857819\n",
      "Epoch 64 : \n"
     ]
    },
    {
     "name": "stderr",
     "output_type": "stream",
     "text": [
      "100%|██████████| 50/50 [00:03<00:00, 14.91it/s]\n"
     ]
    },
    {
     "name": "stdout",
     "output_type": "stream",
     "text": [
      "loss:  0.9125315546989441  l_d:  0.1104380190372467  l_e:  0.1104380190372467  l_g:  0.17291387915611267\n",
      "Epoch 65 : \n"
     ]
    },
    {
     "name": "stderr",
     "output_type": "stream",
     "text": [
      "100%|██████████| 50/50 [00:03<00:00, 14.11it/s]\n"
     ]
    },
    {
     "name": "stdout",
     "output_type": "stream",
     "text": [
      "loss:  0.8260554671287537  l_d:  0.14643141627311707  l_e:  0.14643141627311707  l_g:  0.13329815864562988\n",
      "Epoch 66 : \n"
     ]
    },
    {
     "name": "stderr",
     "output_type": "stream",
     "text": [
      "100%|██████████| 50/50 [00:03<00:00, 14.64it/s]\n"
     ]
    },
    {
     "name": "stdout",
     "output_type": "stream",
     "text": [
      "loss:  0.7128690481185913  l_d:  0.08572141826152802  l_e:  0.08572141826152802  l_g:  0.13535656034946442\n",
      "Epoch 67 : \n"
     ]
    },
    {
     "name": "stderr",
     "output_type": "stream",
     "text": [
      "100%|██████████| 50/50 [00:03<00:00, 13.59it/s]\n"
     ]
    },
    {
     "name": "stdout",
     "output_type": "stream",
     "text": [
      "loss:  0.7803900241851807  l_d:  0.0916147232055664  l_e:  0.0916147232055664  l_g:  0.14929014444351196\n",
      "Epoch 68 : \n"
     ]
    },
    {
     "name": "stderr",
     "output_type": "stream",
     "text": [
      "100%|██████████| 50/50 [00:03<00:00, 12.53it/s]\n"
     ]
    },
    {
     "name": "stdout",
     "output_type": "stream",
     "text": [
      "loss:  0.6976848840713501  l_d:  0.08863680064678192  l_e:  0.08863679319620132  l_g:  0.13010281324386597\n",
      "Epoch 69 : \n"
     ]
    },
    {
     "name": "stderr",
     "output_type": "stream",
     "text": [
      "100%|██████████| 50/50 [00:03<00:00, 13.11it/s]\n"
     ]
    },
    {
     "name": "stdout",
     "output_type": "stream",
     "text": [
      "loss:  0.8726304173469543  l_d:  0.1243375912308693  l_e:  0.1243375912308693  l_g:  0.15598881244659424\n",
      "Epoch 70 : \n"
     ]
    },
    {
     "name": "stderr",
     "output_type": "stream",
     "text": [
      "100%|██████████| 50/50 [00:03<00:00, 14.83it/s]\n"
     ]
    },
    {
     "name": "stdout",
     "output_type": "stream",
     "text": [
      "loss:  1.0463016033172607  l_d:  0.08654935657978058  l_e:  0.08654935657978058  l_g:  0.2183007299900055\n",
      "Epoch 71 : \n"
     ]
    },
    {
     "name": "stderr",
     "output_type": "stream",
     "text": [
      "100%|██████████| 50/50 [00:03<00:00, 15.01it/s]\n"
     ]
    },
    {
     "name": "stdout",
     "output_type": "stream",
     "text": [
      "loss:  1.273278832435608  l_d:  0.2652694284915924  l_e:  0.2652694284915924  l_g:  0.18568499386310577\n",
      "Epoch 72 : \n"
     ]
    },
    {
     "name": "stderr",
     "output_type": "stream",
     "text": [
      "100%|██████████| 50/50 [00:03<00:00, 12.93it/s]\n"
     ]
    },
    {
     "name": "stdout",
     "output_type": "stream",
     "text": [
      "loss:  0.9665954113006592  l_d:  0.08725964277982712  l_e:  0.08725964277982712  l_g:  0.19801902770996094\n",
      "Epoch 73 : \n"
     ]
    },
    {
     "name": "stderr",
     "output_type": "stream",
     "text": [
      "100%|██████████| 50/50 [00:04<00:00, 12.16it/s]\n"
     ]
    },
    {
     "name": "stdout",
     "output_type": "stream",
     "text": [
      "loss:  0.6721011996269226  l_d:  0.11156033724546432  l_e:  0.11156033724546432  l_g:  0.11224512755870819\n",
      "Epoch 74 : \n"
     ]
    },
    {
     "name": "stderr",
     "output_type": "stream",
     "text": [
      "100%|██████████| 50/50 [00:04<00:00, 11.94it/s]\n"
     ]
    },
    {
     "name": "stdout",
     "output_type": "stream",
     "text": [
      "loss:  0.9326091408729553  l_d:  0.09611299633979797  l_e:  0.09611299633979797  l_g:  0.18509578704833984\n",
      "Epoch 75 : \n"
     ]
    },
    {
     "name": "stderr",
     "output_type": "stream",
     "text": [
      "100%|██████████| 50/50 [00:03<00:00, 14.40it/s]\n"
     ]
    },
    {
     "name": "stdout",
     "output_type": "stream",
     "text": [
      "loss:  0.8023226261138916  l_d:  0.08512340486049652  l_e:  0.08512340486049652  l_g:  0.15801894664764404\n",
      "Epoch 76 : \n"
     ]
    },
    {
     "name": "stderr",
     "output_type": "stream",
     "text": [
      "100%|██████████| 50/50 [00:03<00:00, 13.79it/s]\n"
     ]
    },
    {
     "name": "stdout",
     "output_type": "stream",
     "text": [
      "loss:  1.0089306831359863  l_d:  0.1855936199426651  l_e:  0.1855936050415039  l_g:  0.15943586826324463\n",
      "Epoch 77 : \n"
     ]
    },
    {
     "name": "stderr",
     "output_type": "stream",
     "text": [
      "100%|██████████| 50/50 [00:03<00:00, 14.17it/s]\n"
     ]
    },
    {
     "name": "stdout",
     "output_type": "stream",
     "text": [
      "loss:  1.0371711254119873  l_d:  0.0862502008676529  l_e:  0.0862502008676529  l_g:  0.21616768836975098\n",
      "Epoch 78 : \n"
     ]
    },
    {
     "name": "stderr",
     "output_type": "stream",
     "text": [
      "100%|██████████| 50/50 [00:03<00:00, 14.01it/s]\n"
     ]
    },
    {
     "name": "stdout",
     "output_type": "stream",
     "text": [
      "loss:  0.8306190967559814  l_d:  0.08500371873378754  l_e:  0.08500371873378754  l_g:  0.165152907371521\n",
      "Epoch 79 : \n"
     ]
    },
    {
     "name": "stderr",
     "output_type": "stream",
     "text": [
      "100%|██████████| 50/50 [00:03<00:00, 13.91it/s]\n"
     ]
    },
    {
     "name": "stdout",
     "output_type": "stream",
     "text": [
      "loss:  1.0991290807724  l_d:  0.08591783046722412  l_e:  0.08591783046722412  l_g:  0.23182335495948792\n",
      "Epoch 80 : \n"
     ]
    },
    {
     "name": "stderr",
     "output_type": "stream",
     "text": [
      "100%|██████████| 50/50 [00:03<00:00, 12.81it/s]\n"
     ]
    },
    {
     "name": "stdout",
     "output_type": "stream",
     "text": [
      "loss:  0.8050886392593384  l_d:  0.09268294274806976  l_e:  0.09268294274806976  l_g:  0.1549306958913803\n"
     ]
    },
    {
     "data": {
      "image/png": "[encoded data removed]",
      "text/plain": [
       "<Figure size 640x480 with 1 Axes>"
      ]
     },
     "metadata": {},
     "output_type": "display_data"
    },
    {
     "name": "stdout",
     "output_type": "stream",
     "text": [
      "Epoch 81 : \n"
     ]
    },
    {
     "name": "stderr",
     "output_type": "stream",
     "text": [
      "100%|██████████| 50/50 [00:03<00:00, 14.87it/s]\n"
     ]
    },
    {
     "name": "stdout",
     "output_type": "stream",
     "text": [
      "loss:  1.1600772142410278  l_d:  0.0955100879073143  l_e:  0.0955100879073143  l_g:  0.2422642707824707\n",
      "Epoch 82 : \n"
     ]
    },
    {
     "name": "stderr",
     "output_type": "stream",
     "text": [
      "100%|██████████| 50/50 [00:03<00:00, 13.28it/s]\n"
     ]
    },
    {
     "name": "stdout",
     "output_type": "stream",
     "text": [
      "loss:  0.8645879626274109  l_d:  0.13272035121917725  l_e:  0.13272035121917725  l_g:  0.1497868150472641\n",
      "Epoch 83 : \n"
     ]
    },
    {
     "name": "stderr",
     "output_type": "stream",
     "text": [
      "100%|██████████| 50/50 [00:03<00:00, 13.42it/s]\n"
     ]
    },
    {
     "name": "stdout",
     "output_type": "stream",
     "text": [
      "loss:  0.7839674353599548  l_d:  0.09202101826667786  l_e:  0.09202102571725845  l_g:  0.14998134970664978\n",
      "Epoch 84 : \n"
     ]
    },
    {
     "name": "stderr",
     "output_type": "stream",
     "text": [
      "100%|██████████| 50/50 [00:03<00:00, 13.75it/s]\n"
     ]
    },
    {
     "name": "stdout",
     "output_type": "stream",
     "text": [
      "loss:  1.2370654344558716  l_d:  0.1558992564678192  l_e:  0.1558992564678192  l_g:  0.2313167303800583\n",
      "Epoch 85 : \n"
     ]
    },
    {
     "name": "stderr",
     "output_type": "stream",
     "text": [
      "100%|██████████| 50/50 [00:03<00:00, 13.61it/s]\n"
     ]
    },
    {
     "name": "stdout",
     "output_type": "stream",
     "text": [
      "loss:  0.8306835293769836  l_d:  0.09066671133041382  l_e:  0.09066671133041382  l_g:  0.162337526679039\n",
      "Epoch 86 : \n"
     ]
    },
    {
     "name": "stderr",
     "output_type": "stream",
     "text": [
      "100%|██████████| 50/50 [00:03<00:00, 13.66it/s]\n"
     ]
    },
    {
     "name": "stdout",
     "output_type": "stream",
     "text": [
      "loss:  0.9429949522018433  l_d:  0.18985003232955933  l_e:  0.18985003232955933  l_g:  0.14082372188568115\n",
      "Epoch 87 : \n"
     ]
    },
    {
     "name": "stderr",
     "output_type": "stream",
     "text": [
      "100%|██████████| 50/50 [00:03<00:00, 13.19it/s]\n"
     ]
    },
    {
     "name": "stdout",
     "output_type": "stream",
     "text": [
      "loss:  0.7265819311141968  l_d:  0.08801839500665665  l_e:  0.08801840245723724  l_g:  0.13763627409934998\n",
      "Epoch 88 : \n"
     ]
    },
    {
     "name": "stderr",
     "output_type": "stream",
     "text": [
      "100%|██████████| 50/50 [00:03<00:00, 13.51it/s]\n"
     ]
    },
    {
     "name": "stdout",
     "output_type": "stream",
     "text": [
      "loss:  0.9323911070823669  l_d:  0.08923608064651489  l_e:  0.08923608064651489  l_g:  0.1884797364473343\n",
      "Epoch 89 : \n"
     ]
    },
    {
     "name": "stderr",
     "output_type": "stream",
     "text": [
      "100%|██████████| 50/50 [00:03<00:00, 15.24it/s]\n"
     ]
    },
    {
     "name": "stdout",
     "output_type": "stream",
     "text": [
      "loss:  0.9353746771812439  l_d:  0.08762034773826599  l_e:  0.08762034773826599  l_g:  0.19003349542617798\n",
      "Epoch 90 : \n"
     ]
    },
    {
     "name": "stderr",
     "output_type": "stream",
     "text": [
      "100%|██████████| 50/50 [00:03<00:00, 14.48it/s]\n"
     ]
    },
    {
     "name": "stdout",
     "output_type": "stream",
     "text": [
      "loss:  0.8366389274597168  l_d:  0.19160692393779755  l_e:  0.19160693883895874  l_g:  0.11335625499486923\n",
      "Epoch 91 : \n"
     ]
    },
    {
     "name": "stderr",
     "output_type": "stream",
     "text": [
      "100%|██████████| 50/50 [00:03<00:00, 13.98it/s]\n"
     ]
    },
    {
     "name": "stdout",
     "output_type": "stream",
     "text": [
      "loss:  0.6589782238006592  l_d:  0.10198772698640823  l_e:  0.10198771953582764  l_g:  0.11375068873167038\n",
      "Epoch 92 : \n"
     ]
    },
    {
     "name": "stderr",
     "output_type": "stream",
     "text": [
      "100%|██████████| 50/50 [00:04<00:00, 12.37it/s]\n"
     ]
    },
    {
     "name": "stdout",
     "output_type": "stream",
     "text": [
      "loss:  0.761664628982544  l_d:  0.11160425841808319  l_e:  0.11160425841808319  l_g:  0.1346140205860138\n",
      "Epoch 93 : \n"
     ]
    },
    {
     "name": "stderr",
     "output_type": "stream",
     "text": [
      "100%|██████████| 50/50 [00:03<00:00, 13.80it/s]\n"
     ]
    },
    {
     "name": "stdout",
     "output_type": "stream",
     "text": [
      "loss:  0.6688529253005981  l_d:  0.08593147993087769  l_e:  0.08593147993087769  l_g:  0.1242474839091301\n",
      "Epoch 94 : \n"
     ]
    },
    {
     "name": "stderr",
     "output_type": "stream",
     "text": [
      "100%|██████████| 50/50 [00:04<00:00, 12.28it/s]\n"
     ]
    },
    {
     "name": "stdout",
     "output_type": "stream",
     "text": [
      "loss:  0.8747029900550842  l_d:  0.21910789608955383  l_e:  0.21910789608955383  l_g:  0.10912179946899414\n",
      "Epoch 95 : \n"
     ]
    },
    {
     "name": "stderr",
     "output_type": "stream",
     "text": [
      "100%|██████████| 50/50 [00:04<00:00, 11.86it/s]\n"
     ]
    },
    {
     "name": "stdout",
     "output_type": "stream",
     "text": [
      "loss:  0.6742785573005676  l_d:  0.09010642021894455  l_e:  0.09010642021894455  l_g:  0.12351642549037933\n",
      "Epoch 96 : \n"
     ]
    },
    {
     "name": "stderr",
     "output_type": "stream",
     "text": [
      "100%|██████████| 50/50 [00:03<00:00, 14.01it/s]\n"
     ]
    },
    {
     "name": "stdout",
     "output_type": "stream",
     "text": [
      "loss:  0.6036535501480103  l_d:  0.08674107491970062  l_e:  0.08674107491970062  l_g:  0.10754285752773285\n",
      "Epoch 97 : \n"
     ]
    },
    {
     "name": "stderr",
     "output_type": "stream",
     "text": [
      "100%|██████████| 50/50 [00:03<00:00, 14.87it/s]\n"
     ]
    },
    {
     "name": "stdout",
     "output_type": "stream",
     "text": [
      "loss:  1.0074386596679688  l_d:  0.08914073556661606  l_e:  0.08914072811603546  l_g:  0.20728930830955505\n",
      "Epoch 98 : \n"
     ]
    },
    {
     "name": "stderr",
     "output_type": "stream",
     "text": [
      "100%|██████████| 50/50 [00:04<00:00, 12.45it/s]\n"
     ]
    },
    {
     "name": "stdout",
     "output_type": "stream",
     "text": [
      "loss:  1.068650245666504  l_d:  0.18124297261238098  l_e:  0.18124297261238098  l_g:  0.17654109001159668\n",
      "Epoch 99 : \n"
     ]
    },
    {
     "name": "stderr",
     "output_type": "stream",
     "text": [
      "100%|██████████| 50/50 [00:03<00:00, 14.50it/s]\n"
     ]
    },
    {
     "name": "stdout",
     "output_type": "stream",
     "text": [
      "loss:  0.8293544054031372  l_d:  0.0905141830444336  l_e:  0.0905141830444336  l_g:  0.1620815098285675\n",
      "Epoch 100 : \n"
     ]
    },
    {
     "name": "stderr",
     "output_type": "stream",
     "text": [
      "100%|██████████| 50/50 [00:03<00:00, 13.83it/s]\n"
     ]
    },
    {
     "name": "stdout",
     "output_type": "stream",
     "text": [
      "loss:  0.9150018095970154  l_d:  0.08807128667831421  l_e:  0.08807128667831421  l_g:  0.18471480906009674\n"
     ]
    },
    {
     "data": {
      "image/png": "[encoded data removed]",
      "text/plain": [
       "<Figure size 640x480 with 1 Axes>"
      ]
     },
     "metadata": {},
     "output_type": "display_data"
    },
    {
     "name": "stdout",
     "output_type": "stream",
     "text": [
      "Epoch 101 : \n"
     ]
    },
    {
     "name": "stderr",
     "output_type": "stream",
     "text": [
      "100%|██████████| 50/50 [00:03<00:00, 13.86it/s]\n"
     ]
    },
    {
     "name": "stdout",
     "output_type": "stream",
     "text": [
      "loss:  0.8901060819625854  l_d:  0.08775191009044647  l_e:  0.08775191009044647  l_g:  0.17865055799484253\n",
      "Epoch 102 : \n"
     ]
    },
    {
     "name": "stderr",
     "output_type": "stream",
     "text": [
      "100%|██████████| 50/50 [00:03<00:00, 13.07it/s]\n"
     ]
    },
    {
     "name": "stdout",
     "output_type": "stream",
     "text": [
      "loss:  0.5695298910140991  l_d:  0.08547520637512207  l_e:  0.08547520637512207  l_g:  0.09964486956596375\n",
      "Epoch 103 : \n"
     ]
    },
    {
     "name": "stderr",
     "output_type": "stream",
     "text": [
      "100%|██████████| 50/50 [00:03<00:00, 13.88it/s]\n"
     ]
    },
    {
     "name": "stdout",
     "output_type": "stream",
     "text": [
      "loss:  0.903762698173523  l_d:  0.1145416647195816  l_e:  0.1145416647195816  l_g:  0.16866983473300934\n",
      "Epoch 104 : \n"
     ]
    },
    {
     "name": "stderr",
     "output_type": "stream",
     "text": [
      "100%|██████████| 50/50 [00:04<00:00, 11.67it/s]\n"
     ]
    },
    {
     "name": "stdout",
     "output_type": "stream",
     "text": [
      "loss:  0.5860267877578735  l_d:  0.08699636161327362  l_e:  0.08699636161327362  l_g:  0.10300850868225098\n",
      "Epoch 105 : \n"
     ]
    },
    {
     "name": "stderr",
     "output_type": "stream",
     "text": [
      "100%|██████████| 50/50 [00:03<00:00, 14.56it/s]\n"
     ]
    },
    {
     "name": "stdout",
     "output_type": "stream",
     "text": [
      "loss:  0.9598316550254822  l_d:  0.11716992408037186  l_e:  0.11716991662979126  l_g:  0.18137295544147491\n",
      "Epoch 106 : \n"
     ]
    },
    {
     "name": "stderr",
     "output_type": "stream",
     "text": [
      "100%|██████████| 50/50 [00:03<00:00, 13.06it/s]\n"
     ]
    },
    {
     "name": "stdout",
     "output_type": "stream",
     "text": [
      "loss:  1.11967933177948  l_d:  0.08599688112735748  l_e:  0.08599688112735748  l_g:  0.23692139983177185\n",
      "Epoch 107 : \n"
     ]
    },
    {
     "name": "stderr",
     "output_type": "stream",
     "text": [
      "100%|██████████| 50/50 [00:03<00:00, 14.95it/s]\n"
     ]
    },
    {
     "name": "stdout",
     "output_type": "stream",
     "text": [
      "loss:  0.5828158855438232  l_d:  0.08900294452905655  l_e:  0.08900294452905655  l_g:  0.10120250284671783\n",
      "Epoch 108 : \n"
     ]
    },
    {
     "name": "stderr",
     "output_type": "stream",
     "text": [
      "100%|██████████| 50/50 [00:03<00:00, 13.51it/s]\n"
     ]
    },
    {
     "name": "stdout",
     "output_type": "stream",
     "text": [
      "loss:  0.8017405867576599  l_d:  0.08790310472249985  l_e:  0.08790311217308044  l_g:  0.15648359060287476\n",
      "Epoch 109 : \n"
     ]
    },
    {
     "name": "stderr",
     "output_type": "stream",
     "text": [
      "100%|██████████| 50/50 [00:03<00:00, 14.11it/s]\n"
     ]
    },
    {
     "name": "stdout",
     "output_type": "stream",
     "text": [
      "loss:  1.0571017265319824  l_d:  0.10482792556285858  l_e:  0.10482793301343918  l_g:  0.2118614763021469\n",
      "Epoch 110 : \n"
     ]
    },
    {
     "name": "stderr",
     "output_type": "stream",
     "text": [
      "100%|██████████| 50/50 [00:04<00:00, 12.03it/s]\n"
     ]
    },
    {
     "name": "stdout",
     "output_type": "stream",
     "text": [
      "loss:  0.8304647207260132  l_d:  0.08936284482479095  l_e:  0.08936283737421036  l_g:  0.16293475031852722\n",
      "Epoch 111 : \n"
     ]
    },
    {
     "name": "stderr",
     "output_type": "stream",
     "text": [
      "100%|██████████| 50/50 [00:03<00:00, 14.33it/s]\n"
     ]
    },
    {
     "name": "stdout",
     "output_type": "stream",
     "text": [
      "loss:  1.004900574684143  l_d:  0.10219375044107437  l_e:  0.10219374299049377  l_g:  0.20012827217578888\n",
      "Epoch 112 : \n"
     ]
    },
    {
     "name": "stderr",
     "output_type": "stream",
     "text": [
      "100%|██████████| 50/50 [00:04<00:00, 12.36it/s]\n"
     ]
    },
    {
     "name": "stdout",
     "output_type": "stream",
     "text": [
      "loss:  0.869944155216217  l_d:  0.09930086135864258  l_e:  0.09930086135864258  l_g:  0.16783560812473297\n",
      "Epoch 113 : \n"
     ]
    },
    {
     "name": "stderr",
     "output_type": "stream",
     "text": [
      "100%|██████████| 50/50 [00:04<00:00, 11.60it/s]\n"
     ]
    },
    {
     "name": "stdout",
     "output_type": "stream",
     "text": [
      "loss:  0.9057607650756836  l_d:  0.09893978387117386  l_e:  0.09893978387117386  l_g:  0.17697030305862427\n",
      "Epoch 114 : \n"
     ]
    },
    {
     "name": "stderr",
     "output_type": "stream",
     "text": [
      "100%|██████████| 50/50 [00:03<00:00, 13.57it/s]\n"
     ]
    },
    {
     "name": "stdout",
     "output_type": "stream",
     "text": [
      "loss:  0.8523684144020081  l_d:  0.10218450427055359  l_e:  0.10218450427055359  l_g:  0.16199985146522522\n",
      "Epoch 115 : \n"
     ]
    },
    {
     "name": "stderr",
     "output_type": "stream",
     "text": [
      "100%|██████████| 50/50 [00:03<00:00, 12.59it/s]\n"
     ]
    },
    {
     "name": "stdout",
     "output_type": "stream",
     "text": [
      "loss:  1.2135157585144043  l_d:  0.08797803521156311  l_e:  0.08797803521156311  l_g:  0.2593899369239807\n",
      "Epoch 116 : \n"
     ]
    },
    {
     "name": "stderr",
     "output_type": "stream",
     "text": [
      "100%|██████████| 50/50 [00:03<00:00, 12.76it/s]\n"
     ]
    },
    {
     "name": "stdout",
     "output_type": "stream",
     "text": [
      "loss:  0.9795746803283691  l_d:  0.10073257237672806  l_e:  0.10073257237672806  l_g:  0.19452738761901855\n",
      "Epoch 117 : \n"
     ]
    },
    {
     "name": "stderr",
     "output_type": "stream",
     "text": [
      "100%|██████████| 50/50 [00:03<00:00, 14.37it/s]\n"
     ]
    },
    {
     "name": "stdout",
     "output_type": "stream",
     "text": [
      "loss:  1.3071657419204712  l_d:  0.21924471855163574  l_e:  0.21924471855163574  l_g:  0.21716907620429993\n",
      "Epoch 118 : \n"
     ]
    },
    {
     "name": "stderr",
     "output_type": "stream",
     "text": [
      "100%|██████████| 50/50 [00:03<00:00, 14.91it/s]\n"
     ]
    },
    {
     "name": "stdout",
     "output_type": "stream",
     "text": [
      "loss:  0.815918505191803  l_d:  0.08676975965499878  l_e:  0.08676975965499878  l_g:  0.16059474647045135\n",
      "Epoch 119 : \n"
     ]
    },
    {
     "name": "stderr",
     "output_type": "stream",
     "text": [
      "100%|██████████| 50/50 [00:04<00:00, 12.30it/s]\n"
     ]
    },
    {
     "name": "stdout",
     "output_type": "stream",
     "text": [
      "loss:  0.9023378491401672  l_d:  0.10967504978179932  l_e:  0.10967504233121872  l_g:  0.17074693739414215\n",
      "Epoch 120 : \n"
     ]
    },
    {
     "name": "stderr",
     "output_type": "stream",
     "text": [
      "100%|██████████| 50/50 [00:03<00:00, 14.26it/s]\n"
     ]
    },
    {
     "name": "stdout",
     "output_type": "stream",
     "text": [
      "loss:  0.988480269908905  l_d:  0.0895550549030304  l_e:  0.0895550549030304  l_g:  0.20234254002571106\n"
     ]
    },
    {
     "data": {
      "image/png": "[encoded data removed]",
      "text/plain": [
       "<Figure size 640x480 with 1 Axes>"
      ]
     },
     "metadata": {},
     "output_type": "display_data"
    },
    {
     "name": "stdout",
     "output_type": "stream",
     "text": [
      "Epoch 121 : \n"
     ]
    },
    {
     "name": "stderr",
     "output_type": "stream",
     "text": [
      "100%|██████████| 50/50 [00:03<00:00, 13.83it/s]\n"
     ]
    },
    {
     "name": "stdout",
     "output_type": "stream",
     "text": [
      "loss:  0.6389732360839844  l_d:  0.08495175838470459  l_e:  0.08495175838470459  l_g:  0.1172674298286438\n",
      "Epoch 122 : \n"
     ]
    },
    {
     "name": "stderr",
     "output_type": "stream",
     "text": [
      "100%|██████████| 50/50 [00:03<00:00, 14.28it/s]\n"
     ]
    },
    {
     "name": "stdout",
     "output_type": "stream",
     "text": [
      "loss:  0.7035303711891174  l_d:  0.08884140849113464  l_e:  0.08884140849113464  l_g:  0.13146188855171204\n",
      "Epoch 123 : \n"
     ]
    },
    {
     "name": "stderr",
     "output_type": "stream",
     "text": [
      "100%|██████████| 50/50 [00:03<00:00, 13.83it/s]\n"
     ]
    },
    {
     "name": "stdout",
     "output_type": "stream",
     "text": [
      "loss:  1.140216588973999  l_d:  0.10244512557983398  l_e:  0.10244512557983398  l_g:  0.23383156955242157\n",
      "Epoch 124 : \n"
     ]
    },
    {
     "name": "stderr",
     "output_type": "stream",
     "text": [
      "100%|██████████| 50/50 [00:04<00:00, 12.17it/s]\n"
     ]
    },
    {
     "name": "stdout",
     "output_type": "stream",
     "text": [
      "loss:  0.8101165890693665  l_d:  0.11197814345359802  l_e:  0.11197814345359802  l_g:  0.1465400755405426\n",
      "Epoch 125 : \n"
     ]
    },
    {
     "name": "stderr",
     "output_type": "stream",
     "text": [
      "100%|██████████| 50/50 [00:04<00:00, 11.81it/s]\n"
     ]
    },
    {
     "name": "stdout",
     "output_type": "stream",
     "text": [
      "loss:  0.753230094909668  l_d:  0.0876079797744751  l_e:  0.0876079797744751  l_g:  0.14450353384017944\n",
      "Epoch 126 : \n"
     ]
    },
    {
     "name": "stderr",
     "output_type": "stream",
     "text": [
      "100%|██████████| 50/50 [00:04<00:00, 11.35it/s]\n"
     ]
    },
    {
     "name": "stdout",
     "output_type": "stream",
     "text": [
      "loss:  0.813998818397522  l_d:  0.1067301481962204  l_e:  0.1067301481962204  l_g:  0.1501346379518509\n",
      "Epoch 127 : \n"
     ]
    },
    {
     "name": "stderr",
     "output_type": "stream",
     "text": [
      "100%|██████████| 50/50 [00:04<00:00, 12.10it/s]\n"
     ]
    },
    {
     "name": "stdout",
     "output_type": "stream",
     "text": [
      "loss:  0.7495021820068359  l_d:  0.08832228928804398  l_e:  0.08832228928804398  l_g:  0.1432144045829773\n",
      "Epoch 128 : \n"
     ]
    },
    {
     "name": "stderr",
     "output_type": "stream",
     "text": [
      "100%|██████████| 50/50 [00:03<00:00, 13.24it/s]\n"
     ]
    },
    {
     "name": "stdout",
     "output_type": "stream",
     "text": [
      "loss:  1.0022244453430176  l_d:  0.09166686981916428  l_e:  0.09166686981916428  l_g:  0.20472267270088196\n",
      "Epoch 129 : \n"
     ]
    },
    {
     "name": "stderr",
     "output_type": "stream",
     "text": [
      "100%|██████████| 50/50 [00:04<00:00, 12.09it/s]\n"
     ]
    },
    {
     "name": "stdout",
     "output_type": "stream",
     "text": [
      "loss:  0.9356048107147217  l_d:  0.09140356630086899  l_e:  0.09140356630086899  l_g:  0.18819941580295563\n",
      "Epoch 130 : \n"
     ]
    },
    {
     "name": "stderr",
     "output_type": "stream",
     "text": [
      "100%|██████████| 50/50 [00:04<00:00, 12.43it/s]\n"
     ]
    },
    {
     "name": "stdout",
     "output_type": "stream",
     "text": [
      "loss:  0.8375332355499268  l_d:  0.0911523848772049  l_e:  0.0911523848772049  l_g:  0.16380712389945984\n",
      "Epoch 131 : \n"
     ]
    },
    {
     "name": "stderr",
     "output_type": "stream",
     "text": [
      "100%|██████████| 50/50 [00:03<00:00, 14.71it/s]\n"
     ]
    },
    {
     "name": "stdout",
     "output_type": "stream",
     "text": [
      "loss:  0.8306865096092224  l_d:  0.08623518794775009  l_e:  0.08623518794775009  l_g:  0.16455402970314026\n",
      "Epoch 132 : \n"
     ]
    },
    {
     "name": "stderr",
     "output_type": "stream",
     "text": [
      "100%|██████████| 50/50 [00:03<00:00, 13.48it/s]\n"
     ]
    },
    {
     "name": "stdout",
     "output_type": "stream",
     "text": [
      "loss:  1.0409889221191406  l_d:  0.12138330936431885  l_e:  0.12138330936431885  l_g:  0.19955556094646454\n",
      "Epoch 133 : \n"
     ]
    },
    {
     "name": "stderr",
     "output_type": "stream",
     "text": [
      "100%|██████████| 50/50 [00:03<00:00, 12.54it/s]\n"
     ]
    },
    {
     "name": "stdout",
     "output_type": "stream",
     "text": [
      "loss:  1.2426609992980957  l_d:  0.3015381097793579  l_e:  0.3015381097793579  l_g:  0.15989620983600616\n",
      "Epoch 134 : \n"
     ]
    },
    {
     "name": "stderr",
     "output_type": "stream",
     "text": [
      "100%|██████████| 50/50 [00:03<00:00, 13.74it/s]\n"
     ]
    },
    {
     "name": "stdout",
     "output_type": "stream",
     "text": [
      "loss:  1.05087411403656  l_d:  0.148456871509552  l_e:  0.148456871509552  l_g:  0.188490092754364\n",
      "Epoch 135 : \n"
     ]
    },
    {
     "name": "stderr",
     "output_type": "stream",
     "text": [
      "100%|██████████| 50/50 [00:04<00:00, 12.48it/s]\n"
     ]
    },
    {
     "name": "stdout",
     "output_type": "stream",
     "text": [
      "loss:  1.185124397277832  l_d:  0.08993518352508545  l_e:  0.08993518352508545  l_g:  0.2513135075569153\n",
      "Epoch 136 : \n"
     ]
    },
    {
     "name": "stderr",
     "output_type": "stream",
     "text": [
      "100%|██████████| 50/50 [00:03<00:00, 14.75it/s]\n"
     ]
    },
    {
     "name": "stdout",
     "output_type": "stream",
     "text": [
      "loss:  0.7478153705596924  l_d:  0.09426606446504593  l_e:  0.09426605701446533  l_g:  0.13982081413269043\n",
      "Epoch 137 : \n"
     ]
    },
    {
     "name": "stderr",
     "output_type": "stream",
     "text": [
      "100%|██████████| 50/50 [00:03<00:00, 14.45it/s]\n"
     ]
    },
    {
     "name": "stdout",
     "output_type": "stream",
     "text": [
      "loss:  0.5985440611839294  l_d:  0.08900274336338043  l_e:  0.08900274336338043  l_g:  0.10513464361429214\n",
      "Epoch 138 : \n"
     ]
    },
    {
     "name": "stderr",
     "output_type": "stream",
     "text": [
      "100%|██████████| 50/50 [00:03<00:00, 12.78it/s]\n"
     ]
    },
    {
     "name": "stdout",
     "output_type": "stream",
     "text": [
      "loss:  0.8381365537643433  l_d:  0.1246802881360054  l_e:  0.1246802806854248  l_g:  0.1471939980983734\n",
      "Epoch 139 : \n"
     ]
    },
    {
     "name": "stderr",
     "output_type": "stream",
     "text": [
      "100%|██████████| 50/50 [00:03<00:00, 14.54it/s]\n"
     ]
    },
    {
     "name": "stdout",
     "output_type": "stream",
     "text": [
      "loss:  0.726416289806366  l_d:  0.08889517188072205  l_e:  0.08889517188072205  l_g:  0.13715648651123047\n",
      "Epoch 140 : \n"
     ]
    },
    {
     "name": "stderr",
     "output_type": "stream",
     "text": [
      "100%|██████████| 50/50 [00:03<00:00, 14.09it/s]\n"
     ]
    },
    {
     "name": "stdout",
     "output_type": "stream",
     "text": [
      "loss:  0.5972906947135925  l_d:  0.08874014019966125  l_e:  0.08874014019966125  l_g:  0.1049526035785675\n"
     ]
    },
    {
     "data": {
      "image/png": "[encoded data removed]",
      "text/plain": [
       "<Figure size 640x480 with 1 Axes>"
      ]
     },
     "metadata": {},
     "output_type": "display_data"
    },
    {
     "name": "stdout",
     "output_type": "stream",
     "text": [
      "Epoch 141 : \n"
     ]
    },
    {
     "name": "stderr",
     "output_type": "stream",
     "text": [
      "100%|██████████| 50/50 [00:03<00:00, 14.12it/s]\n"
     ]
    },
    {
     "name": "stdout",
     "output_type": "stream",
     "text": [
      "loss:  0.994878888130188  l_d:  0.12156178057193756  l_e:  0.12156177312135696  l_g:  0.1879388391971588\n",
      "Epoch 142 : \n"
     ]
    },
    {
     "name": "stderr",
     "output_type": "stream",
     "text": [
      "100%|██████████| 50/50 [00:03<00:00, 13.68it/s]\n"
     ]
    },
    {
     "name": "stdout",
     "output_type": "stream",
     "text": [
      "loss:  0.6952964663505554  l_d:  0.08688939362764359  l_e:  0.08688938617706299  l_g:  0.13037942349910736\n",
      "Epoch 143 : \n"
     ]
    },
    {
     "name": "stderr",
     "output_type": "stream",
     "text": [
      "100%|██████████| 50/50 [00:03<00:00, 14.75it/s]\n"
     ]
    },
    {
     "name": "stdout",
     "output_type": "stream",
     "text": [
      "loss:  0.5866620540618896  l_d:  0.08852638304233551  l_e:  0.0885263979434967  l_g:  0.10240231454372406\n",
      "Epoch 144 : \n"
     ]
    },
    {
     "name": "stderr",
     "output_type": "stream",
     "text": [
      "100%|██████████| 50/50 [00:03<00:00, 14.52it/s]\n"
     ]
    },
    {
     "name": "stdout",
     "output_type": "stream",
     "text": [
      "loss:  1.167788028717041  l_d:  0.08781488239765167  l_e:  0.08781488239765167  l_g:  0.24803955852985382\n",
      "Epoch 145 : \n"
     ]
    },
    {
     "name": "stderr",
     "output_type": "stream",
     "text": [
      "100%|██████████| 50/50 [00:03<00:00, 13.74it/s]\n"
     ]
    },
    {
     "name": "stdout",
     "output_type": "stream",
     "text": [
      "loss:  0.9872393012046814  l_d:  0.0862986147403717  l_e:  0.0862986147403717  l_g:  0.2036605179309845\n",
      "Epoch 146 : \n"
     ]
    },
    {
     "name": "stderr",
     "output_type": "stream",
     "text": [
      "100%|██████████| 50/50 [00:03<00:00, 13.69it/s]\n"
     ]
    },
    {
     "name": "stdout",
     "output_type": "stream",
     "text": [
      "loss:  0.8283880352973938  l_d:  0.0901237428188324  l_e:  0.0901237428188324  l_g:  0.16203513741493225\n",
      "Epoch 147 : \n"
     ]
    },
    {
     "name": "stderr",
     "output_type": "stream",
     "text": [
      "100%|██████████| 50/50 [00:03<00:00, 13.76it/s]\n"
     ]
    },
    {
     "name": "stdout",
     "output_type": "stream",
     "text": [
      "loss:  0.9178034663200378  l_d:  0.09822210669517517  l_e:  0.09822210669517517  l_g:  0.18033981323242188\n",
      "Epoch 148 : \n"
     ]
    },
    {
     "name": "stderr",
     "output_type": "stream",
     "text": [
      "100%|██████████| 50/50 [00:03<00:00, 14.09it/s]\n"
     ]
    },
    {
     "name": "stdout",
     "output_type": "stream",
     "text": [
      "loss:  0.7538575530052185  l_d:  0.08558949828147888  l_e:  0.08558949828147888  l_g:  0.14566963911056519\n",
      "Epoch 149 : \n"
     ]
    },
    {
     "name": "stderr",
     "output_type": "stream",
     "text": [
      "100%|██████████| 50/50 [00:03<00:00, 13.10it/s]\n"
     ]
    },
    {
     "name": "stdout",
     "output_type": "stream",
     "text": [
      "loss:  1.0890476703643799  l_d:  0.19073474407196045  l_e:  0.19073474407196045  l_g:  0.17689456045627594\n",
      "Epoch 150 : \n"
     ]
    },
    {
     "name": "stderr",
     "output_type": "stream",
     "text": [
      "100%|██████████| 50/50 [00:03<00:00, 14.56it/s]\n"
     ]
    },
    {
     "name": "stdout",
     "output_type": "stream",
     "text": [
      "loss:  0.7212501764297485  l_d:  0.09311534464359283  l_e:  0.09311534464359283  l_g:  0.1337548792362213\n",
      "Epoch 151 : \n"
     ]
    },
    {
     "name": "stderr",
     "output_type": "stream",
     "text": [
      "100%|██████████| 50/50 [00:03<00:00, 13.65it/s]\n"
     ]
    },
    {
     "name": "stdout",
     "output_type": "stream",
     "text": [
      "loss:  1.238767147064209  l_d:  0.08540189266204834  l_e:  0.08540189266204834  l_g:  0.2669908404350281\n",
      "Epoch 152 : \n"
     ]
    },
    {
     "name": "stderr",
     "output_type": "stream",
     "text": [
      "100%|██████████| 50/50 [00:03<00:00, 14.29it/s]\n"
     ]
    },
    {
     "name": "stdout",
     "output_type": "stream",
     "text": [
      "loss:  0.6903400421142578  l_d:  0.08945560455322266  l_e:  0.08945560455322266  l_g:  0.12785720825195312\n",
      "Epoch 153 : \n"
     ]
    },
    {
     "name": "stderr",
     "output_type": "stream",
     "text": [
      "100%|██████████| 50/50 [00:03<00:00, 13.54it/s]\n"
     ]
    },
    {
     "name": "stdout",
     "output_type": "stream",
     "text": [
      "loss:  0.8829641342163086  l_d:  0.08664809912443161  l_e:  0.08664810657501221  l_g:  0.17741698026657104\n",
      "Epoch 154 : \n"
     ]
    },
    {
     "name": "stderr",
     "output_type": "stream",
     "text": [
      "100%|██████████| 50/50 [00:03<00:00, 13.43it/s]\n"
     ]
    },
    {
     "name": "stdout",
     "output_type": "stream",
     "text": [
      "loss:  0.9775370359420776  l_d:  0.08921341598033905  l_e:  0.08921341598033905  l_g:  0.1997775435447693\n",
      "Epoch 155 : \n"
     ]
    },
    {
     "name": "stderr",
     "output_type": "stream",
     "text": [
      "100%|██████████| 50/50 [00:03<00:00, 13.89it/s]\n"
     ]
    },
    {
     "name": "stdout",
     "output_type": "stream",
     "text": [
      "loss:  0.7202564477920532  l_d:  0.08430523425340652  l_e:  0.08430523425340652  l_g:  0.13791149854660034\n",
      "Epoch 156 : \n"
     ]
    },
    {
     "name": "stderr",
     "output_type": "stream",
     "text": [
      "100%|██████████| 50/50 [00:03<00:00, 13.50it/s]\n"
     ]
    },
    {
     "name": "stdout",
     "output_type": "stream",
     "text": [
      "loss:  0.8411877155303955  l_d:  0.08526657521724701  l_e:  0.08526656776666641  l_g:  0.16766363382339478\n",
      "Epoch 157 : \n"
     ]
    },
    {
     "name": "stderr",
     "output_type": "stream",
     "text": [
      "100%|██████████| 50/50 [00:04<00:00, 11.87it/s]\n"
     ]
    },
    {
     "name": "stdout",
     "output_type": "stream",
     "text": [
      "loss:  0.8449437022209167  l_d:  0.1731848567724228  l_e:  0.1731848567724228  l_g:  0.12464349716901779\n",
      "Epoch 158 : \n"
     ]
    },
    {
     "name": "stderr",
     "output_type": "stream",
     "text": [
      "100%|██████████| 50/50 [00:03<00:00, 13.45it/s]\n"
     ]
    },
    {
     "name": "stdout",
     "output_type": "stream",
     "text": [
      "loss:  0.6328142285346985  l_d:  0.10170871019363403  l_e:  0.10170871019363403  l_g:  0.1073492020368576\n",
      "Epoch 159 : \n"
     ]
    },
    {
     "name": "stderr",
     "output_type": "stream",
     "text": [
      "100%|██████████| 50/50 [00:03<00:00, 12.99it/s]\n"
     ]
    },
    {
     "name": "stdout",
     "output_type": "stream",
     "text": [
      "loss:  0.889647364616394  l_d:  0.08842363953590393  l_e:  0.08842363953590393  l_g:  0.17820002138614655\n",
      "Epoch 160 : \n"
     ]
    },
    {
     "name": "stderr",
     "output_type": "stream",
     "text": [
      "100%|██████████| 50/50 [00:03<00:00, 13.12it/s]\n"
     ]
    },
    {
     "name": "stdout",
     "output_type": "stream",
     "text": [
      "loss:  0.7781027555465698  l_d:  0.08885946124792099  l_e:  0.0888594537973404  l_g:  0.15009595453739166\n"
     ]
    },
    {
     "data": {
      "image/png": "[encoded data removed]",
      "text/plain": [
       "<Figure size 640x480 with 1 Axes>"
      ]
     },
     "metadata": {},
     "output_type": "display_data"
    },
    {
     "name": "stdout",
     "output_type": "stream",
     "text": [
      "Epoch 161 : \n"
     ]
    },
    {
     "name": "stderr",
     "output_type": "stream",
     "text": [
      "100%|██████████| 50/50 [00:03<00:00, 12.86it/s]\n"
     ]
    },
    {
     "name": "stdout",
     "output_type": "stream",
     "text": [
      "loss:  1.0600817203521729  l_d:  0.10406436026096344  l_e:  0.10406436026096344  l_g:  0.2129882425069809\n",
      "Epoch 162 : \n"
     ]
    },
    {
     "name": "stderr",
     "output_type": "stream",
     "text": [
      "100%|██████████| 50/50 [00:03<00:00, 14.12it/s]\n"
     ]
    },
    {
     "name": "stdout",
     "output_type": "stream",
     "text": [
      "loss:  0.8148692846298218  l_d:  0.1327541321516037  l_e:  0.1327541321516037  l_g:  0.137340247631073\n",
      "Epoch 163 : \n"
     ]
    },
    {
     "name": "stderr",
     "output_type": "stream",
     "text": [
      "100%|██████████| 50/50 [00:04<00:00, 11.67it/s]\n"
     ]
    },
    {
     "name": "stdout",
     "output_type": "stream",
     "text": [
      "loss:  0.8332215547561646  l_d:  0.10907858610153198  l_e:  0.10907858610153198  l_g:  0.15376609563827515\n",
      "Epoch 164 : \n"
     ]
    },
    {
     "name": "stderr",
     "output_type": "stream",
     "text": [
      "100%|██████████| 50/50 [00:04<00:00, 12.30it/s]\n"
     ]
    },
    {
     "name": "stdout",
     "output_type": "stream",
     "text": [
      "loss:  0.8136917948722839  l_d:  0.08728309720754623  l_e:  0.08728309720754623  l_g:  0.15978139638900757\n",
      "Epoch 165 : \n"
     ]
    },
    {
     "name": "stderr",
     "output_type": "stream",
     "text": [
      "100%|██████████| 50/50 [00:03<00:00, 13.23it/s]\n"
     ]
    },
    {
     "name": "stdout",
     "output_type": "stream",
     "text": [
      "loss:  0.6608003377914429  l_d:  0.09442444145679474  l_e:  0.09442444145679474  l_g:  0.11798786371946335\n",
      "Epoch 166 : \n"
     ]
    },
    {
     "name": "stderr",
     "output_type": "stream",
     "text": [
      "100%|██████████| 50/50 [00:03<00:00, 13.69it/s]\n"
     ]
    },
    {
     "name": "stdout",
     "output_type": "stream",
     "text": [
      "loss:  0.6401379704475403  l_d:  0.08548260480165482  l_e:  0.08548260480165482  l_g:  0.11729319393634796\n",
      "Epoch 167 : \n"
     ]
    },
    {
     "name": "stderr",
     "output_type": "stream",
     "text": [
      "100%|██████████| 50/50 [00:03<00:00, 13.75it/s]\n"
     ]
    },
    {
     "name": "stdout",
     "output_type": "stream",
     "text": [
      "loss:  1.1756958961486816  l_d:  0.23043036460876465  l_e:  0.23043034970760345  l_g:  0.1787087768316269\n",
      "Epoch 168 : \n"
     ]
    },
    {
     "name": "stderr",
     "output_type": "stream",
     "text": [
      "100%|██████████| 50/50 [00:03<00:00, 15.30it/s]\n"
     ]
    },
    {
     "name": "stdout",
     "output_type": "stream",
     "text": [
      "loss:  0.9411998987197876  l_d:  0.08981011807918549  l_e:  0.08981011807918549  l_g:  0.19039490818977356\n",
      "Epoch 169 : \n"
     ]
    },
    {
     "name": "stderr",
     "output_type": "stream",
     "text": [
      "100%|██████████| 50/50 [00:03<00:00, 13.74it/s]\n"
     ]
    },
    {
     "name": "stdout",
     "output_type": "stream",
     "text": [
      "loss:  0.650618851184845  l_d:  0.08593639731407166  l_e:  0.08593641221523285  l_g:  0.11968650668859482\n",
      "Epoch 170 : \n"
     ]
    },
    {
     "name": "stderr",
     "output_type": "stream",
     "text": [
      "100%|██████████| 50/50 [00:03<00:00, 13.01it/s]\n"
     ]
    },
    {
     "name": "stdout",
     "output_type": "stream",
     "text": [
      "loss:  0.6059125065803528  l_d:  0.08829246461391449  l_e:  0.08829246461391449  l_g:  0.10733189433813095\n",
      "Epoch 171 : \n"
     ]
    },
    {
     "name": "stderr",
     "output_type": "stream",
     "text": [
      "100%|██████████| 50/50 [00:03<00:00, 13.69it/s]\n"
     ]
    },
    {
     "name": "stdout",
     "output_type": "stream",
     "text": [
      "loss:  0.7709757089614868  l_d:  0.09106108546257019  l_e:  0.09106108546257019  l_g:  0.1472133845090866\n",
      "Epoch 172 : \n"
     ]
    },
    {
     "name": "stderr",
     "output_type": "stream",
     "text": [
      "100%|██████████| 50/50 [00:03<00:00, 13.03it/s]\n"
     ]
    },
    {
     "name": "stdout",
     "output_type": "stream",
     "text": [
      "loss:  0.7758077383041382  l_d:  0.09088154137134552  l_e:  0.09088154137134552  l_g:  0.14851117134094238\n",
      "Epoch 173 : \n"
     ]
    },
    {
     "name": "stderr",
     "output_type": "stream",
     "text": [
      "100%|██████████| 50/50 [00:03<00:00, 13.82it/s]\n"
     ]
    },
    {
     "name": "stdout",
     "output_type": "stream",
     "text": [
      "loss:  0.6554003953933716  l_d:  0.10805974900722504  l_e:  0.10805974900722504  l_g:  0.10982021689414978\n",
      "Epoch 174 : \n"
     ]
    },
    {
     "name": "stderr",
     "output_type": "stream",
     "text": [
      "100%|██████████| 50/50 [00:03<00:00, 14.29it/s]\n"
     ]
    },
    {
     "name": "stdout",
     "output_type": "stream",
     "text": [
      "loss:  1.044904351234436  l_d:  0.2067962884902954  l_e:  0.2067963182926178  l_g:  0.1578279286623001\n",
      "Epoch 175 : \n"
     ]
    },
    {
     "name": "stderr",
     "output_type": "stream",
     "text": [
      "100%|██████████| 50/50 [00:03<00:00, 13.65it/s]\n"
     ]
    },
    {
     "name": "stdout",
     "output_type": "stream",
     "text": [
      "loss:  0.7725750207901001  l_d:  0.09090350568294525  l_e:  0.09090350568294525  l_g:  0.1476919949054718\n",
      "Epoch 176 : \n"
     ]
    },
    {
     "name": "stderr",
     "output_type": "stream",
     "text": [
      "100%|██████████| 50/50 [00:03<00:00, 13.61it/s]\n"
     ]
    },
    {
     "name": "stdout",
     "output_type": "stream",
     "text": [
      "loss:  0.7101174592971802  l_d:  0.08837521076202393  l_e:  0.08837521076202393  l_g:  0.13334175944328308\n",
      "Epoch 177 : \n"
     ]
    },
    {
     "name": "stderr",
     "output_type": "stream",
     "text": [
      "100%|██████████| 50/50 [00:03<00:00, 13.91it/s]\n"
     ]
    },
    {
     "name": "stdout",
     "output_type": "stream",
     "text": [
      "loss:  0.6901319026947021  l_d:  0.09515892714262009  l_e:  0.09515893459320068  l_g:  0.1249535083770752\n",
      "Epoch 178 : \n"
     ]
    },
    {
     "name": "stderr",
     "output_type": "stream",
     "text": [
      "100%|██████████| 50/50 [00:03<00:00, 13.21it/s]\n"
     ]
    },
    {
     "name": "stdout",
     "output_type": "stream",
     "text": [
      "loss:  0.7056311368942261  l_d:  0.089654840528965  l_e:  0.0896548330783844  l_g:  0.13158036768436432\n",
      "Epoch 179 : \n"
     ]
    },
    {
     "name": "stderr",
     "output_type": "stream",
     "text": [
      "100%|██████████| 50/50 [00:03<00:00, 14.53it/s]\n"
     ]
    },
    {
     "name": "stdout",
     "output_type": "stream",
     "text": [
      "loss:  0.7797489166259766  l_d:  0.13836851716041565  l_e:  0.13836851716041565  l_g:  0.12575297057628632\n",
      "Epoch 180 : \n"
     ]
    },
    {
     "name": "stderr",
     "output_type": "stream",
     "text": [
      "100%|██████████| 50/50 [00:03<00:00, 13.77it/s]\n"
     ]
    },
    {
     "name": "stdout",
     "output_type": "stream",
     "text": [
      "loss:  0.7335149645805359  l_d:  0.09508389234542847  l_e:  0.09508389234542847  l_g:  0.13583679497241974\n"
     ]
    },
    {
     "data": {
      "image/png": "[encoded data removed]",
      "text/plain": [
       "<Figure size 640x480 with 1 Axes>"
      ]
     },
     "metadata": {},
     "output_type": "display_data"
    },
    {
     "name": "stdout",
     "output_type": "stream",
     "text": [
      "Epoch 181 : \n"
     ]
    },
    {
     "name": "stderr",
     "output_type": "stream",
     "text": [
      "100%|██████████| 50/50 [00:03<00:00, 12.98it/s]\n"
     ]
    },
    {
     "name": "stdout",
     "output_type": "stream",
     "text": [
      "loss:  0.8487839698791504  l_d:  0.09278301149606705  l_e:  0.09278301894664764  l_g:  0.16580447554588318\n",
      "Epoch 182 : \n"
     ]
    },
    {
     "name": "stderr",
     "output_type": "stream",
     "text": [
      "100%|██████████| 50/50 [00:03<00:00, 12.95it/s]\n"
     ]
    },
    {
     "name": "stdout",
     "output_type": "stream",
     "text": [
      "loss:  0.6465599536895752  l_d:  0.08784227073192596  l_e:  0.08784227073192596  l_g:  0.11771886050701141\n",
      "Epoch 183 : \n"
     ]
    },
    {
     "name": "stderr",
     "output_type": "stream",
     "text": [
      "100%|██████████| 50/50 [00:03<00:00, 13.10it/s]\n"
     ]
    },
    {
     "name": "stdout",
     "output_type": "stream",
     "text": [
      "loss:  0.7914674878120422  l_d:  0.10252681374549866  l_e:  0.10252680629491806  l_g:  0.14660346508026123\n",
      "Epoch 184 : \n"
     ]
    },
    {
     "name": "stderr",
     "output_type": "stream",
     "text": [
      "100%|██████████| 50/50 [00:03<00:00, 14.19it/s]\n"
     ]
    },
    {
     "name": "stdout",
     "output_type": "stream",
     "text": [
      "loss:  0.9953421354293823  l_d:  0.08975423872470856  l_e:  0.08975423872470856  l_g:  0.2039584219455719\n",
      "Epoch 185 : \n"
     ]
    },
    {
     "name": "stderr",
     "output_type": "stream",
     "text": [
      "100%|██████████| 50/50 [00:03<00:00, 14.33it/s]\n"
     ]
    },
    {
     "name": "stdout",
     "output_type": "stream",
     "text": [
      "loss:  0.7495888471603394  l_d:  0.08536756038665771  l_e:  0.08536756038665771  l_g:  0.14471343159675598\n",
      "Epoch 186 : \n"
     ]
    },
    {
     "name": "stderr",
     "output_type": "stream",
     "text": [
      "100%|██████████| 50/50 [00:03<00:00, 13.76it/s]\n"
     ]
    },
    {
     "name": "stdout",
     "output_type": "stream",
     "text": [
      "loss:  0.9104286432266235  l_d:  0.09326289594173431  l_e:  0.09326288849115372  l_g:  0.18097570538520813\n",
      "Epoch 187 : \n"
     ]
    },
    {
     "name": "stderr",
     "output_type": "stream",
     "text": [
      "100%|██████████| 50/50 [00:03<00:00, 14.34it/s]\n"
     ]
    },
    {
     "name": "stdout",
     "output_type": "stream",
     "text": [
      "loss:  1.1476854085922241  l_d:  0.0903664082288742  l_e:  0.0903664082288742  l_g:  0.24173815548419952\n",
      "Epoch 188 : \n"
     ]
    },
    {
     "name": "stderr",
     "output_type": "stream",
     "text": [
      "100%|██████████| 50/50 [00:03<00:00, 13.86it/s]\n"
     ]
    },
    {
     "name": "stdout",
     "output_type": "stream",
     "text": [
      "loss:  1.1373181343078613  l_d:  0.08572228252887726  l_e:  0.08572228252887726  l_g:  0.2414683848619461\n",
      "Epoch 189 : \n"
     ]
    },
    {
     "name": "stderr",
     "output_type": "stream",
     "text": [
      "100%|██████████| 50/50 [00:03<00:00, 14.74it/s]\n"
     ]
    },
    {
     "name": "stdout",
     "output_type": "stream",
     "text": [
      "loss:  0.8079687356948853  l_d:  0.11502403020858765  l_e:  0.11502403020858765  l_g:  0.1444801688194275\n",
      "Epoch 190 : \n"
     ]
    },
    {
     "name": "stderr",
     "output_type": "stream",
     "text": [
      "100%|██████████| 50/50 [00:03<00:00, 12.89it/s]\n"
     ]
    },
    {
     "name": "stdout",
     "output_type": "stream",
     "text": [
      "loss:  1.0262451171875  l_d:  0.09148244559764862  l_e:  0.09148244559764862  l_g:  0.2108200490474701\n",
      "Epoch 191 : \n"
     ]
    },
    {
     "name": "stderr",
     "output_type": "stream",
     "text": [
      "100%|██████████| 50/50 [00:03<00:00, 13.75it/s]\n"
     ]
    },
    {
     "name": "stdout",
     "output_type": "stream",
     "text": [
      "loss:  0.874242901802063  l_d:  0.09423802047967911  l_e:  0.0942380279302597  l_g:  0.1714417040348053\n",
      "Epoch 192 : \n"
     ]
    },
    {
     "name": "stderr",
     "output_type": "stream",
     "text": [
      "100%|██████████| 50/50 [00:04<00:00, 12.32it/s]\n"
     ]
    },
    {
     "name": "stdout",
     "output_type": "stream",
     "text": [
      "loss:  1.1169524192810059  l_d:  0.08602732419967651  l_e:  0.08602732419967651  l_g:  0.23622442781925201\n",
      "Epoch 193 : \n"
     ]
    },
    {
     "name": "stderr",
     "output_type": "stream",
     "text": [
      "100%|██████████| 50/50 [00:03<00:00, 12.99it/s]\n"
     ]
    },
    {
     "name": "stdout",
     "output_type": "stream",
     "text": [
      "loss:  0.6409170627593994  l_d:  0.08857430517673492  l_e:  0.08857430517673492  l_g:  0.11594211310148239\n",
      "Epoch 194 : \n"
     ]
    },
    {
     "name": "stderr",
     "output_type": "stream",
     "text": [
      "100%|██████████| 50/50 [00:03<00:00, 13.61it/s]\n"
     ]
    },
    {
     "name": "stdout",
     "output_type": "stream",
     "text": [
      "loss:  1.5341248512268066  l_d:  0.2489663064479828  l_e:  0.2489663064479828  l_g:  0.25904807448387146\n",
      "Epoch 195 : \n"
     ]
    },
    {
     "name": "stderr",
     "output_type": "stream",
     "text": [
      "100%|██████████| 50/50 [00:03<00:00, 13.99it/s]\n"
     ]
    },
    {
     "name": "stdout",
     "output_type": "stream",
     "text": [
      "loss:  0.9835963845252991  l_d:  0.08685676008462906  l_e:  0.08685676008462906  l_g:  0.20247071981430054\n",
      "Epoch 196 : \n"
     ]
    },
    {
     "name": "stderr",
     "output_type": "stream",
     "text": [
      "100%|██████████| 50/50 [00:03<00:00, 13.95it/s]\n"
     ]
    },
    {
     "name": "stdout",
     "output_type": "stream",
     "text": [
      "loss:  0.8022078275680542  l_d:  0.08594273030757904  l_e:  0.08594273030757904  l_g:  0.15758058428764343\n",
      "Epoch 197 : \n"
     ]
    },
    {
     "name": "stderr",
     "output_type": "stream",
     "text": [
      "100%|██████████| 50/50 [00:03<00:00, 14.22it/s]\n"
     ]
    },
    {
     "name": "stdout",
     "output_type": "stream",
     "text": [
      "loss:  0.9354705810546875  l_d:  0.08858013153076172  l_e:  0.08858013153076172  l_g:  0.18957757949829102\n",
      "Epoch 198 : \n"
     ]
    },
    {
     "name": "stderr",
     "output_type": "stream",
     "text": [
      "100%|██████████| 50/50 [00:03<00:00, 13.17it/s]\n"
     ]
    },
    {
     "name": "stdout",
     "output_type": "stream",
     "text": [
      "loss:  0.7945247888565063  l_d:  0.09238006174564362  l_e:  0.09238006919622421  l_g:  0.15244115889072418\n",
      "Epoch 199 : \n"
     ]
    },
    {
     "name": "stderr",
     "output_type": "stream",
     "text": [
      "100%|██████████| 50/50 [00:03<00:00, 12.71it/s]\n"
     ]
    },
    {
     "name": "stdout",
     "output_type": "stream",
     "text": [
      "loss:  1.2391183376312256  l_d:  0.2547004520893097  l_e:  0.2547004520893097  l_g:  0.18242934346199036\n"
     ]
    }
   ],
   "source": [
    "train_d2c(200, 0.0005, 1, 0.00001, 4)"
   ]
  },
  {
   "cell_type": "code",
   "execution_count": null,
   "metadata": {},
   "outputs": [],
   "source": [
    "train_d2c(200, 0.0005, 0.99, 0.0000)"
   ]
  },
  {
   "cell_type": "code",
   "execution_count": 18,
   "metadata": {},
   "outputs": [
    {
     "data": {
      "image/png": "[encoded data removed]",
      "text/plain": [
       "<Figure size 640x480 with 1 Axes>"
      ]
     },
     "metadata": {},
     "output_type": "display_data"
    }
   ],
   "source": [
    "test_d2c(encoder, decoder, ddpm, 101)"
   ]
  },
  {
   "cell_type": "code",
   "execution_count": 21,
   "metadata": {},
   "outputs": [
    {
     "data": {
      "image/png": "[encoded data removed]",
      "text/plain": [
       "<Figure size 640x480 with 1 Axes>"
      ]
     },
     "metadata": {},
     "output_type": "display_data"
    }
   ],
   "source": [
    "tensor_to_picture(test_data[101].detach().cpu().numpy()[0][0])"
   ]
  },
  {
   "cell_type": "code",
   "execution_count": 28,
   "metadata": {},
   "outputs": [],
   "source": [
    "def interpolation(target1, target2):\n",
    "    z1 = encoder(test_data[target1])\n",
    "    z2 = encoder(test_data[target2])\n",
    "    for i in range(11):\n",
    "        z = (i/10)*z1+(10-i)/10*z2\n",
    "        tensor_to_picture(decoder(z).detach().cpu().numpy()[0][0])\n",
    "        "
   ]
  },
  {
   "cell_type": "code",
   "execution_count": 31,
   "metadata": {
    "scrolled": true
   },
   "outputs": [
    {
     "data": {
      "image/png": "[encoded data removed]",
      "text/plain": [
       "<Figure size 640x480 with 1 Axes>"
      ]
     },
     "metadata": {},
     "output_type": "display_data"
    },
    {
     "data": {
      "image/png": "[encoded data removed]",
      "text/plain": [
       "<Figure size 640x480 with 1 Axes>"
      ]
     },
     "metadata": {},
     "output_type": "display_data"
    },
    {
     "data": {
      "image/png": "[encoded data removed]",
      "text/plain": [
       "<Figure size 640x480 with 1 Axes>"
      ]
     },
     "metadata": {},
     "output_type": "display_data"
    },
    {
     "data": {
      "image/png": "[encoded data removed]",
      "text/plain": [
       "<Figure size 640x480 with 1 Axes>"
      ]
     },
     "metadata": {},
     "output_type": "display_data"
    },
    {
     "data": {
      "image/png": "[encoded data removed]",
      "text/plain": [
       "<Figure size 640x480 with 1 Axes>"
      ]
     },
     "metadata": {},
     "output_type": "display_data"
    },
    {
     "data": {
      "image/png": "[encoded data removed]",
      "text/plain": [
       "<Figure size 640x480 with 1 Axes>"
      ]
     },
     "metadata": {},
     "output_type": "display_data"
    },
    {
     "data": {
      "image/png": "[encoded data removed]",
      "text/plain": [
       "<Figure size 640x480 with 1 Axes>"
      ]
     },
     "metadata": {},
     "output_type": "display_data"
    },
    {
     "data": {
      "image/png": "[encoded data removed]",
      "text/plain": [
       "<Figure size 640x480 with 1 Axes>"
      ]
     },
     "metadata": {},
     "output_type": "display_data"
    },
    {
     "data": {
      "image/png": "[encoded data removed]",
      "text/plain": [
       "<Figure size 640x480 with 1 Axes>"
      ]
     },
     "metadata": {},
     "output_type": "display_data"
    },
    {
     "data": {
      "image/png": "[encoded data removed]",
      "text/plain": [
       "<Figure size 640x480 with 1 Axes>"
      ]
     },
     "metadata": {},
     "output_type": "display_data"
    },
    {
     "data": {
      "image/png": "[encoded data removed]",
      "text/plain": [
       "<Figure size 640x480 with 1 Axes>"
      ]
     },
     "metadata": {},
     "output_type": "display_data"
    }
   ],
   "source": [
    "interpolation(90, 101)"
   ]
  },
  {
   "cell_type": "code",
   "execution_count": null,
   "metadata": {},
   "outputs": [],
   "source": []
  }
 ],
 "metadata": {
  "kernelspec": {
   "display_name": "Python 3",
   "language": "python",
   "name": "python3"
  },
  "language_info": {
   "codemirror_mode": {
    "name": "ipython",
    "version": 3
   },
   "file_extension": ".py",
   "mimetype": "text/x-python",
   "name": "python",
   "nbconvert_exporter": "python",
   "pygments_lexer": "ipython3",
   "version": "3.7.6"
  }
 },
 "nbformat": 4,
 "nbformat_minor": 4
}
